{
 "cells": [
  {
   "cell_type": "code",
   "execution_count": 1,
   "id": "470465cd",
   "metadata": {},
   "outputs": [],
   "source": [
    "import pandas as pd\n",
    "import numpy as np\n",
    "import matplotlib.pyplot as plt \n",
    "import seaborn as sns \n",
    "from sklearn.model_selection import train_test_split\n",
    "from sklearn import metrics\n",
    "import statsmodels.api as sm\n",
    "from sklearn.feature_selection import chi2\n",
    "from sklearn.metrics import roc_auc_score\n",
    "from sklearn.tree import DecisionTreeClassifier\n",
    "from sklearn.preprocessing import StandardScaler\n",
    "from sklearn.metrics import confusion_matrix\n",
    "from sklearn.metrics import f1_score\n",
    "from sklearn.metrics import accuracy_score\n",
    "from sklearn.metrics import classification_report\n",
    "from sklearn.preprocessing import MinMaxScaler\n",
    "from sklearn import tree\n",
    "from sklearn.linear_model import Lasso\n",
    "from sklearn.model_selection import GridSearchCV, KFold\n",
    "from sklearn.datasets import load_iris\n",
    "from sklearn.linear_model import LogisticRegression, LinearRegression\n",
    "from sklearn.model_selection import cross_val_score\n",
    "from sklearn.model_selection import cross_val_score"
   ]
  },
  {
   "cell_type": "code",
   "execution_count": 2,
   "id": "b17b0401",
   "metadata": {},
   "outputs": [],
   "source": [
    "df=pd.read_spss(\"C:/Users/USER/OneDrive/Desktop/Mamun Sir Project/Age at Early Marrige/Age at early Marriage.sav\")"
   ]
  },
  {
   "cell_type": "code",
   "execution_count": 3,
   "id": "a5b85c64",
   "metadata": {},
   "outputs": [
    {
     "data": {
      "text/html": [
       "<div>\n",
       "<style scoped>\n",
       "    .dataframe tbody tr th:only-of-type {\n",
       "        vertical-align: middle;\n",
       "    }\n",
       "\n",
       "    .dataframe tbody tr th {\n",
       "        vertical-align: top;\n",
       "    }\n",
       "\n",
       "    .dataframe thead th {\n",
       "        text-align: right;\n",
       "    }\n",
       "</style>\n",
       "<table border=\"1\" class=\"dataframe\">\n",
       "  <thead>\n",
       "    <tr style=\"text-align: right;\">\n",
       "      <th></th>\n",
       "      <th>Respondent_current_age</th>\n",
       "      <th>Division</th>\n",
       "      <th>Types_of_place_of_residence</th>\n",
       "      <th>Highest_educational_level</th>\n",
       "      <th>Religion</th>\n",
       "      <th>Literacy</th>\n",
       "      <th>Husband_desire_for_children</th>\n",
       "      <th>Exposure</th>\n",
       "      <th>Husband_education_level</th>\n",
       "      <th>Respondent_currently_working</th>\n",
       "      <th>Weath_index_combined</th>\n",
       "      <th>Age_at_first_birth</th>\n",
       "      <th>Current_contraceptive_method</th>\n",
       "      <th>Ideal_number_of_children</th>\n",
       "      <th>Husband_age</th>\n",
       "      <th>Age_at_first_marriage</th>\n",
       "      <th>Occupation_of_husband</th>\n",
       "    </tr>\n",
       "  </thead>\n",
       "  <tbody>\n",
       "    <tr>\n",
       "      <th>0</th>\n",
       "      <td>46-49</td>\n",
       "      <td>Barisal</td>\n",
       "      <td>Urban</td>\n",
       "      <td>Secondary</td>\n",
       "      <td>Islam</td>\n",
       "      <td>can not read at all</td>\n",
       "      <td>Husband wants fewer</td>\n",
       "      <td>Fecund</td>\n",
       "      <td>Primary</td>\n",
       "      <td>No</td>\n",
       "      <td>Middle</td>\n",
       "      <td>12-20</td>\n",
       "      <td>Traditional Method</td>\n",
       "      <td>2 or less</td>\n",
       "      <td>17-30</td>\n",
       "      <td>Early marriage</td>\n",
       "      <td>Proffesional</td>\n",
       "    </tr>\n",
       "    <tr>\n",
       "      <th>1</th>\n",
       "      <td>46-49</td>\n",
       "      <td>Sylhet</td>\n",
       "      <td>Rural</td>\n",
       "      <td>No education</td>\n",
       "      <td>Islam</td>\n",
       "      <td>can not read at all</td>\n",
       "      <td>Don't know</td>\n",
       "      <td>Fecund</td>\n",
       "      <td>Primary</td>\n",
       "      <td>No</td>\n",
       "      <td>Richer</td>\n",
       "      <td>12-20</td>\n",
       "      <td>No Method</td>\n",
       "      <td>2 or less</td>\n",
       "      <td>31-50</td>\n",
       "      <td>Early marriage</td>\n",
       "      <td>Did not work</td>\n",
       "    </tr>\n",
       "    <tr>\n",
       "      <th>2</th>\n",
       "      <td>46-49</td>\n",
       "      <td>Sylhet</td>\n",
       "      <td>Rural</td>\n",
       "      <td>Primary</td>\n",
       "      <td>Islam</td>\n",
       "      <td>can not read at all</td>\n",
       "      <td>Husband wants fewer</td>\n",
       "      <td>Fecund</td>\n",
       "      <td>Primary</td>\n",
       "      <td>No</td>\n",
       "      <td>Richer</td>\n",
       "      <td>12-20</td>\n",
       "      <td>Traditional Method</td>\n",
       "      <td>3 or more</td>\n",
       "      <td>31-50</td>\n",
       "      <td>Late marriage</td>\n",
       "      <td>Did not work</td>\n",
       "    </tr>\n",
       "    <tr>\n",
       "      <th>3</th>\n",
       "      <td>46-49</td>\n",
       "      <td>Barisal</td>\n",
       "      <td>Rural</td>\n",
       "      <td>Higher</td>\n",
       "      <td>Islam</td>\n",
       "      <td>can not read at all</td>\n",
       "      <td>Both want same</td>\n",
       "      <td>Fecund</td>\n",
       "      <td>Higher</td>\n",
       "      <td>No</td>\n",
       "      <td>Richest</td>\n",
       "      <td>12-20</td>\n",
       "      <td>Traditional Method</td>\n",
       "      <td>2 or less</td>\n",
       "      <td>31-50</td>\n",
       "      <td>Early marriage</td>\n",
       "      <td>Did not work</td>\n",
       "    </tr>\n",
       "    <tr>\n",
       "      <th>4</th>\n",
       "      <td>46-49</td>\n",
       "      <td>Rajshahi</td>\n",
       "      <td>Urban</td>\n",
       "      <td>No education</td>\n",
       "      <td>Islam</td>\n",
       "      <td>can not read at all</td>\n",
       "      <td>Both want same</td>\n",
       "      <td>Fecund</td>\n",
       "      <td>No education</td>\n",
       "      <td>Yes</td>\n",
       "      <td>Richer</td>\n",
       "      <td>12-20</td>\n",
       "      <td>No Method</td>\n",
       "      <td>2 or less</td>\n",
       "      <td>31-50</td>\n",
       "      <td>Early marriage</td>\n",
       "      <td>Did not work</td>\n",
       "    </tr>\n",
       "  </tbody>\n",
       "</table>\n",
       "</div>"
      ],
      "text/plain": [
       "  Respondent_current_age  Division Types_of_place_of_residence  \\\n",
       "0                  46-49   Barisal                       Urban   \n",
       "1                  46-49    Sylhet                       Rural   \n",
       "2                  46-49    Sylhet                       Rural   \n",
       "3                  46-49   Barisal                       Rural   \n",
       "4                  46-49  Rajshahi                       Urban   \n",
       "\n",
       "  Highest_educational_level Religion             Literacy  \\\n",
       "0                 Secondary    Islam  can not read at all   \n",
       "1              No education    Islam  can not read at all   \n",
       "2                   Primary    Islam  can not read at all   \n",
       "3                    Higher    Islam  can not read at all   \n",
       "4              No education    Islam  can not read at all   \n",
       "\n",
       "  Husband_desire_for_children Exposure Husband_education_level  \\\n",
       "0         Husband wants fewer   Fecund                 Primary   \n",
       "1                  Don't know   Fecund                 Primary   \n",
       "2         Husband wants fewer   Fecund                 Primary   \n",
       "3              Both want same   Fecund                  Higher   \n",
       "4              Both want same   Fecund            No education   \n",
       "\n",
       "  Respondent_currently_working Weath_index_combined Age_at_first_birth  \\\n",
       "0                           No               Middle              12-20   \n",
       "1                           No               Richer              12-20   \n",
       "2                           No               Richer              12-20   \n",
       "3                           No              Richest              12-20   \n",
       "4                          Yes               Richer              12-20   \n",
       "\n",
       "  Current_contraceptive_method Ideal_number_of_children Husband_age  \\\n",
       "0           Traditional Method                2 or less       17-30   \n",
       "1                    No Method                2 or less       31-50   \n",
       "2           Traditional Method                3 or more       31-50   \n",
       "3           Traditional Method                2 or less       31-50   \n",
       "4                    No Method                2 or less       31-50   \n",
       "\n",
       "  Age_at_first_marriage Occupation_of_husband  \n",
       "0        Early marriage          Proffesional  \n",
       "1        Early marriage          Did not work  \n",
       "2         Late marriage          Did not work  \n",
       "3        Early marriage          Did not work  \n",
       "4        Early marriage          Did not work  "
      ]
     },
     "execution_count": 3,
     "metadata": {},
     "output_type": "execute_result"
    }
   ],
   "source": [
    "df.head()"
   ]
  },
  {
   "cell_type": "code",
   "execution_count": null,
   "id": "3383c4e9",
   "metadata": {},
   "outputs": [],
   "source": [
    "#df_csv=pd.read_csv(\"C:/Users/USER/OneDrive/Desktop/Mamun Sir Project/Age at Early Marrige/Age at early Marriage.csv\")"
   ]
  },
  {
   "cell_type": "code",
   "execution_count": null,
   "id": "0c1e6e6c",
   "metadata": {},
   "outputs": [],
   "source": [
    "#df_csv.head()"
   ]
  },
  {
   "cell_type": "code",
   "execution_count": 4,
   "id": "02d37932",
   "metadata": {},
   "outputs": [
    {
     "data": {
      "text/plain": [
       "Respondent_current_age          0\n",
       "Division                        0\n",
       "Types_of_place_of_residence     0\n",
       "Highest_educational_level       0\n",
       "Religion                        0\n",
       "Literacy                        0\n",
       "Husband_desire_for_children     0\n",
       "Exposure                        0\n",
       "Husband_education_level         0\n",
       "Respondent_currently_working    0\n",
       "Weath_index_combined            0\n",
       "Age_at_first_birth              0\n",
       "Current_contraceptive_method    0\n",
       "Ideal_number_of_children        0\n",
       "Husband_age                     0\n",
       "Age_at_first_marriage           0\n",
       "Occupation_of_husband           0\n",
       "dtype: int64"
      ]
     },
     "execution_count": 4,
     "metadata": {},
     "output_type": "execute_result"
    }
   ],
   "source": [
    "# df_csv is an object of pandas's class and the isnull , Sum is the method under the class \n",
    "df.isnull().sum()"
   ]
  },
  {
   "cell_type": "code",
   "execution_count": 5,
   "id": "a205dcd9",
   "metadata": {},
   "outputs": [
    {
     "name": "stdout",
     "output_type": "stream",
     "text": [
      "<class 'pandas.core.frame.DataFrame'>\n",
      "RangeIndex: 15943 entries, 0 to 15942\n",
      "Data columns (total 17 columns):\n",
      " #   Column                        Non-Null Count  Dtype   \n",
      "---  ------                        --------------  -----   \n",
      " 0   Respondent_current_age        15943 non-null  category\n",
      " 1   Division                      15943 non-null  category\n",
      " 2   Types_of_place_of_residence   15943 non-null  category\n",
      " 3   Highest_educational_level     15943 non-null  category\n",
      " 4   Religion                      15943 non-null  category\n",
      " 5   Literacy                      15943 non-null  category\n",
      " 6   Husband_desire_for_children   15943 non-null  category\n",
      " 7   Exposure                      15943 non-null  category\n",
      " 8   Husband_education_level       15943 non-null  category\n",
      " 9   Respondent_currently_working  15943 non-null  category\n",
      " 10  Weath_index_combined          15943 non-null  category\n",
      " 11  Age_at_first_birth            15943 non-null  category\n",
      " 12  Current_contraceptive_method  15943 non-null  category\n",
      " 13  Ideal_number_of_children      15943 non-null  category\n",
      " 14  Husband_age                   15943 non-null  category\n",
      " 15  Age_at_first_marriage         15943 non-null  category\n",
      " 16  Occupation_of_husband         15943 non-null  category\n",
      "dtypes: category(17)\n",
      "memory usage: 267.8 KB\n"
     ]
    }
   ],
   "source": [
    "df.info()"
   ]
  },
  {
   "cell_type": "code",
   "execution_count": 6,
   "id": "7dfe76d5",
   "metadata": {},
   "outputs": [
    {
     "data": {
      "text/plain": [
       "1251"
      ]
     },
     "execution_count": 6,
     "metadata": {},
     "output_type": "execute_result"
    }
   ],
   "source": [
    "df.duplicated().sum()"
   ]
  },
  {
   "cell_type": "code",
   "execution_count": 7,
   "id": "cb13496e",
   "metadata": {},
   "outputs": [],
   "source": [
    "df.drop_duplicates(inplace=True)"
   ]
  },
  {
   "cell_type": "code",
   "execution_count": 8,
   "id": "11750fc3",
   "metadata": {},
   "outputs": [
    {
     "name": "stdout",
     "output_type": "stream",
     "text": [
      "<class 'pandas.core.frame.DataFrame'>\n",
      "Int64Index: 14692 entries, 0 to 15941\n",
      "Data columns (total 17 columns):\n",
      " #   Column                        Non-Null Count  Dtype   \n",
      "---  ------                        --------------  -----   \n",
      " 0   Respondent_current_age        14692 non-null  category\n",
      " 1   Division                      14692 non-null  category\n",
      " 2   Types_of_place_of_residence   14692 non-null  category\n",
      " 3   Highest_educational_level     14692 non-null  category\n",
      " 4   Religion                      14692 non-null  category\n",
      " 5   Literacy                      14692 non-null  category\n",
      " 6   Husband_desire_for_children   14692 non-null  category\n",
      " 7   Exposure                      14692 non-null  category\n",
      " 8   Husband_education_level       14692 non-null  category\n",
      " 9   Respondent_currently_working  14692 non-null  category\n",
      " 10  Weath_index_combined          14692 non-null  category\n",
      " 11  Age_at_first_birth            14692 non-null  category\n",
      " 12  Current_contraceptive_method  14692 non-null  category\n",
      " 13  Ideal_number_of_children      14692 non-null  category\n",
      " 14  Husband_age                   14692 non-null  category\n",
      " 15  Age_at_first_marriage         14692 non-null  category\n",
      " 16  Occupation_of_husband         14692 non-null  category\n",
      "dtypes: category(17)\n",
      "memory usage: 361.7 KB\n"
     ]
    }
   ],
   "source": [
    "df.info()"
   ]
  },
  {
   "cell_type": "markdown",
   "id": "ab6af41a",
   "metadata": {},
   "source": [
    "# Feature Engineering"
   ]
  },
  {
   "cell_type": "markdown",
   "id": "49ce9f7c",
   "metadata": {},
   "source": [
    "# Encoding"
   ]
  },
  {
   "cell_type": "code",
   "execution_count": null,
   "id": "5bdc2868",
   "metadata": {},
   "outputs": [],
   "source": [
    "for i in df.columns:\n",
    "   a=df[i].nunique()\n",
    "   print(i,    a)\n",
    " "
   ]
  },
  {
   "cell_type": "markdown",
   "id": "5910753d",
   "metadata": {},
   "source": [
    "Ordinal Encoding : 11 columns\n",
    "\n",
    "Highest_educational_level, \n",
    "Literacy, \n",
    "Husband_education_level, \n",
    "Respondent_currently_working, \n",
    "Weath_index_combined, \n",
    "Occupation_of_husband , \n",
    "Ideal_number_of_children , \n",
    "Occupation_of_husband,\n",
    "Husband_age,\n",
    "Respondent_current_age\n",
    "\n",
    "\n",
    "\n",
    "One hot encoding : 6 columns\n",
    "\n",
    "Division ,\n",
    "\n",
    "Types_of_place_of_residence  ,\n",
    "Religion ,  \n",
    "\n",
    "Husband_desire_for_children , \n",
    "\n",
    "Exposure  , \n",
    "\n",
    "Current_contraceptive_method , \n",
    "\n",
    "\n",
    "Label Encoding: 1 column\n",
    "\n",
    "Age_at_first_marriage"
   ]
  },
  {
   "cell_type": "code",
   "execution_count": null,
   "id": "832bf5b3",
   "metadata": {},
   "outputs": [],
   "source": [
    "from sklearn.preprocessing import OneHotEncoder\n",
    "from sklearn.preprocessing import OrdinalEncoder\n",
    "from sklearn.preprocessing import LabelEncoder"
   ]
  },
  {
   "cell_type": "markdown",
   "id": "466e62ee",
   "metadata": {},
   "source": [
    "# Ordinal Encoding"
   ]
  },
  {
   "cell_type": "code",
   "execution_count": null,
   "id": "d0e5135f",
   "metadata": {},
   "outputs": [],
   "source": [
    "# Separate features and target\n",
    "X= df.drop('Age_at_first_marriage', axis=1)\n",
    "y = df['Age_at_first_marriage']\n",
    "\n",
    "# Split data into training and testing sets\n",
    "X_train, X_test, y_train, y_test = train_test_split(X, y, test_size=0.2, random_state=42)"
   ]
  },
  {
   "cell_type": "code",
   "execution_count": null,
   "id": "03e80fbd",
   "metadata": {},
   "outputs": [],
   "source": [
    "df.Occupation_of_husband.unique()"
   ]
  },
  {
   "cell_type": "code",
   "execution_count": null,
   "id": "450ba30f",
   "metadata": {},
   "outputs": [],
   "source": [
    "# Ordinalencoding ->\n",
    "oe = OrdinalEncoder(categories=[['No education','Primary','Secondary','Higher'],['can not read at all', 'Able to read only parts of sentence', 'Able to read Whole sentence'],[ 'Don\\'t know','No education','Primary','Secondary','Higher'],['No', 'Yes'],[ 'Poorer', 'Poorest','Middle', 'Richer', 'Richest',],['2 or less', '3 or more'],['Proffesional', 'Did not work'],['17-30', '31-50', 'more than 50'],['46-49', '41-45', '36-40', '31-35', '26-30', '21-25', '15-20']]).set_output(transform='pandas')\n",
    "X_train_cough = oe.fit_transform(X_train[['Highest_educational_level','Literacy','Husband_education_level','Respondent_currently_working','Weath_index_combined','Ideal_number_of_children','Occupation_of_husband','Husband_age','Respondent_current_age']])\n",
    "\n",
    "# also the test data\n",
    "X_test_cough = oe.fit_transform(X_test[['Highest_educational_level','Literacy','Husband_education_level','Respondent_currently_working','Weath_index_combined','Ideal_number_of_children','Occupation_of_husband','Husband_age','Respondent_current_age']])\n",
    "\n",
    "X_train_cough"
   ]
  },
  {
   "cell_type": "markdown",
   "id": "9d5951cc",
   "metadata": {},
   "source": [
    "# One hot encoding"
   ]
  },
  {
   "cell_type": "code",
   "execution_count": null,
   "id": "fcf2c606",
   "metadata": {},
   "outputs": [],
   "source": [
    "# OneHotEncoding -> Division ,  Types_of_place_of_residence  ,Religion ,  Husband_desire_for_children ,  Exposure  , Current_contraceptive_method ,\n",
    "\n",
    "ohe = OneHotEncoder(drop='first',sparse_output=False).set_output(transform='pandas')\n",
    "X_train_gender_city = ohe.fit_transform(X_train[['Division','Types_of_place_of_residence','Religion','Husband_desire_for_children','Exposure','Current_contraceptive_method']])\n",
    "\n",
    "# also the test data\n",
    "X_test_gender_city = ohe.fit_transform(X_test[['Division','Types_of_place_of_residence','Religion','Husband_desire_for_children','Exposure','Current_contraceptive_method']])\n",
    "\n",
    "X_train_gender_city"
   ]
  },
  {
   "cell_type": "markdown",
   "id": "c640cded",
   "metadata": {},
   "source": [
    "# Label encoding"
   ]
  },
  {
   "cell_type": "code",
   "execution_count": null,
   "id": "2c9f0cde",
   "metadata": {},
   "outputs": [],
   "source": [
    "# 0-Early \n",
    "# 1-Late\n",
    "\n",
    "from sklearn.preprocessing import LabelEncoder\n",
    "le = LabelEncoder()\n",
    "le.fit(y_train)\n",
    "le.classes_"
   ]
  },
  {
   "cell_type": "code",
   "execution_count": null,
   "id": "fb9a5838",
   "metadata": {},
   "outputs": [],
   "source": [
    "y_train = le.transform(y_train)\n",
    "y_test = le.transform(y_test)\n",
    "y_train=pd.DataFrame(y_train)\n",
    "y_test=pd.DataFrame(y_test)"
   ]
  },
  {
   "cell_type": "markdown",
   "id": "03ebf666",
   "metadata": {},
   "source": [
    "# Concate the Columns "
   ]
  },
  {
   "cell_type": "code",
   "execution_count": null,
   "id": "23e487af",
   "metadata": {},
   "outputs": [],
   "source": [
    "x_train=pd.concat([X_train_cough,X_train_gender_city],axis=1)\n",
    "x_test=pd.concat([X_test_cough,X_test_gender_city],axis=1)"
   ]
  },
  {
   "cell_type": "markdown",
   "id": "487cb4cb",
   "metadata": {},
   "source": [
    "# Making DataFrame"
   ]
  },
  {
   "cell_type": "code",
   "execution_count": null,
   "id": "50443518",
   "metadata": {},
   "outputs": [],
   "source": [
    "total_X=pd.concat([x_train,x_test])\n",
    "total_y=pd.concat([y_train,y_test])\n",
    "total_y.rename(columns = {0:'Age at Early Marrige'}, inplace = True) "
   ]
  },
  {
   "cell_type": "code",
   "execution_count": null,
   "id": "c34800e2",
   "metadata": {},
   "outputs": [],
   "source": [
    "total_y.info()\n",
    "total_X.info()"
   ]
  },
  {
   "cell_type": "markdown",
   "id": "e6c15e52",
   "metadata": {},
   "source": [
    "# Oversampling "
   ]
  },
  {
   "cell_type": "raw",
   "id": "dac1723b",
   "metadata": {},
   "source": [
    "SMOTE technique always want the integer type dataset (X_train must to be int) \n",
    "Try this : X_train = X_before_oversampled_train.astype('int')"
   ]
  },
  {
   "cell_type": "code",
   "execution_count": null,
   "id": "13ff001e",
   "metadata": {},
   "outputs": [],
   "source": [
    "from sklearn.model_selection import train_test_split\n",
    "from imblearn.over_sampling import SMOTE\n",
    "X_before_oversampled_train, X_before_oversampled_test, y_before_oversampled_train, y_before_oversampled_test = train_test_split(total_X,total_y, test_size=0.3, random_state=0)"
   ]
  },
  {
   "cell_type": "code",
   "execution_count": null,
   "id": "b4326749",
   "metadata": {},
   "outputs": [],
   "source": [
    "X_before_oversampled_train"
   ]
  },
  {
   "cell_type": "code",
   "execution_count": null,
   "id": "1efbf245",
   "metadata": {},
   "outputs": [],
   "source": [
    "import imblearn.over_sampling as sm\n",
    "\n",
    "# Assuming your data is already preprocessed\n",
    "X_train = X_before_oversampled_train.astype('int')\n",
    "y_train = y_before_oversampled_train\n",
    "\n",
    "# Create an SMOTE instance with a random seed for reproducibility\n",
    "smo = sm.SMOTE(random_state=2)\n",
    "\n",
    "# Oversample the data using SMOTE\n",
    "X_train_oversampled, y_train_oversampled=smo.fit_resample(X_train, y_train)"
   ]
  },
  {
   "cell_type": "code",
   "execution_count": null,
   "id": "95c51dc4",
   "metadata": {
    "scrolled": true
   },
   "outputs": [],
   "source": [
    "print('After OverSampling, the shape of train_X: {}'.format(X_train_oversampled.shape)) \n",
    "print('After OverSampling, the shape of train_y: {} \\n'.format(y_train_oversampled.shape)) \n",
    "  \n",
    "print(\"After OverSampling, counts of label '1': {}\".format(np.sum(y_train_oversampled == 1))) \n",
    "print(\"After OverSampling, counts of label '0': {}\".format(np.sum(y_train_oversampled == 1))) "
   ]
  },
  {
   "cell_type": "markdown",
   "id": "2e64aa25",
   "metadata": {},
   "source": [
    "# Multicolinearity"
   ]
  },
  {
   "cell_type": "code",
   "execution_count": null,
   "id": "410e79db",
   "metadata": {},
   "outputs": [],
   "source": [
    "X_Feature_Selection=total_X\n",
    "y_Feature_Selection=total_y\n",
    "y_Feature_Selection.rename(columns = {0:'Age at Early Marrige'}, inplace = True) "
   ]
  },
  {
   "cell_type": "code",
   "execution_count": null,
   "id": "55fa7c56",
   "metadata": {},
   "outputs": [],
   "source": [
    "from sklearn.model_selection import train_test_split\n",
    "\n",
    "# Split data into training and testing sets\n",
    "X_train_Feature_Selection, X_test_Feature_Selection, y_train_Feature_Selection, y_test_Feature_Selection = train_test_split(X_Feature_Selection, y_Feature_Selection, test_size=0.3, random_state=0)"
   ]
  },
  {
   "cell_type": "code",
   "execution_count": null,
   "id": "8beb9075",
   "metadata": {},
   "outputs": [],
   "source": [
    "#Multicolinearity Test \n",
    "plt.figure(figsize=(25,20))\n",
    "sns.heatmap(X_Feature_Selection.corr(),cmap=\"Greens\", annot=True)\n",
    "sns.color_palette(\"Paired\")"
   ]
  },
  {
   "cell_type": "code",
   "execution_count": null,
   "id": "306fceb4",
   "metadata": {},
   "outputs": [],
   "source": [
    "lasso1 = Lasso(alpha=0.00001)\n",
    "lasso1.fit(X_train_Feature_Selection, y_train_Feature_Selection)\n",
    "\n",
    "# Using np.abs() to make coefficients positive.  \n",
    "lasso1_coef = np.abs(lasso1.coef_)\n",
    "\n",
    "# plotting the Column Names and Importance of Columns.\n",
    "names=X_train_Feature_Selection.columns\n",
    "plt.figure(figsize=(25,20))\n",
    "plt.bar(names, lasso1_coef)\n",
    "plt.xticks(rotation=90)\n",
    "plt.grid()\n",
    "plt.title(\"Feature Selection Based on Lasso\")\n",
    "plt.xlabel(\"Features\")\n",
    "plt.ylabel(\"Importance\")\n",
    "plt.ylim(0,1)\n",
    "plt.show()"
   ]
  },
  {
   "cell_type": "code",
   "execution_count": null,
   "id": "2c83c85f",
   "metadata": {},
   "outputs": [],
   "source": [
    "import os \n",
    "os.getcwd()"
   ]
  },
  {
   "cell_type": "markdown",
   "id": "0b5e1779",
   "metadata": {},
   "source": [
    "<img src =\"Boruta Early Age Black phot.png\">"
   ]
  },
  {
   "cell_type": "markdown",
   "id": "4ea292c4",
   "metadata": {},
   "source": [
    "# R studio Showing not identified features\n",
    "Husband_desire_for_children,\n",
    "\n",
    "Ideal_number_of_children,\n",
    "\n",
    "Occupation_of_husband,\n",
    "\n",
    "Respondent_currently_working,"
   ]
  },
  {
   "cell_type": "code",
   "execution_count": null,
   "id": "32167ea5",
   "metadata": {},
   "outputs": [],
   "source": [
    "chi_scores = chi2(X_train_Feature_Selection, y_train_Feature_Selection)\n",
    "chi_scores"
   ]
  },
  {
   "cell_type": "code",
   "execution_count": null,
   "id": "0330c1c9",
   "metadata": {},
   "outputs": [],
   "source": [
    "X.info()"
   ]
  },
  {
   "cell_type": "code",
   "execution_count": null,
   "id": "baa2a181",
   "metadata": {
    "scrolled": true
   },
   "outputs": [],
   "source": [
    "# Higher the chi value, higher the importance\n",
    "plt.figure(figsize=(25,20))\n",
    "chi_values = pd.Series(chi_scores[0], index=X_train_Feature_Selection.columns)\n",
    "chi_values.sort_values(ascending=False, inplace=True)\n",
    "chi_values.plot.bar()"
   ]
  },
  {
   "cell_type": "code",
   "execution_count": null,
   "id": "79fb14b3",
   "metadata": {},
   "outputs": [],
   "source": [
    "# if p-value > 0.5, lower the importance\n",
    "plt.figure(figsize=(25,20))\n",
    "p_values = pd.Series(chi_scores[1], index=X_train_Feature_Selection.columns)\n",
    "p_values.sort_values(ascending=False, inplace=True)\n",
    "p_values.plot.bar()"
   ]
  },
  {
   "cell_type": "markdown",
   "id": "685c8d3f",
   "metadata": {},
   "source": [
    "# Wrraper Method"
   ]
  },
  {
   "cell_type": "markdown",
   "id": "cf63f013",
   "metadata": {},
   "source": [
    "# Forward selection"
   ]
  },
  {
   "cell_type": "code",
   "execution_count": null,
   "id": "dc3e429b",
   "metadata": {},
   "outputs": [],
   "source": [
    "total_X.head()"
   ]
  },
  {
   "cell_type": "code",
   "execution_count": null,
   "id": "34b350cf",
   "metadata": {},
   "outputs": [],
   "source": [
    "# Wrapper Forward selection\n",
    "\n",
    "from sklearn.model_selection import cross_val_score\n",
    "from sklearn.ensemble import RandomForestClassifier\n",
    "import numpy as np\n",
    "\n",
    "# Replace this with your dataset and labels\n",
    "X = total_X\n",
    "y = total_y\n",
    "\n",
    "# Initialize an empty list to store selected feature indices\n",
    "selected_features = []\n",
    "\n",
    "# Define the machine learning model (in this case, a Random Forest Classifier)\n",
    "model = RandomForestClassifier()\n",
    "\n",
    "# Define the number of features you want to select\n",
    "num_features_to_select = 5\n",
    "\n",
    "while len(selected_features) < num_features_to_select:\n",
    "    best_score = -1\n",
    "    best_feature = None\n",
    "\n",
    "    for feature_idx in range(X.shape[1]):\n",
    "        if feature_idx in selected_features:\n",
    "            continue\n",
    "\n",
    "        # Try adding the feature to the selected set\n",
    "        candidate_features = selected_features + [feature_idx]\n",
    "\n",
    "        # Evaluate the model's performance using cross-validation\n",
    "        scores = cross_val_score(model,X.iloc[:,candidate_features], y.values.ravel(), cv=5, scoring='accuracy')\n",
    "        mean_score = np.mean(scores)\n",
    "\n",
    "        # Keep track of the best-performing feature\n",
    "        if mean_score > best_score:\n",
    "            best_score = mean_score\n",
    "            best_feature = feature_idx\n",
    "\n",
    "    if best_feature is not None:\n",
    "        selected_features.append(best_feature)\n",
    "        print(f\"Selected Feature {len(selected_features)}: {best_feature}, Mean Accuracy: {best_score:.4f}\")\n",
    "\n",
    "print(\"Selected feature indices:\", selected_features)"
   ]
  },
  {
   "cell_type": "code",
   "execution_count": null,
   "id": "3cbaf4ef",
   "metadata": {},
   "outputs": [],
   "source": []
  },
  {
   "cell_type": "code",
   "execution_count": null,
   "id": "73044569",
   "metadata": {},
   "outputs": [],
   "source": [
    "X.info()"
   ]
  },
  {
   "cell_type": "markdown",
   "id": "e957467a",
   "metadata": {},
   "source": [
    "# Exhaustive Methods"
   ]
  },
  {
   "cell_type": "code",
   "execution_count": null,
   "id": "823c11d3",
   "metadata": {},
   "outputs": [],
   "source": [
    "total_X.shape"
   ]
  },
  {
   "cell_type": "code",
   "execution_count": null,
   "id": "6dbe5f43",
   "metadata": {},
   "outputs": [],
   "source": [
    "from mlxtend.feature_selection import ExhaustiveFeatureSelector as EFS\n",
    "lr = LogisticRegression()\n",
    "sel = EFS(lr, max_features=27, scoring='accuracy', cv=5)"
   ]
  },
  {
   "cell_type": "code",
   "execution_count": null,
   "id": "6b721ed2",
   "metadata": {},
   "outputs": [],
   "source": [
    "model = sel.fit(total_X,total_y)"
   ]
  },
  {
   "cell_type": "markdown",
   "id": "f34c945d",
   "metadata": {},
   "source": [
    "# Machine Learning Models "
   ]
  },
  {
   "cell_type": "markdown",
   "id": "418d1a87",
   "metadata": {},
   "source": [
    "# Non Ensemble"
   ]
  },
  {
   "cell_type": "markdown",
   "id": "fa4ce20f",
   "metadata": {},
   "source": [
    "# Decision Tree"
   ]
  },
  {
   "cell_type": "code",
   "execution_count": null,
   "id": "bd18910e",
   "metadata": {},
   "outputs": [],
   "source": [
    "x_train,x_test,y_train,y_test=train_test_split(total_X,total_y,test_size=0.3,random_state=0)"
   ]
  },
  {
   "cell_type": "code",
   "execution_count": null,
   "id": "ff02fa47",
   "metadata": {},
   "outputs": [],
   "source": [
    "from sklearn import tree\n",
    "model= tree.DecisionTreeClassifier() #Making a obj called Model\n",
    "model.fit(x_train,y_train)\n",
    "pred_y_DT= model.predict(X_test_ML)\n",
    "print(\"Accuracy:\",metrics.accuracy_score(y_test, pred_y_DT))"
   ]
  },
  {
   "cell_type": "markdown",
   "id": "08acd4e5",
   "metadata": {},
   "source": [
    "# SVM\n",
    "\n",
    "# Ravel used for convert array \n",
    "y_test_ML.values.ravel()"
   ]
  },
  {
   "cell_type": "code",
   "execution_count": null,
   "id": "62f359e5",
   "metadata": {},
   "outputs": [],
   "source": [
    "from sklearn.svm import SVC\n",
    "svm_model = SVC(kernel=\"linear\", probability=True)\n",
    "\n",
    "svm_model.fit(X_train_ML, y_train_ML)\n",
    "\n",
    "# Multinomial CLassifier\n",
    "# Predict the test set results\n",
    "pred_y_svm= svm_model.predict(X_test_ML)\n",
    "print(\"Normal accuracy: \", accuracy_score(y_test_ML, pred_y_svm))\n",
    "print(classification_report(y_test_ML.values.ravel(),pred_y_svm))"
   ]
  },
  {
   "cell_type": "code",
   "execution_count": null,
   "id": "a559ab46",
   "metadata": {},
   "outputs": [],
   "source": [
    "#Cohen Kappa Score's \n",
    "from sklearn.metrics import cohen_kappa_score\n",
    "cohen_kappa_score(y_test_ML['Age at Early Marrige'],pred_y_svm)"
   ]
  },
  {
   "cell_type": "code",
   "execution_count": null,
   "id": "34f5b473",
   "metadata": {},
   "outputs": [],
   "source": [
    "print(pd.crosstab(y_test_ML.values.ravel(), pred_y_svm))"
   ]
  },
  {
   "cell_type": "code",
   "execution_count": null,
   "id": "bfc6d3de",
   "metadata": {},
   "outputs": [],
   "source": [
    "import numpy as np\n",
    "from scipy import stats\n",
    "\n",
    "z_value = stats.norm.ppf(1 - 0.05 / 2)\n",
    "acc_test = svm_model.score(X_test_ML, y_test_ML['Age at Early Marrige'])\n",
    "ci_length = z_value * np.sqrt((acc_test * (1 - acc_test)) / y_test.shape[0])\n",
    "\n",
    "ci_lower = acc_test - ci_length\n",
    "ci_upper = acc_test + ci_length\n",
    "\n",
    "print(ci_lower, ci_upper)"
   ]
  },
  {
   "cell_type": "code",
   "execution_count": null,
   "id": "a54d6887",
   "metadata": {},
   "outputs": [],
   "source": [
    "from sklearn.linear_model import LogisticRegression\n",
    "from sklearn.datasets import make_classification\n",
    "from sklearn.model_selection import train_test_split\n",
    "from sklearn.metrics import accuracy_score, f1_score, precision_score, recall_score, roc_curve, auc, confusion_matrix\n",
    "import numpy as np\n",
    "import statsmodels.api as sm\n",
    "from sklearn.metrics import cohen_kappa_score\n",
    "from scipy import stats\n",
    "\n",
    "# Compute precision\n",
    "precision = precision_score(y_test_ML, pred_y_svm)\n",
    "print(\"Precision:\", precision)\n",
    "\n",
    "# Compute recall\n",
    "recall = recall_score(y_test_ML, pred_y_svm)\n",
    "print(\"Recall:\", recall)\n",
    "\n",
    "\n",
    "# Make predictions on the test set\n",
    "y_pred = svm_model.predict(X_test_ML)\n",
    "y_pred_proba_log = svm_model.predict_proba(X_test_ML)[:, 1] \n",
    "# Compute ROC curve\n",
    "fpr, tpr, thresholds = roc_curve(y_test_ML, y_pred_proba_log)\n",
    "roc_auc = auc(fpr, tpr)\n",
    "print(\"ROC AUC Score:\", roc_auc)\n",
    "\n",
    "# Plot ROC curve\n",
    "import matplotlib.pyplot as plt\n",
    "plt.figure()\n",
    "plt.plot(fpr, tpr, color='darkorange', lw=2, label='ROC curve (area = %0.2f)' % roc_auc)\n",
    "plt.plot([0, 1], [0, 1], color='navy', lw=2, linestyle='--')\n",
    "plt.xlim([0.0, 1.0])\n",
    "plt.ylim([0.0, 1.05])\n",
    "plt.xlabel('False Positive Rate')\n",
    "plt.ylabel('True Positive Rate')\n",
    "plt.title('Receiver Operating Characteristic (ROC) Curve')\n",
    "plt.legend(loc=\"lower right\")\n",
    "plt.show()"
   ]
  },
  {
   "cell_type": "markdown",
   "id": "b3876b92",
   "metadata": {},
   "source": [
    "# Naive Bayes"
   ]
  },
  {
   "cell_type": "code",
   "execution_count": null,
   "id": "bea28d67",
   "metadata": {},
   "outputs": [],
   "source": [
    "from sklearn.naive_bayes import GaussianNB, MultinomialNB ,BernoulliNB\n",
    "NB_model=BernoulliNB()\n",
    "\n",
    "NB_model.fit(X_train_ML, y_train_ML)\n",
    "\n",
    "# Multinomial CLassifier\n",
    "# Predict the test set results\n",
    "pred_y_Naive_bayes= NB_model.predict(X_test_ML)\n",
    "print(\"Normal accuracy: \", accuracy_score(y_test_ML, pred_y_Naive_bayes))\n",
    "print(classification_report(y_test_ML['Age at Early Marrige'],pred_y_Naive_bayes))\n",
    "print(pd.crosstab(y_test_ML['Age at Early Marrige'], pred_y_Naive_bayes))"
   ]
  },
  {
   "cell_type": "code",
   "execution_count": null,
   "id": "c910608c",
   "metadata": {},
   "outputs": [],
   "source": [
    "#Cohen Kappa Score's \n",
    "from sklearn.metrics import cohen_kappa_score\n",
    "cohen_kappa_score(y_test_ML['Age at Early Marrige'],pred_y_Naive_bayes)"
   ]
  },
  {
   "cell_type": "code",
   "execution_count": null,
   "id": "c990a764",
   "metadata": {},
   "outputs": [],
   "source": [
    "import numpy as np\n",
    "from scipy import stats\n",
    "\n",
    "z_value = stats.norm.ppf(1 - 0.05 / 2)\n",
    "acc_test = NB_model.score(X_test_ML, y_test_ML['Age at Early Marrige'])\n",
    "ci_length = z_value * np.sqrt((acc_test * (1 - acc_test)) / y_test.shape[0])\n",
    "\n",
    "ci_lower = acc_test - ci_length\n",
    "ci_upper = acc_test + ci_length\n",
    "\n",
    "print(ci_lower, ci_upper)"
   ]
  },
  {
   "cell_type": "code",
   "execution_count": null,
   "id": "bd83e84a",
   "metadata": {},
   "outputs": [],
   "source": [
    "#Indetify the Value of N \n",
    "#for i in range(1,21):\n",
    "from sklearn.model_selection import cross_val_score\n",
    "scores_Carrt=cross_val_score(NB_model,X_Feature_Selection, y_Feature_Selection[\"Age at Early Marrige\"],cv=10,scoring='accuracy')\n",
    "print(scores_Carrt.mean())"
   ]
  },
  {
   "cell_type": "code",
   "execution_count": null,
   "id": "ff5b8c7a",
   "metadata": {},
   "outputs": [],
   "source": [
    "#Indetify the Value of N \n",
    "#for i in range(1,21):\n",
    "from sklearn.model_selection import cross_val_score\n",
    "scores_Carrt=cross_val_score(NB_model,X_Feature_Selection, y_Feature_Selection[\"Age at Early Marrige\"],cv=10,scoring='f1')\n",
    "print(scores_Carrt.mean())"
   ]
  },
  {
   "cell_type": "markdown",
   "id": "d2d55617",
   "metadata": {},
   "source": [
    "# Roc curve Naive Bayes"
   ]
  },
  {
   "cell_type": "code",
   "execution_count": null,
   "id": "09ac7e93",
   "metadata": {},
   "outputs": [],
   "source": [
    "from sklearn.linear_model import LogisticRegression\n",
    "from sklearn.datasets import make_classification\n",
    "from sklearn.model_selection import train_test_split\n",
    "from sklearn.metrics import accuracy_score, f1_score, precision_score, recall_score, roc_curve, auc, confusion_matrix\n",
    "import numpy as np\n",
    "import statsmodels.api as sm\n",
    "from sklearn.metrics import cohen_kappa_score\n",
    "from scipy import stats\n",
    "\n",
    "# Compute precision\n",
    "precision = precision_score(y_test_ML, pred_y_svm)\n",
    "print(\"Precision:\", precision)\n",
    "\n",
    "# Compute recall\n",
    "recall = recall_score(y_test_ML, pred_y_svm)\n",
    "print(\"Recall:\", recall)\n",
    "\n",
    "\n",
    "# Make predictions on the test set\n",
    "y_pred = NB_model.predict(X_test_ML)\n",
    "y_pred_proba_log = NB_model.predict_proba(X_test_ML)[:, 1] \n",
    "# Compute ROC curve\n",
    "fpr, tpr, thresholds = roc_curve(y_test_ML, y_pred_proba_log)\n",
    "roc_auc = auc(fpr, tpr)\n",
    "print(\"ROC AUC Score:\", roc_auc)\n",
    "\n",
    "# Plot ROC curve\n",
    "import matplotlib.pyplot as plt\n",
    "plt.figure()\n",
    "plt.plot(fpr, tpr, color='darkorange', lw=2, label='ROC curve (area = %0.2f)' % roc_auc)\n",
    "plt.plot([0, 1], [0, 1], color='navy', lw=2, linestyle='--')\n",
    "plt.xlim([0.0, 1.0])\n",
    "plt.ylim([0.0, 1.05])\n",
    "plt.xlabel('False Positive Rate')\n",
    "plt.ylabel('True Positive Rate')\n",
    "plt.title('Receiver Operating Characteristic (ROC) Curve')\n",
    "plt.legend(loc=\"lower right\")\n",
    "plt.show()"
   ]
  },
  {
   "cell_type": "markdown",
   "id": "7b0cb2f7",
   "metadata": {},
   "source": [
    "# Ensumbel Method"
   ]
  },
  {
   "cell_type": "markdown",
   "id": "29603866",
   "metadata": {},
   "source": [
    "# Random Forest"
   ]
  },
  {
   "cell_type": "code",
   "execution_count": null,
   "id": "b2619d89",
   "metadata": {},
   "outputs": [],
   "source": [
    "X=total_X\n",
    "y=total_y.values.ravel()\n",
    "x_train,x_test,y_train,y_test=train_test_split(X,y,test_size=0.3,random_state=0)"
   ]
  },
  {
   "cell_type": "code",
   "execution_count": null,
   "id": "5514590f",
   "metadata": {},
   "outputs": [],
   "source": [
    "from sklearn.ensemble import RandomForestClassifier\n",
    "Rm_model = RandomForestClassifier(criterion='gini',\n",
    "                              min_samples_leaf=200\n",
    "                              )\n",
    "# Fit the model\n",
    "clf = Rm_model.fit(x_train, y_train)\n",
    "# Predict class labels on a test data\n",
    "y_pred_rm = Rm_model.predict(x_test)\n",
    "print('*************** Evaluation on Test Data ***************')\n",
    "score_te_rm = accuracy_score(y_test, y_pred_rm)\n",
    "print('Accuracy Score: ', score_te_rm)"
   ]
  },
  {
   "cell_type": "code",
   "execution_count": null,
   "id": "4a53f700",
   "metadata": {},
   "outputs": [],
   "source": [
    "y_test=pd.DataFrame(y_test)\n",
    "y_pred_rm=pd.DataFrame(y_pred_rm)"
   ]
  },
  {
   "cell_type": "code",
   "execution_count": null,
   "id": "967fa612",
   "metadata": {},
   "outputs": [],
   "source": [
    "# Look at classification report to evaluate the model\n",
    "print(classification_report(y_test, y_pred_rm))"
   ]
  },
  {
   "cell_type": "code",
   "execution_count": null,
   "id": "cc023c33",
   "metadata": {},
   "outputs": [],
   "source": [
    "pd.crosstab(y_test.values,y_pred_rm.values)"
   ]
  },
  {
   "cell_type": "code",
   "execution_count": null,
   "id": "530acfd3",
   "metadata": {},
   "outputs": [],
   "source": [
    "#Cross Validation\n",
    "from sklearn.model_selection import cross_val_score\n",
    "scores_Carrt=cross_val_score(Rm_model,X, y[\"Age at Early Marrige\"],cv=10,scoring='accuracy')\n",
    "print(scores_Carrt.mean())"
   ]
  },
  {
   "cell_type": "markdown",
   "id": "6caffba7",
   "metadata": {},
   "source": [
    "# PCA DATA Adaboost"
   ]
  },
  {
   "cell_type": "code",
   "execution_count": null,
   "id": "0dff39aa",
   "metadata": {},
   "outputs": [],
   "source": [
    "#PCA \n",
    "from sklearn.decomposition import PCA\n",
    "pca= PCA(n_components=2)\n",
    "pca.fit(total_X)"
   ]
  },
  {
   "cell_type": "code",
   "execution_count": null,
   "id": "e31c6174",
   "metadata": {},
   "outputs": [],
   "source": [
    "x_pca=pca.transform(total_X)\n",
    "X=x_pca\n",
    "X"
   ]
  },
  {
   "cell_type": "code",
   "execution_count": null,
   "id": "50feb415",
   "metadata": {},
   "outputs": [],
   "source": [
    "plt.scatter(x_pca[:,0],x_pca[:,1],c=total_y.values)"
   ]
  },
  {
   "cell_type": "code",
   "execution_count": null,
   "id": "bb5c53c4",
   "metadata": {},
   "outputs": [],
   "source": [
    "#PCA DATA \n",
    "\n",
    "from sklearn.ensemble import AdaBoostClassifier\n",
    "from sklearn.model_selection import cross_val_score\n",
    "\n",
    "abc = AdaBoostClassifier()\n",
    "\n",
    "np.mean(cross_val_score(abc,x_pca,y,scoring='accuracy',cv=10))"
   ]
  },
  {
   "cell_type": "code",
   "execution_count": null,
   "id": "5e68ccbf",
   "metadata": {},
   "outputs": [],
   "source": [
    "abc.fit(X,y)"
   ]
  },
  {
   "cell_type": "code",
   "execution_count": null,
   "id": "59e93072",
   "metadata": {},
   "outputs": [],
   "source": [
    "def plot_decision_boundary(clf):\n",
    "    plt.figure(figsize=(12, 8))\n",
    "    x_range = np.linspace(X.min(), X.max(), 100)\n",
    "    xx1, xx2 = np.meshgrid(x_range, x_range)\n",
    "    y_hat = clf.predict(np.c_[xx1.ravel(), xx2.ravel()])\n",
    "    y_hat = y_hat.reshape(xx1.shape)\n",
    "    plt.contourf(xx1, xx2, y_hat, alpha=0.2)\n",
    "    plt.scatter(X[:,0], X[:,1], c=y, cmap='viridis', alpha=.7)\n",
    "    plt.title(\"Adaboost Classifier\")\n",
    "    plt.show()\n",
    "    \n",
    "plot_decision_boundary(abc)"
   ]
  },
  {
   "cell_type": "code",
   "execution_count": null,
   "id": "f9e47a7a",
   "metadata": {},
   "outputs": [],
   "source": [
    "abc = AdaBoostClassifier(n_estimators=1500,learning_rate=0.1)\n",
    "abc.fit(X,y)\n",
    "plot_decision_boundary(abc)"
   ]
  },
  {
   "cell_type": "markdown",
   "id": "40323721",
   "metadata": {},
   "source": [
    "# Normal Data ADABOOST"
   ]
  },
  {
   "cell_type": "code",
   "execution_count": null,
   "id": "310c8ac9",
   "metadata": {},
   "outputs": [],
   "source": [
    "X=total_X\n",
    "y=total_y.values.ravel()"
   ]
  },
  {
   "cell_type": "code",
   "execution_count": null,
   "id": "66d88292",
   "metadata": {},
   "outputs": [],
   "source": [
    "from sklearn.ensemble import AdaBoostClassifier\n",
    "from sklearn.model_selection import cross_val_score\n",
    "\n",
    "abc = AdaBoostClassifier()\n",
    "\n",
    "np.mean(cross_val_score(abc,X,y,scoring='accuracy',cv=10))"
   ]
  },
  {
   "cell_type": "code",
   "execution_count": null,
   "id": "6c12a11e",
   "metadata": {},
   "outputs": [],
   "source": [
    "abc.fit(X,y)"
   ]
  },
  {
   "cell_type": "code",
   "execution_count": null,
   "id": "2cf62736",
   "metadata": {},
   "outputs": [],
   "source": [
    "from sklearn.model_selection import GridSearchCV\n",
    "\n",
    "grid = dict()\n",
    "grid['n_estimators'] = [10, 50, 100, 500]\n",
    "grid['learning_rate'] = [0.0001, 0.001, 0.01, 0.1, 1.0]\n",
    "grid['algorithm'] = ['SAMME', 'SAMME.R']\n",
    "\n",
    "\n",
    "grid_search = GridSearchCV(estimator=abc, param_grid=grid, n_jobs=-1, cv=10, scoring='accuracy')\n",
    "# execute the grid search\n",
    "grid_result = grid_search.fit(X, y)\n",
    "# summarize the best score and configuration\n",
    "print(\"Best: %f using %s\" % (grid_result.best_score_, grid_result.best_params_))"
   ]
  },
  {
   "cell_type": "markdown",
   "id": "cdcb6dfb",
   "metadata": {},
   "source": [
    "# XGBOOST"
   ]
  },
  {
   "cell_type": "code",
   "execution_count": null,
   "id": "ecde87af",
   "metadata": {},
   "outputs": [],
   "source": [
    "X=total_X\n",
    "y=total_y.values.ravel()\n",
    "x_train,x_test,y_train,y_test=train_test_split(X,y,test_size=0.3,random_state=0)"
   ]
  },
  {
   "cell_type": "code",
   "execution_count": null,
   "id": "930736eb",
   "metadata": {},
   "outputs": [],
   "source": [
    "from xgboost import XGBClassifier\n",
    "model = XGBClassifier()\n",
    "result= model.fit(X,y)\n",
    "y_predict=model.predict(x_test)\n",
    "y_train_predict=model.predict(x_train)\n",
    "print(\"Train accuracy\", accuracy_score(y_train,y_train_predict))\n",
    "print(\"Tesr accuracy\", accuracy_score(y_test,y_predict))"
   ]
  },
  {
   "cell_type": "code",
   "execution_count": null,
   "id": "4e748b08",
   "metadata": {},
   "outputs": [],
   "source": []
  }
 ],
 "metadata": {
  "kernelspec": {
   "display_name": "Python 3 (ipykernel)",
   "language": "python",
   "name": "python3"
  },
  "language_info": {
   "codemirror_mode": {
    "name": "ipython",
    "version": 3
   },
   "file_extension": ".py",
   "mimetype": "text/x-python",
   "name": "python",
   "nbconvert_exporter": "python",
   "pygments_lexer": "ipython3",
   "version": "3.10.9"
  }
 },
 "nbformat": 4,
 "nbformat_minor": 5
}
