{
  "cells": [
    {
      "cell_type": "code",
      "execution_count": 1,
      "id": "aeb01d96",
      "metadata": {
        "id": "aeb01d96"
      },
      "outputs": [],
      "source": [
        "import pandas as pd\n",
        "import numpy as np\n",
        "import matplotlib.pyplot as plt\n",
        "import seaborn as sns\n",
        "from sklearn.model_selection import train_test_split\n",
        "from sklearn import metrics\n",
        "import statsmodels.api as sm\n",
        "from sklearn.metrics import roc_auc_score\n",
        "from sklearn.tree import DecisionTreeClassifier\n",
        "from sklearn.preprocessing import StandardScaler\n",
        "from sklearn.metrics import confusion_matrix\n",
        "from sklearn.metrics import f1_score\n",
        "from sklearn.metrics import accuracy_score\n",
        "from sklearn.metrics import classification_report\n",
        "from sklearn.preprocessing import MinMaxScaler\n",
        "from sklearn import tree\n",
        "from sklearn.linear_model import Lasso\n",
        "from sklearn.model_selection import GridSearchCV, KFold"
      ]
    },
    {
      "cell_type": "code",
      "execution_count": 2,
      "id": "7e9b55e1",
      "metadata": {
        "id": "7e9b55e1"
      },
      "outputs": [],
      "source": [
        "df=pd.read_excel(\"/content/With missing Values.xlsx\")"
      ]
    },
    {
      "cell_type": "code",
      "execution_count": 3,
      "id": "d27b01d5",
      "metadata": {
        "colab": {
          "base_uri": "https://localhost:8080/",
          "height": 423
        },
        "id": "d27b01d5",
        "outputId": "2f29c999-4d8c-404d-bda8-77e27687a712"
      },
      "outputs": [
        {
          "output_type": "execute_result",
          "data": {
            "text/plain": [
              "                      Name  HTN  DM  SMK  DL  FH  AMI  Sex  NSTEMI  SA  UA  \\\n",
              "0     Dr. khorshed Jahan M    1   1    0   0   0    0    1       0   1   0   \n",
              "1       Zahir Uddin Shapon    1   0    0   0   0    0    2       1   0   0   \n",
              "2         S M Saiful Islam    1   1    1   0   1    0    2       1   0   0   \n",
              "3        Rowshan Ara Begum    0   1    0   0   0    1    1       0   0   0   \n",
              "4             Monsur Ahmed    0   0    1   0   0    0    2       0   1   0   \n",
              "...                    ...  ...  ..  ...  ..  ..  ...  ...     ...  ..  ..   \n",
              "1496             AB Kuddus    1   1    1   0   0    0    2       0   0   1   \n",
              "1497    Sanjoy Kumar Ghosh    0   0    1   0   0    0    2       0   1   0   \n",
              "1498       Harun Ur Rashid    0   0    1   0   0    0    2       0   0   1   \n",
              "1499            Taposh Day    1   0    0   0   1    0    2       1   0   0   \n",
              "1500       Monowar Hossain    1   1    1   0   1    1    2       0   0   0   \n",
              "\n",
              "      HOCABG  HOPCI  Age_Group  LDL1  HDL1  TG1  EF1  Indication1  TC1  \n",
              "0          1      1          2   2.0   2.0  2.0  2.0            5  1.0  \n",
              "1          0      1          2   1.0   2.0  1.0  2.0            5  1.0  \n",
              "2          0      0          2   2.0   2.0  2.0  1.0            3  1.0  \n",
              "3          0      0          3   1.0   2.0  2.0  2.0            1  1.0  \n",
              "4          0      0          2   1.0   2.0  2.0  1.0            2  1.0  \n",
              "...      ...    ...        ...   ...   ...  ...  ...          ...  ...  \n",
              "1496       0      0          2   2.0   1.0  2.0  1.0            4  3.0  \n",
              "1497       0      0          1   2.0   2.0  2.0  1.0            2  2.0  \n",
              "1498       0      0          2   1.0   2.0  1.0  1.0            4  1.0  \n",
              "1499       0      0          1   1.0   2.0  2.0  1.0            3  1.0  \n",
              "1500       0      0          1   2.0   2.0  1.0  1.0            1  1.0  \n",
              "\n",
              "[1501 rows x 20 columns]"
            ],
            "text/html": [
              "\n",
              "  <div id=\"df-851ae78c-1b37-4ef6-b6ce-afe8b4d010c1\" class=\"colab-df-container\">\n",
              "    <div>\n",
              "<style scoped>\n",
              "    .dataframe tbody tr th:only-of-type {\n",
              "        vertical-align: middle;\n",
              "    }\n",
              "\n",
              "    .dataframe tbody tr th {\n",
              "        vertical-align: top;\n",
              "    }\n",
              "\n",
              "    .dataframe thead th {\n",
              "        text-align: right;\n",
              "    }\n",
              "</style>\n",
              "<table border=\"1\" class=\"dataframe\">\n",
              "  <thead>\n",
              "    <tr style=\"text-align: right;\">\n",
              "      <th></th>\n",
              "      <th>Name</th>\n",
              "      <th>HTN</th>\n",
              "      <th>DM</th>\n",
              "      <th>SMK</th>\n",
              "      <th>DL</th>\n",
              "      <th>FH</th>\n",
              "      <th>AMI</th>\n",
              "      <th>Sex</th>\n",
              "      <th>NSTEMI</th>\n",
              "      <th>SA</th>\n",
              "      <th>UA</th>\n",
              "      <th>HOCABG</th>\n",
              "      <th>HOPCI</th>\n",
              "      <th>Age_Group</th>\n",
              "      <th>LDL1</th>\n",
              "      <th>HDL1</th>\n",
              "      <th>TG1</th>\n",
              "      <th>EF1</th>\n",
              "      <th>Indication1</th>\n",
              "      <th>TC1</th>\n",
              "    </tr>\n",
              "  </thead>\n",
              "  <tbody>\n",
              "    <tr>\n",
              "      <th>0</th>\n",
              "      <td>Dr. khorshed Jahan M</td>\n",
              "      <td>1</td>\n",
              "      <td>1</td>\n",
              "      <td>0</td>\n",
              "      <td>0</td>\n",
              "      <td>0</td>\n",
              "      <td>0</td>\n",
              "      <td>1</td>\n",
              "      <td>0</td>\n",
              "      <td>1</td>\n",
              "      <td>0</td>\n",
              "      <td>1</td>\n",
              "      <td>1</td>\n",
              "      <td>2</td>\n",
              "      <td>2.0</td>\n",
              "      <td>2.0</td>\n",
              "      <td>2.0</td>\n",
              "      <td>2.0</td>\n",
              "      <td>5</td>\n",
              "      <td>1.0</td>\n",
              "    </tr>\n",
              "    <tr>\n",
              "      <th>1</th>\n",
              "      <td>Zahir Uddin Shapon</td>\n",
              "      <td>1</td>\n",
              "      <td>0</td>\n",
              "      <td>0</td>\n",
              "      <td>0</td>\n",
              "      <td>0</td>\n",
              "      <td>0</td>\n",
              "      <td>2</td>\n",
              "      <td>1</td>\n",
              "      <td>0</td>\n",
              "      <td>0</td>\n",
              "      <td>0</td>\n",
              "      <td>1</td>\n",
              "      <td>2</td>\n",
              "      <td>1.0</td>\n",
              "      <td>2.0</td>\n",
              "      <td>1.0</td>\n",
              "      <td>2.0</td>\n",
              "      <td>5</td>\n",
              "      <td>1.0</td>\n",
              "    </tr>\n",
              "    <tr>\n",
              "      <th>2</th>\n",
              "      <td>S M Saiful Islam</td>\n",
              "      <td>1</td>\n",
              "      <td>1</td>\n",
              "      <td>1</td>\n",
              "      <td>0</td>\n",
              "      <td>1</td>\n",
              "      <td>0</td>\n",
              "      <td>2</td>\n",
              "      <td>1</td>\n",
              "      <td>0</td>\n",
              "      <td>0</td>\n",
              "      <td>0</td>\n",
              "      <td>0</td>\n",
              "      <td>2</td>\n",
              "      <td>2.0</td>\n",
              "      <td>2.0</td>\n",
              "      <td>2.0</td>\n",
              "      <td>1.0</td>\n",
              "      <td>3</td>\n",
              "      <td>1.0</td>\n",
              "    </tr>\n",
              "    <tr>\n",
              "      <th>3</th>\n",
              "      <td>Rowshan Ara Begum</td>\n",
              "      <td>0</td>\n",
              "      <td>1</td>\n",
              "      <td>0</td>\n",
              "      <td>0</td>\n",
              "      <td>0</td>\n",
              "      <td>1</td>\n",
              "      <td>1</td>\n",
              "      <td>0</td>\n",
              "      <td>0</td>\n",
              "      <td>0</td>\n",
              "      <td>0</td>\n",
              "      <td>0</td>\n",
              "      <td>3</td>\n",
              "      <td>1.0</td>\n",
              "      <td>2.0</td>\n",
              "      <td>2.0</td>\n",
              "      <td>2.0</td>\n",
              "      <td>1</td>\n",
              "      <td>1.0</td>\n",
              "    </tr>\n",
              "    <tr>\n",
              "      <th>4</th>\n",
              "      <td>Monsur Ahmed</td>\n",
              "      <td>0</td>\n",
              "      <td>0</td>\n",
              "      <td>1</td>\n",
              "      <td>0</td>\n",
              "      <td>0</td>\n",
              "      <td>0</td>\n",
              "      <td>2</td>\n",
              "      <td>0</td>\n",
              "      <td>1</td>\n",
              "      <td>0</td>\n",
              "      <td>0</td>\n",
              "      <td>0</td>\n",
              "      <td>2</td>\n",
              "      <td>1.0</td>\n",
              "      <td>2.0</td>\n",
              "      <td>2.0</td>\n",
              "      <td>1.0</td>\n",
              "      <td>2</td>\n",
              "      <td>1.0</td>\n",
              "    </tr>\n",
              "    <tr>\n",
              "      <th>...</th>\n",
              "      <td>...</td>\n",
              "      <td>...</td>\n",
              "      <td>...</td>\n",
              "      <td>...</td>\n",
              "      <td>...</td>\n",
              "      <td>...</td>\n",
              "      <td>...</td>\n",
              "      <td>...</td>\n",
              "      <td>...</td>\n",
              "      <td>...</td>\n",
              "      <td>...</td>\n",
              "      <td>...</td>\n",
              "      <td>...</td>\n",
              "      <td>...</td>\n",
              "      <td>...</td>\n",
              "      <td>...</td>\n",
              "      <td>...</td>\n",
              "      <td>...</td>\n",
              "      <td>...</td>\n",
              "      <td>...</td>\n",
              "    </tr>\n",
              "    <tr>\n",
              "      <th>1496</th>\n",
              "      <td>AB Kuddus</td>\n",
              "      <td>1</td>\n",
              "      <td>1</td>\n",
              "      <td>1</td>\n",
              "      <td>0</td>\n",
              "      <td>0</td>\n",
              "      <td>0</td>\n",
              "      <td>2</td>\n",
              "      <td>0</td>\n",
              "      <td>0</td>\n",
              "      <td>1</td>\n",
              "      <td>0</td>\n",
              "      <td>0</td>\n",
              "      <td>2</td>\n",
              "      <td>2.0</td>\n",
              "      <td>1.0</td>\n",
              "      <td>2.0</td>\n",
              "      <td>1.0</td>\n",
              "      <td>4</td>\n",
              "      <td>3.0</td>\n",
              "    </tr>\n",
              "    <tr>\n",
              "      <th>1497</th>\n",
              "      <td>Sanjoy Kumar Ghosh</td>\n",
              "      <td>0</td>\n",
              "      <td>0</td>\n",
              "      <td>1</td>\n",
              "      <td>0</td>\n",
              "      <td>0</td>\n",
              "      <td>0</td>\n",
              "      <td>2</td>\n",
              "      <td>0</td>\n",
              "      <td>1</td>\n",
              "      <td>0</td>\n",
              "      <td>0</td>\n",
              "      <td>0</td>\n",
              "      <td>1</td>\n",
              "      <td>2.0</td>\n",
              "      <td>2.0</td>\n",
              "      <td>2.0</td>\n",
              "      <td>1.0</td>\n",
              "      <td>2</td>\n",
              "      <td>2.0</td>\n",
              "    </tr>\n",
              "    <tr>\n",
              "      <th>1498</th>\n",
              "      <td>Harun Ur Rashid</td>\n",
              "      <td>0</td>\n",
              "      <td>0</td>\n",
              "      <td>1</td>\n",
              "      <td>0</td>\n",
              "      <td>0</td>\n",
              "      <td>0</td>\n",
              "      <td>2</td>\n",
              "      <td>0</td>\n",
              "      <td>0</td>\n",
              "      <td>1</td>\n",
              "      <td>0</td>\n",
              "      <td>0</td>\n",
              "      <td>2</td>\n",
              "      <td>1.0</td>\n",
              "      <td>2.0</td>\n",
              "      <td>1.0</td>\n",
              "      <td>1.0</td>\n",
              "      <td>4</td>\n",
              "      <td>1.0</td>\n",
              "    </tr>\n",
              "    <tr>\n",
              "      <th>1499</th>\n",
              "      <td>Taposh Day</td>\n",
              "      <td>1</td>\n",
              "      <td>0</td>\n",
              "      <td>0</td>\n",
              "      <td>0</td>\n",
              "      <td>1</td>\n",
              "      <td>0</td>\n",
              "      <td>2</td>\n",
              "      <td>1</td>\n",
              "      <td>0</td>\n",
              "      <td>0</td>\n",
              "      <td>0</td>\n",
              "      <td>0</td>\n",
              "      <td>1</td>\n",
              "      <td>1.0</td>\n",
              "      <td>2.0</td>\n",
              "      <td>2.0</td>\n",
              "      <td>1.0</td>\n",
              "      <td>3</td>\n",
              "      <td>1.0</td>\n",
              "    </tr>\n",
              "    <tr>\n",
              "      <th>1500</th>\n",
              "      <td>Monowar Hossain</td>\n",
              "      <td>1</td>\n",
              "      <td>1</td>\n",
              "      <td>1</td>\n",
              "      <td>0</td>\n",
              "      <td>1</td>\n",
              "      <td>1</td>\n",
              "      <td>2</td>\n",
              "      <td>0</td>\n",
              "      <td>0</td>\n",
              "      <td>0</td>\n",
              "      <td>0</td>\n",
              "      <td>0</td>\n",
              "      <td>1</td>\n",
              "      <td>2.0</td>\n",
              "      <td>2.0</td>\n",
              "      <td>1.0</td>\n",
              "      <td>1.0</td>\n",
              "      <td>1</td>\n",
              "      <td>1.0</td>\n",
              "    </tr>\n",
              "  </tbody>\n",
              "</table>\n",
              "<p>1501 rows × 20 columns</p>\n",
              "</div>\n",
              "    <div class=\"colab-df-buttons\">\n",
              "\n",
              "  <div class=\"colab-df-container\">\n",
              "    <button class=\"colab-df-convert\" onclick=\"convertToInteractive('df-851ae78c-1b37-4ef6-b6ce-afe8b4d010c1')\"\n",
              "            title=\"Convert this dataframe to an interactive table.\"\n",
              "            style=\"display:none;\">\n",
              "\n",
              "  <svg xmlns=\"http://www.w3.org/2000/svg\" height=\"24px\" viewBox=\"0 -960 960 960\">\n",
              "    <path d=\"M120-120v-720h720v720H120Zm60-500h600v-160H180v160Zm220 220h160v-160H400v160Zm0 220h160v-160H400v160ZM180-400h160v-160H180v160Zm440 0h160v-160H620v160ZM180-180h160v-160H180v160Zm440 0h160v-160H620v160Z\"/>\n",
              "  </svg>\n",
              "    </button>\n",
              "\n",
              "  <style>\n",
              "    .colab-df-container {\n",
              "      display:flex;\n",
              "      gap: 12px;\n",
              "    }\n",
              "\n",
              "    .colab-df-convert {\n",
              "      background-color: #E8F0FE;\n",
              "      border: none;\n",
              "      border-radius: 50%;\n",
              "      cursor: pointer;\n",
              "      display: none;\n",
              "      fill: #1967D2;\n",
              "      height: 32px;\n",
              "      padding: 0 0 0 0;\n",
              "      width: 32px;\n",
              "    }\n",
              "\n",
              "    .colab-df-convert:hover {\n",
              "      background-color: #E2EBFA;\n",
              "      box-shadow: 0px 1px 2px rgba(60, 64, 67, 0.3), 0px 1px 3px 1px rgba(60, 64, 67, 0.15);\n",
              "      fill: #174EA6;\n",
              "    }\n",
              "\n",
              "    .colab-df-buttons div {\n",
              "      margin-bottom: 4px;\n",
              "    }\n",
              "\n",
              "    [theme=dark] .colab-df-convert {\n",
              "      background-color: #3B4455;\n",
              "      fill: #D2E3FC;\n",
              "    }\n",
              "\n",
              "    [theme=dark] .colab-df-convert:hover {\n",
              "      background-color: #434B5C;\n",
              "      box-shadow: 0px 1px 3px 1px rgba(0, 0, 0, 0.15);\n",
              "      filter: drop-shadow(0px 1px 2px rgba(0, 0, 0, 0.3));\n",
              "      fill: #FFFFFF;\n",
              "    }\n",
              "  </style>\n",
              "\n",
              "    <script>\n",
              "      const buttonEl =\n",
              "        document.querySelector('#df-851ae78c-1b37-4ef6-b6ce-afe8b4d010c1 button.colab-df-convert');\n",
              "      buttonEl.style.display =\n",
              "        google.colab.kernel.accessAllowed ? 'block' : 'none';\n",
              "\n",
              "      async function convertToInteractive(key) {\n",
              "        const element = document.querySelector('#df-851ae78c-1b37-4ef6-b6ce-afe8b4d010c1');\n",
              "        const dataTable =\n",
              "          await google.colab.kernel.invokeFunction('convertToInteractive',\n",
              "                                                    [key], {});\n",
              "        if (!dataTable) return;\n",
              "\n",
              "        const docLinkHtml = 'Like what you see? Visit the ' +\n",
              "          '<a target=\"_blank\" href=https://colab.research.google.com/notebooks/data_table.ipynb>data table notebook</a>'\n",
              "          + ' to learn more about interactive tables.';\n",
              "        element.innerHTML = '';\n",
              "        dataTable['output_type'] = 'display_data';\n",
              "        await google.colab.output.renderOutput(dataTable, element);\n",
              "        const docLink = document.createElement('div');\n",
              "        docLink.innerHTML = docLinkHtml;\n",
              "        element.appendChild(docLink);\n",
              "      }\n",
              "    </script>\n",
              "  </div>\n",
              "\n",
              "\n",
              "<div id=\"df-afdd3d83-5c9c-4170-9c08-824fb3120c4e\">\n",
              "  <button class=\"colab-df-quickchart\" onclick=\"quickchart('df-afdd3d83-5c9c-4170-9c08-824fb3120c4e')\"\n",
              "            title=\"Suggest charts\"\n",
              "            style=\"display:none;\">\n",
              "\n",
              "<svg xmlns=\"http://www.w3.org/2000/svg\" height=\"24px\"viewBox=\"0 0 24 24\"\n",
              "     width=\"24px\">\n",
              "    <g>\n",
              "        <path d=\"M19 3H5c-1.1 0-2 .9-2 2v14c0 1.1.9 2 2 2h14c1.1 0 2-.9 2-2V5c0-1.1-.9-2-2-2zM9 17H7v-7h2v7zm4 0h-2V7h2v10zm4 0h-2v-4h2v4z\"/>\n",
              "    </g>\n",
              "</svg>\n",
              "  </button>\n",
              "\n",
              "<style>\n",
              "  .colab-df-quickchart {\n",
              "      --bg-color: #E8F0FE;\n",
              "      --fill-color: #1967D2;\n",
              "      --hover-bg-color: #E2EBFA;\n",
              "      --hover-fill-color: #174EA6;\n",
              "      --disabled-fill-color: #AAA;\n",
              "      --disabled-bg-color: #DDD;\n",
              "  }\n",
              "\n",
              "  [theme=dark] .colab-df-quickchart {\n",
              "      --bg-color: #3B4455;\n",
              "      --fill-color: #D2E3FC;\n",
              "      --hover-bg-color: #434B5C;\n",
              "      --hover-fill-color: #FFFFFF;\n",
              "      --disabled-bg-color: #3B4455;\n",
              "      --disabled-fill-color: #666;\n",
              "  }\n",
              "\n",
              "  .colab-df-quickchart {\n",
              "    background-color: var(--bg-color);\n",
              "    border: none;\n",
              "    border-radius: 50%;\n",
              "    cursor: pointer;\n",
              "    display: none;\n",
              "    fill: var(--fill-color);\n",
              "    height: 32px;\n",
              "    padding: 0;\n",
              "    width: 32px;\n",
              "  }\n",
              "\n",
              "  .colab-df-quickchart:hover {\n",
              "    background-color: var(--hover-bg-color);\n",
              "    box-shadow: 0 1px 2px rgba(60, 64, 67, 0.3), 0 1px 3px 1px rgba(60, 64, 67, 0.15);\n",
              "    fill: var(--button-hover-fill-color);\n",
              "  }\n",
              "\n",
              "  .colab-df-quickchart-complete:disabled,\n",
              "  .colab-df-quickchart-complete:disabled:hover {\n",
              "    background-color: var(--disabled-bg-color);\n",
              "    fill: var(--disabled-fill-color);\n",
              "    box-shadow: none;\n",
              "  }\n",
              "\n",
              "  .colab-df-spinner {\n",
              "    border: 2px solid var(--fill-color);\n",
              "    border-color: transparent;\n",
              "    border-bottom-color: var(--fill-color);\n",
              "    animation:\n",
              "      spin 1s steps(1) infinite;\n",
              "  }\n",
              "\n",
              "  @keyframes spin {\n",
              "    0% {\n",
              "      border-color: transparent;\n",
              "      border-bottom-color: var(--fill-color);\n",
              "      border-left-color: var(--fill-color);\n",
              "    }\n",
              "    20% {\n",
              "      border-color: transparent;\n",
              "      border-left-color: var(--fill-color);\n",
              "      border-top-color: var(--fill-color);\n",
              "    }\n",
              "    30% {\n",
              "      border-color: transparent;\n",
              "      border-left-color: var(--fill-color);\n",
              "      border-top-color: var(--fill-color);\n",
              "      border-right-color: var(--fill-color);\n",
              "    }\n",
              "    40% {\n",
              "      border-color: transparent;\n",
              "      border-right-color: var(--fill-color);\n",
              "      border-top-color: var(--fill-color);\n",
              "    }\n",
              "    60% {\n",
              "      border-color: transparent;\n",
              "      border-right-color: var(--fill-color);\n",
              "    }\n",
              "    80% {\n",
              "      border-color: transparent;\n",
              "      border-right-color: var(--fill-color);\n",
              "      border-bottom-color: var(--fill-color);\n",
              "    }\n",
              "    90% {\n",
              "      border-color: transparent;\n",
              "      border-bottom-color: var(--fill-color);\n",
              "    }\n",
              "  }\n",
              "</style>\n",
              "\n",
              "  <script>\n",
              "    async function quickchart(key) {\n",
              "      const quickchartButtonEl =\n",
              "        document.querySelector('#' + key + ' button');\n",
              "      quickchartButtonEl.disabled = true;  // To prevent multiple clicks.\n",
              "      quickchartButtonEl.classList.add('colab-df-spinner');\n",
              "      try {\n",
              "        const charts = await google.colab.kernel.invokeFunction(\n",
              "            'suggestCharts', [key], {});\n",
              "      } catch (error) {\n",
              "        console.error('Error during call to suggestCharts:', error);\n",
              "      }\n",
              "      quickchartButtonEl.classList.remove('colab-df-spinner');\n",
              "      quickchartButtonEl.classList.add('colab-df-quickchart-complete');\n",
              "    }\n",
              "    (() => {\n",
              "      let quickchartButtonEl =\n",
              "        document.querySelector('#df-afdd3d83-5c9c-4170-9c08-824fb3120c4e button');\n",
              "      quickchartButtonEl.style.display =\n",
              "        google.colab.kernel.accessAllowed ? 'block' : 'none';\n",
              "    })();\n",
              "  </script>\n",
              "</div>\n",
              "\n",
              "  <div id=\"id_02176f53-3e5a-47b4-bb97-d0e24edc9ef8\">\n",
              "    <style>\n",
              "      .colab-df-generate {\n",
              "        background-color: #E8F0FE;\n",
              "        border: none;\n",
              "        border-radius: 50%;\n",
              "        cursor: pointer;\n",
              "        display: none;\n",
              "        fill: #1967D2;\n",
              "        height: 32px;\n",
              "        padding: 0 0 0 0;\n",
              "        width: 32px;\n",
              "      }\n",
              "\n",
              "      .colab-df-generate:hover {\n",
              "        background-color: #E2EBFA;\n",
              "        box-shadow: 0px 1px 2px rgba(60, 64, 67, 0.3), 0px 1px 3px 1px rgba(60, 64, 67, 0.15);\n",
              "        fill: #174EA6;\n",
              "      }\n",
              "\n",
              "      [theme=dark] .colab-df-generate {\n",
              "        background-color: #3B4455;\n",
              "        fill: #D2E3FC;\n",
              "      }\n",
              "\n",
              "      [theme=dark] .colab-df-generate:hover {\n",
              "        background-color: #434B5C;\n",
              "        box-shadow: 0px 1px 3px 1px rgba(0, 0, 0, 0.15);\n",
              "        filter: drop-shadow(0px 1px 2px rgba(0, 0, 0, 0.3));\n",
              "        fill: #FFFFFF;\n",
              "      }\n",
              "    </style>\n",
              "    <button class=\"colab-df-generate\" onclick=\"generateWithVariable('df')\"\n",
              "            title=\"Generate code using this dataframe.\"\n",
              "            style=\"display:none;\">\n",
              "\n",
              "  <svg xmlns=\"http://www.w3.org/2000/svg\" height=\"24px\"viewBox=\"0 0 24 24\"\n",
              "       width=\"24px\">\n",
              "    <path d=\"M7,19H8.4L18.45,9,17,7.55,7,17.6ZM5,21V16.75L18.45,3.32a2,2,0,0,1,2.83,0l1.4,1.43a1.91,1.91,0,0,1,.58,1.4,1.91,1.91,0,0,1-.58,1.4L9.25,21ZM18.45,9,17,7.55Zm-12,3A5.31,5.31,0,0,0,4.9,8.1,5.31,5.31,0,0,0,1,6.5,5.31,5.31,0,0,0,4.9,4.9,5.31,5.31,0,0,0,6.5,1,5.31,5.31,0,0,0,8.1,4.9,5.31,5.31,0,0,0,12,6.5,5.46,5.46,0,0,0,6.5,12Z\"/>\n",
              "  </svg>\n",
              "    </button>\n",
              "    <script>\n",
              "      (() => {\n",
              "      const buttonEl =\n",
              "        document.querySelector('#id_02176f53-3e5a-47b4-bb97-d0e24edc9ef8 button.colab-df-generate');\n",
              "      buttonEl.style.display =\n",
              "        google.colab.kernel.accessAllowed ? 'block' : 'none';\n",
              "\n",
              "      buttonEl.onclick = () => {\n",
              "        google.colab.notebook.generateWithVariable('df');\n",
              "      }\n",
              "      })();\n",
              "    </script>\n",
              "  </div>\n",
              "\n",
              "    </div>\n",
              "  </div>\n"
            ],
            "application/vnd.google.colaboratory.intrinsic+json": {
              "type": "dataframe",
              "variable_name": "df",
              "summary": "{\n  \"name\": \"df\",\n  \"rows\": 1501,\n  \"fields\": [\n    {\n      \"column\": \"Name\",\n      \"properties\": {\n        \"dtype\": \"string\",\n        \"num_unique_values\": 1285,\n        \"samples\": [\n          \"Mrs. Salina Begum\",\n          \"Mohammad Shahjahan\",\n          \"Mohammed Hossain\"\n        ],\n        \"semantic_type\": \"\",\n        \"description\": \"\"\n      }\n    },\n    {\n      \"column\": \"HTN\",\n      \"properties\": {\n        \"dtype\": \"number\",\n        \"std\": 0,\n        \"min\": 0,\n        \"max\": 1,\n        \"num_unique_values\": 2,\n        \"samples\": [\n          0,\n          1\n        ],\n        \"semantic_type\": \"\",\n        \"description\": \"\"\n      }\n    },\n    {\n      \"column\": \"DM\",\n      \"properties\": {\n        \"dtype\": \"number\",\n        \"std\": 0,\n        \"min\": 0,\n        \"max\": 1,\n        \"num_unique_values\": 2,\n        \"samples\": [\n          0,\n          1\n        ],\n        \"semantic_type\": \"\",\n        \"description\": \"\"\n      }\n    },\n    {\n      \"column\": \"SMK\",\n      \"properties\": {\n        \"dtype\": \"number\",\n        \"std\": 0,\n        \"min\": 0,\n        \"max\": 1,\n        \"num_unique_values\": 2,\n        \"samples\": [\n          1,\n          0\n        ],\n        \"semantic_type\": \"\",\n        \"description\": \"\"\n      }\n    },\n    {\n      \"column\": \"DL\",\n      \"properties\": {\n        \"dtype\": \"number\",\n        \"std\": 0,\n        \"min\": 0,\n        \"max\": 1,\n        \"num_unique_values\": 2,\n        \"samples\": [\n          1,\n          0\n        ],\n        \"semantic_type\": \"\",\n        \"description\": \"\"\n      }\n    },\n    {\n      \"column\": \"FH\",\n      \"properties\": {\n        \"dtype\": \"number\",\n        \"std\": 0,\n        \"min\": 0,\n        \"max\": 1,\n        \"num_unique_values\": 2,\n        \"samples\": [\n          1,\n          0\n        ],\n        \"semantic_type\": \"\",\n        \"description\": \"\"\n      }\n    },\n    {\n      \"column\": \"AMI\",\n      \"properties\": {\n        \"dtype\": \"number\",\n        \"std\": 0,\n        \"min\": 0,\n        \"max\": 1,\n        \"num_unique_values\": 2,\n        \"samples\": [\n          1,\n          0\n        ],\n        \"semantic_type\": \"\",\n        \"description\": \"\"\n      }\n    },\n    {\n      \"column\": \"Sex\",\n      \"properties\": {\n        \"dtype\": \"number\",\n        \"std\": 0,\n        \"min\": 1,\n        \"max\": 2,\n        \"num_unique_values\": 2,\n        \"samples\": [\n          2,\n          1\n        ],\n        \"semantic_type\": \"\",\n        \"description\": \"\"\n      }\n    },\n    {\n      \"column\": \"NSTEMI\",\n      \"properties\": {\n        \"dtype\": \"number\",\n        \"std\": 0,\n        \"min\": 0,\n        \"max\": 1,\n        \"num_unique_values\": 2,\n        \"samples\": [\n          1,\n          0\n        ],\n        \"semantic_type\": \"\",\n        \"description\": \"\"\n      }\n    },\n    {\n      \"column\": \"SA\",\n      \"properties\": {\n        \"dtype\": \"number\",\n        \"std\": 0,\n        \"min\": 0,\n        \"max\": 1,\n        \"num_unique_values\": 2,\n        \"samples\": [\n          0,\n          1\n        ],\n        \"semantic_type\": \"\",\n        \"description\": \"\"\n      }\n    },\n    {\n      \"column\": \"UA\",\n      \"properties\": {\n        \"dtype\": \"number\",\n        \"std\": 0,\n        \"min\": 0,\n        \"max\": 1,\n        \"num_unique_values\": 2,\n        \"samples\": [\n          1,\n          0\n        ],\n        \"semantic_type\": \"\",\n        \"description\": \"\"\n      }\n    },\n    {\n      \"column\": \"HOCABG\",\n      \"properties\": {\n        \"dtype\": \"number\",\n        \"std\": 0,\n        \"min\": 0,\n        \"max\": 1,\n        \"num_unique_values\": 2,\n        \"samples\": [\n          0,\n          1\n        ],\n        \"semantic_type\": \"\",\n        \"description\": \"\"\n      }\n    },\n    {\n      \"column\": \"HOPCI\",\n      \"properties\": {\n        \"dtype\": \"number\",\n        \"std\": 0,\n        \"min\": 0,\n        \"max\": 1,\n        \"num_unique_values\": 2,\n        \"samples\": [\n          0,\n          1\n        ],\n        \"semantic_type\": \"\",\n        \"description\": \"\"\n      }\n    },\n    {\n      \"column\": \"Age_Group\",\n      \"properties\": {\n        \"dtype\": \"number\",\n        \"std\": 0,\n        \"min\": 1,\n        \"max\": 3,\n        \"num_unique_values\": 3,\n        \"samples\": [\n          2,\n          3\n        ],\n        \"semantic_type\": \"\",\n        \"description\": \"\"\n      }\n    },\n    {\n      \"column\": \"LDL1\",\n      \"properties\": {\n        \"dtype\": \"number\",\n        \"std\": 0.49743052680803257,\n        \"min\": 1.0,\n        \"max\": 2.0,\n        \"num_unique_values\": 2,\n        \"samples\": [\n          1.0,\n          2.0\n        ],\n        \"semantic_type\": \"\",\n        \"description\": \"\"\n      }\n    },\n    {\n      \"column\": \"HDL1\",\n      \"properties\": {\n        \"dtype\": \"number\",\n        \"std\": 0.41226114182823675,\n        \"min\": 1.0,\n        \"max\": 2.0,\n        \"num_unique_values\": 2,\n        \"samples\": [\n          1.0,\n          2.0\n        ],\n        \"semantic_type\": \"\",\n        \"description\": \"\"\n      }\n    },\n    {\n      \"column\": \"TG1\",\n      \"properties\": {\n        \"dtype\": \"number\",\n        \"std\": 0.4993155639806832,\n        \"min\": 1.0,\n        \"max\": 2.0,\n        \"num_unique_values\": 2,\n        \"samples\": [\n          1.0,\n          2.0\n        ],\n        \"semantic_type\": \"\",\n        \"description\": \"\"\n      }\n    },\n    {\n      \"column\": \"EF1\",\n      \"properties\": {\n        \"dtype\": \"number\",\n        \"std\": 0.4767457948522763,\n        \"min\": 1.0,\n        \"max\": 2.0,\n        \"num_unique_values\": 2,\n        \"samples\": [\n          1.0,\n          2.0\n        ],\n        \"semantic_type\": \"\",\n        \"description\": \"\"\n      }\n    },\n    {\n      \"column\": \"Indication1\",\n      \"properties\": {\n        \"dtype\": \"number\",\n        \"std\": 1,\n        \"min\": 1,\n        \"max\": 5,\n        \"num_unique_values\": 5,\n        \"samples\": [\n          3,\n          4\n        ],\n        \"semantic_type\": \"\",\n        \"description\": \"\"\n      }\n    },\n    {\n      \"column\": \"TC1\",\n      \"properties\": {\n        \"dtype\": \"number\",\n        \"std\": 0.6405441737440687,\n        \"min\": 1.0,\n        \"max\": 3.0,\n        \"num_unique_values\": 3,\n        \"samples\": [\n          1.0,\n          3.0\n        ],\n        \"semantic_type\": \"\",\n        \"description\": \"\"\n      }\n    }\n  ]\n}"
            }
          },
          "metadata": {},
          "execution_count": 3
        }
      ],
      "source": [
        "df"
      ]
    },
    {
      "cell_type": "code",
      "execution_count": 4,
      "id": "b719d0a1",
      "metadata": {
        "id": "b719d0a1"
      },
      "outputs": [],
      "source": [
        "df.drop('Name',axis=1,inplace=True)"
      ]
    },
    {
      "cell_type": "raw",
      "id": "a326a5f1",
      "metadata": {
        "id": "a326a5f1"
      },
      "source": [
        "# The line is comment not Use here\n",
        "\n",
        "#Convert the Object Variable to Int\n",
        "columns_to_convert = ['LDL1', 'HDL1', 'TG1', 'EF1','TC1']\n",
        "df[columns_to_convert] = df[columns_to_convert].apply(pd.to_numeric, errors='coerce', downcast='integer')"
      ]
    },
    {
      "cell_type": "raw",
      "id": "d8d2490d",
      "metadata": {
        "id": "d8d2490d"
      },
      "source": [
        "# The line is comment not Use here\n",
        "\n",
        "df['HDL1']=pd.to_numeric(df['HDL1'], errors='coerce').convert_dtypes()\n",
        "df['LDL1']=pd.to_numeric(df['LDL1'], errors='coerce').convert_dtypes()\n",
        "df['TG1']=pd.to_numeric(df['TG1'], errors='coerce').convert_dtypes()\n",
        "df['EF1']=pd.to_numeric(df['EF1'], errors='coerce').convert_dtypes()\n",
        "df['TC1']=pd.to_numeric(df['TC1'], errors='coerce').convert_dtypes()"
      ]
    },
    {
      "cell_type": "markdown",
      "id": "abdc0990",
      "metadata": {
        "id": "abdc0990"
      },
      "source": [
        "# Data COllection"
      ]
    },
    {
      "cell_type": "markdown",
      "id": "969b569f",
      "metadata": {
        "id": "969b569f"
      },
      "source": [
        "# b) Data Understanding"
      ]
    },
    {
      "cell_type": "code",
      "execution_count": 5,
      "id": "6538f20e",
      "metadata": {
        "colab": {
          "base_uri": "https://localhost:8080/"
        },
        "id": "6538f20e",
        "outputId": "28e62804-746c-4528-ee49-00dcc360697a"
      },
      "outputs": [
        {
          "output_type": "stream",
          "name": "stdout",
          "text": [
            "<class 'pandas.core.frame.DataFrame'>\n",
            "RangeIndex: 1501 entries, 0 to 1500\n",
            "Data columns (total 19 columns):\n",
            " #   Column       Non-Null Count  Dtype  \n",
            "---  ------       --------------  -----  \n",
            " 0   HTN          1501 non-null   int64  \n",
            " 1   DM           1501 non-null   int64  \n",
            " 2   SMK          1501 non-null   int64  \n",
            " 3   DL           1501 non-null   int64  \n",
            " 4   FH           1501 non-null   int64  \n",
            " 5   AMI          1501 non-null   int64  \n",
            " 6   Sex          1501 non-null   int64  \n",
            " 7   NSTEMI       1501 non-null   int64  \n",
            " 8   SA           1501 non-null   int64  \n",
            " 9   UA           1501 non-null   int64  \n",
            " 10  HOCABG       1501 non-null   int64  \n",
            " 11  HOPCI        1501 non-null   int64  \n",
            " 12  Age_Group    1501 non-null   int64  \n",
            " 13  LDL1         1434 non-null   float64\n",
            " 14  HDL1         1434 non-null   float64\n",
            " 15  TG1          1434 non-null   float64\n",
            " 16  EF1          1405 non-null   float64\n",
            " 17  Indication1  1501 non-null   int64  \n",
            " 18  TC1          1434 non-null   float64\n",
            "dtypes: float64(5), int64(14)\n",
            "memory usage: 222.9 KB\n"
          ]
        }
      ],
      "source": [
        "#i)\n",
        "df.info()"
      ]
    },
    {
      "cell_type": "code",
      "execution_count": 6,
      "id": "faf9ab8c",
      "metadata": {
        "id": "faf9ab8c"
      },
      "outputs": [],
      "source": [
        "df[['LDL1', 'HDL1', 'TG1', 'EF1', 'TC1']] = df[['LDL1', 'HDL1', 'TG1', 'EF1', 'TC1']].apply(pd.to_numeric, errors='coerce').fillna(0).astype('int64')"
      ]
    },
    {
      "cell_type": "code",
      "execution_count": 7,
      "id": "d6304b6a",
      "metadata": {
        "colab": {
          "base_uri": "https://localhost:8080/"
        },
        "id": "d6304b6a",
        "outputId": "33512301-a0f3-4a27-e682-0cf04a02c336"
      },
      "outputs": [
        {
          "output_type": "stream",
          "name": "stdout",
          "text": [
            "<class 'pandas.core.frame.DataFrame'>\n",
            "RangeIndex: 1501 entries, 0 to 1500\n",
            "Data columns (total 19 columns):\n",
            " #   Column       Non-Null Count  Dtype\n",
            "---  ------       --------------  -----\n",
            " 0   HTN          1501 non-null   int64\n",
            " 1   DM           1501 non-null   int64\n",
            " 2   SMK          1501 non-null   int64\n",
            " 3   DL           1501 non-null   int64\n",
            " 4   FH           1501 non-null   int64\n",
            " 5   AMI          1501 non-null   int64\n",
            " 6   Sex          1501 non-null   int64\n",
            " 7   NSTEMI       1501 non-null   int64\n",
            " 8   SA           1501 non-null   int64\n",
            " 9   UA           1501 non-null   int64\n",
            " 10  HOCABG       1501 non-null   int64\n",
            " 11  HOPCI        1501 non-null   int64\n",
            " 12  Age_Group    1501 non-null   int64\n",
            " 13  LDL1         1501 non-null   int64\n",
            " 14  HDL1         1501 non-null   int64\n",
            " 15  TG1          1501 non-null   int64\n",
            " 16  EF1          1501 non-null   int64\n",
            " 17  Indication1  1501 non-null   int64\n",
            " 18  TC1          1501 non-null   int64\n",
            "dtypes: int64(19)\n",
            "memory usage: 222.9 KB\n"
          ]
        }
      ],
      "source": [
        "df.info()"
      ]
    },
    {
      "cell_type": "code",
      "execution_count": 8,
      "id": "81e1629d",
      "metadata": {
        "colab": {
          "base_uri": "https://localhost:8080/",
          "height": 320
        },
        "id": "81e1629d",
        "outputId": "ae70b130-5af3-44b4-eff6-f227d7301c90"
      },
      "outputs": [
        {
          "output_type": "execute_result",
          "data": {
            "text/plain": [
              "               HTN           DM          SMK           DL           FH  \\\n",
              "count  1501.000000  1501.000000  1501.000000  1501.000000  1501.000000   \n",
              "mean      0.669554     0.475017     0.404397     0.009993     0.381746   \n",
              "std       0.470531     0.499542     0.490939     0.099499     0.485977   \n",
              "min       0.000000     0.000000     0.000000     0.000000     0.000000   \n",
              "25%       0.000000     0.000000     0.000000     0.000000     0.000000   \n",
              "50%       1.000000     0.000000     0.000000     0.000000     0.000000   \n",
              "75%       1.000000     1.000000     1.000000     0.000000     1.000000   \n",
              "max       1.000000     1.000000     1.000000     1.000000     1.000000   \n",
              "\n",
              "               AMI          Sex       NSTEMI           SA           UA  \\\n",
              "count  1501.000000  1501.000000  1501.000000  1501.000000  1501.000000   \n",
              "mean      0.373751     1.885410     0.165889     0.249167     0.171219   \n",
              "std       0.483960     0.318633     0.372105     0.432675     0.376826   \n",
              "min       0.000000     1.000000     0.000000     0.000000     0.000000   \n",
              "25%       0.000000     2.000000     0.000000     0.000000     0.000000   \n",
              "50%       0.000000     2.000000     0.000000     0.000000     0.000000   \n",
              "75%       1.000000     2.000000     0.000000     0.000000     0.000000   \n",
              "max       1.000000     2.000000     1.000000     1.000000     1.000000   \n",
              "\n",
              "            HOCABG        HOPCI    Age_Group         LDL1         HDL1  \\\n",
              "count  1501.000000  1501.000000  1501.000000  1501.000000  1501.000000   \n",
              "mean      0.034644     0.103931     1.711526     1.383078     1.703531   \n",
              "std       0.182936     0.305272     0.569263     0.570807     0.545937   \n",
              "min       0.000000     0.000000     1.000000     0.000000     0.000000   \n",
              "25%       0.000000     0.000000     1.000000     1.000000     1.000000   \n",
              "50%       0.000000     0.000000     2.000000     1.000000     2.000000   \n",
              "75%       0.000000     0.000000     2.000000     2.000000     2.000000   \n",
              "max       1.000000     1.000000     3.000000     2.000000     2.000000   \n",
              "\n",
              "               TG1          EF1  Indication1          TC1  \n",
              "count  1501.000000  1501.000000  1501.000000  1501.000000  \n",
              "mean      1.461026     1.262492     2.645570     1.268488  \n",
              "std       0.581360     0.567203     1.513372     0.683520  \n",
              "min       0.000000     0.000000     1.000000     0.000000  \n",
              "25%       1.000000     1.000000     1.000000     1.000000  \n",
              "50%       2.000000     1.000000     2.000000     1.000000  \n",
              "75%       2.000000     2.000000     4.000000     1.000000  \n",
              "max       2.000000     2.000000     5.000000     3.000000  "
            ],
            "text/html": [
              "\n",
              "  <div id=\"df-8a1e3c7d-aa78-4c4d-85ac-43576455c52a\" class=\"colab-df-container\">\n",
              "    <div>\n",
              "<style scoped>\n",
              "    .dataframe tbody tr th:only-of-type {\n",
              "        vertical-align: middle;\n",
              "    }\n",
              "\n",
              "    .dataframe tbody tr th {\n",
              "        vertical-align: top;\n",
              "    }\n",
              "\n",
              "    .dataframe thead th {\n",
              "        text-align: right;\n",
              "    }\n",
              "</style>\n",
              "<table border=\"1\" class=\"dataframe\">\n",
              "  <thead>\n",
              "    <tr style=\"text-align: right;\">\n",
              "      <th></th>\n",
              "      <th>HTN</th>\n",
              "      <th>DM</th>\n",
              "      <th>SMK</th>\n",
              "      <th>DL</th>\n",
              "      <th>FH</th>\n",
              "      <th>AMI</th>\n",
              "      <th>Sex</th>\n",
              "      <th>NSTEMI</th>\n",
              "      <th>SA</th>\n",
              "      <th>UA</th>\n",
              "      <th>HOCABG</th>\n",
              "      <th>HOPCI</th>\n",
              "      <th>Age_Group</th>\n",
              "      <th>LDL1</th>\n",
              "      <th>HDL1</th>\n",
              "      <th>TG1</th>\n",
              "      <th>EF1</th>\n",
              "      <th>Indication1</th>\n",
              "      <th>TC1</th>\n",
              "    </tr>\n",
              "  </thead>\n",
              "  <tbody>\n",
              "    <tr>\n",
              "      <th>count</th>\n",
              "      <td>1501.000000</td>\n",
              "      <td>1501.000000</td>\n",
              "      <td>1501.000000</td>\n",
              "      <td>1501.000000</td>\n",
              "      <td>1501.000000</td>\n",
              "      <td>1501.000000</td>\n",
              "      <td>1501.000000</td>\n",
              "      <td>1501.000000</td>\n",
              "      <td>1501.000000</td>\n",
              "      <td>1501.000000</td>\n",
              "      <td>1501.000000</td>\n",
              "      <td>1501.000000</td>\n",
              "      <td>1501.000000</td>\n",
              "      <td>1501.000000</td>\n",
              "      <td>1501.000000</td>\n",
              "      <td>1501.000000</td>\n",
              "      <td>1501.000000</td>\n",
              "      <td>1501.000000</td>\n",
              "      <td>1501.000000</td>\n",
              "    </tr>\n",
              "    <tr>\n",
              "      <th>mean</th>\n",
              "      <td>0.669554</td>\n",
              "      <td>0.475017</td>\n",
              "      <td>0.404397</td>\n",
              "      <td>0.009993</td>\n",
              "      <td>0.381746</td>\n",
              "      <td>0.373751</td>\n",
              "      <td>1.885410</td>\n",
              "      <td>0.165889</td>\n",
              "      <td>0.249167</td>\n",
              "      <td>0.171219</td>\n",
              "      <td>0.034644</td>\n",
              "      <td>0.103931</td>\n",
              "      <td>1.711526</td>\n",
              "      <td>1.383078</td>\n",
              "      <td>1.703531</td>\n",
              "      <td>1.461026</td>\n",
              "      <td>1.262492</td>\n",
              "      <td>2.645570</td>\n",
              "      <td>1.268488</td>\n",
              "    </tr>\n",
              "    <tr>\n",
              "      <th>std</th>\n",
              "      <td>0.470531</td>\n",
              "      <td>0.499542</td>\n",
              "      <td>0.490939</td>\n",
              "      <td>0.099499</td>\n",
              "      <td>0.485977</td>\n",
              "      <td>0.483960</td>\n",
              "      <td>0.318633</td>\n",
              "      <td>0.372105</td>\n",
              "      <td>0.432675</td>\n",
              "      <td>0.376826</td>\n",
              "      <td>0.182936</td>\n",
              "      <td>0.305272</td>\n",
              "      <td>0.569263</td>\n",
              "      <td>0.570807</td>\n",
              "      <td>0.545937</td>\n",
              "      <td>0.581360</td>\n",
              "      <td>0.567203</td>\n",
              "      <td>1.513372</td>\n",
              "      <td>0.683520</td>\n",
              "    </tr>\n",
              "    <tr>\n",
              "      <th>min</th>\n",
              "      <td>0.000000</td>\n",
              "      <td>0.000000</td>\n",
              "      <td>0.000000</td>\n",
              "      <td>0.000000</td>\n",
              "      <td>0.000000</td>\n",
              "      <td>0.000000</td>\n",
              "      <td>1.000000</td>\n",
              "      <td>0.000000</td>\n",
              "      <td>0.000000</td>\n",
              "      <td>0.000000</td>\n",
              "      <td>0.000000</td>\n",
              "      <td>0.000000</td>\n",
              "      <td>1.000000</td>\n",
              "      <td>0.000000</td>\n",
              "      <td>0.000000</td>\n",
              "      <td>0.000000</td>\n",
              "      <td>0.000000</td>\n",
              "      <td>1.000000</td>\n",
              "      <td>0.000000</td>\n",
              "    </tr>\n",
              "    <tr>\n",
              "      <th>25%</th>\n",
              "      <td>0.000000</td>\n",
              "      <td>0.000000</td>\n",
              "      <td>0.000000</td>\n",
              "      <td>0.000000</td>\n",
              "      <td>0.000000</td>\n",
              "      <td>0.000000</td>\n",
              "      <td>2.000000</td>\n",
              "      <td>0.000000</td>\n",
              "      <td>0.000000</td>\n",
              "      <td>0.000000</td>\n",
              "      <td>0.000000</td>\n",
              "      <td>0.000000</td>\n",
              "      <td>1.000000</td>\n",
              "      <td>1.000000</td>\n",
              "      <td>1.000000</td>\n",
              "      <td>1.000000</td>\n",
              "      <td>1.000000</td>\n",
              "      <td>1.000000</td>\n",
              "      <td>1.000000</td>\n",
              "    </tr>\n",
              "    <tr>\n",
              "      <th>50%</th>\n",
              "      <td>1.000000</td>\n",
              "      <td>0.000000</td>\n",
              "      <td>0.000000</td>\n",
              "      <td>0.000000</td>\n",
              "      <td>0.000000</td>\n",
              "      <td>0.000000</td>\n",
              "      <td>2.000000</td>\n",
              "      <td>0.000000</td>\n",
              "      <td>0.000000</td>\n",
              "      <td>0.000000</td>\n",
              "      <td>0.000000</td>\n",
              "      <td>0.000000</td>\n",
              "      <td>2.000000</td>\n",
              "      <td>1.000000</td>\n",
              "      <td>2.000000</td>\n",
              "      <td>2.000000</td>\n",
              "      <td>1.000000</td>\n",
              "      <td>2.000000</td>\n",
              "      <td>1.000000</td>\n",
              "    </tr>\n",
              "    <tr>\n",
              "      <th>75%</th>\n",
              "      <td>1.000000</td>\n",
              "      <td>1.000000</td>\n",
              "      <td>1.000000</td>\n",
              "      <td>0.000000</td>\n",
              "      <td>1.000000</td>\n",
              "      <td>1.000000</td>\n",
              "      <td>2.000000</td>\n",
              "      <td>0.000000</td>\n",
              "      <td>0.000000</td>\n",
              "      <td>0.000000</td>\n",
              "      <td>0.000000</td>\n",
              "      <td>0.000000</td>\n",
              "      <td>2.000000</td>\n",
              "      <td>2.000000</td>\n",
              "      <td>2.000000</td>\n",
              "      <td>2.000000</td>\n",
              "      <td>2.000000</td>\n",
              "      <td>4.000000</td>\n",
              "      <td>1.000000</td>\n",
              "    </tr>\n",
              "    <tr>\n",
              "      <th>max</th>\n",
              "      <td>1.000000</td>\n",
              "      <td>1.000000</td>\n",
              "      <td>1.000000</td>\n",
              "      <td>1.000000</td>\n",
              "      <td>1.000000</td>\n",
              "      <td>1.000000</td>\n",
              "      <td>2.000000</td>\n",
              "      <td>1.000000</td>\n",
              "      <td>1.000000</td>\n",
              "      <td>1.000000</td>\n",
              "      <td>1.000000</td>\n",
              "      <td>1.000000</td>\n",
              "      <td>3.000000</td>\n",
              "      <td>2.000000</td>\n",
              "      <td>2.000000</td>\n",
              "      <td>2.000000</td>\n",
              "      <td>2.000000</td>\n",
              "      <td>5.000000</td>\n",
              "      <td>3.000000</td>\n",
              "    </tr>\n",
              "  </tbody>\n",
              "</table>\n",
              "</div>\n",
              "    <div class=\"colab-df-buttons\">\n",
              "\n",
              "  <div class=\"colab-df-container\">\n",
              "    <button class=\"colab-df-convert\" onclick=\"convertToInteractive('df-8a1e3c7d-aa78-4c4d-85ac-43576455c52a')\"\n",
              "            title=\"Convert this dataframe to an interactive table.\"\n",
              "            style=\"display:none;\">\n",
              "\n",
              "  <svg xmlns=\"http://www.w3.org/2000/svg\" height=\"24px\" viewBox=\"0 -960 960 960\">\n",
              "    <path d=\"M120-120v-720h720v720H120Zm60-500h600v-160H180v160Zm220 220h160v-160H400v160Zm0 220h160v-160H400v160ZM180-400h160v-160H180v160Zm440 0h160v-160H620v160ZM180-180h160v-160H180v160Zm440 0h160v-160H620v160Z\"/>\n",
              "  </svg>\n",
              "    </button>\n",
              "\n",
              "  <style>\n",
              "    .colab-df-container {\n",
              "      display:flex;\n",
              "      gap: 12px;\n",
              "    }\n",
              "\n",
              "    .colab-df-convert {\n",
              "      background-color: #E8F0FE;\n",
              "      border: none;\n",
              "      border-radius: 50%;\n",
              "      cursor: pointer;\n",
              "      display: none;\n",
              "      fill: #1967D2;\n",
              "      height: 32px;\n",
              "      padding: 0 0 0 0;\n",
              "      width: 32px;\n",
              "    }\n",
              "\n",
              "    .colab-df-convert:hover {\n",
              "      background-color: #E2EBFA;\n",
              "      box-shadow: 0px 1px 2px rgba(60, 64, 67, 0.3), 0px 1px 3px 1px rgba(60, 64, 67, 0.15);\n",
              "      fill: #174EA6;\n",
              "    }\n",
              "\n",
              "    .colab-df-buttons div {\n",
              "      margin-bottom: 4px;\n",
              "    }\n",
              "\n",
              "    [theme=dark] .colab-df-convert {\n",
              "      background-color: #3B4455;\n",
              "      fill: #D2E3FC;\n",
              "    }\n",
              "\n",
              "    [theme=dark] .colab-df-convert:hover {\n",
              "      background-color: #434B5C;\n",
              "      box-shadow: 0px 1px 3px 1px rgba(0, 0, 0, 0.15);\n",
              "      filter: drop-shadow(0px 1px 2px rgba(0, 0, 0, 0.3));\n",
              "      fill: #FFFFFF;\n",
              "    }\n",
              "  </style>\n",
              "\n",
              "    <script>\n",
              "      const buttonEl =\n",
              "        document.querySelector('#df-8a1e3c7d-aa78-4c4d-85ac-43576455c52a button.colab-df-convert');\n",
              "      buttonEl.style.display =\n",
              "        google.colab.kernel.accessAllowed ? 'block' : 'none';\n",
              "\n",
              "      async function convertToInteractive(key) {\n",
              "        const element = document.querySelector('#df-8a1e3c7d-aa78-4c4d-85ac-43576455c52a');\n",
              "        const dataTable =\n",
              "          await google.colab.kernel.invokeFunction('convertToInteractive',\n",
              "                                                    [key], {});\n",
              "        if (!dataTable) return;\n",
              "\n",
              "        const docLinkHtml = 'Like what you see? Visit the ' +\n",
              "          '<a target=\"_blank\" href=https://colab.research.google.com/notebooks/data_table.ipynb>data table notebook</a>'\n",
              "          + ' to learn more about interactive tables.';\n",
              "        element.innerHTML = '';\n",
              "        dataTable['output_type'] = 'display_data';\n",
              "        await google.colab.output.renderOutput(dataTable, element);\n",
              "        const docLink = document.createElement('div');\n",
              "        docLink.innerHTML = docLinkHtml;\n",
              "        element.appendChild(docLink);\n",
              "      }\n",
              "    </script>\n",
              "  </div>\n",
              "\n",
              "\n",
              "<div id=\"df-fda3823b-5e2c-4022-8970-11f03d2c6d11\">\n",
              "  <button class=\"colab-df-quickchart\" onclick=\"quickchart('df-fda3823b-5e2c-4022-8970-11f03d2c6d11')\"\n",
              "            title=\"Suggest charts\"\n",
              "            style=\"display:none;\">\n",
              "\n",
              "<svg xmlns=\"http://www.w3.org/2000/svg\" height=\"24px\"viewBox=\"0 0 24 24\"\n",
              "     width=\"24px\">\n",
              "    <g>\n",
              "        <path d=\"M19 3H5c-1.1 0-2 .9-2 2v14c0 1.1.9 2 2 2h14c1.1 0 2-.9 2-2V5c0-1.1-.9-2-2-2zM9 17H7v-7h2v7zm4 0h-2V7h2v10zm4 0h-2v-4h2v4z\"/>\n",
              "    </g>\n",
              "</svg>\n",
              "  </button>\n",
              "\n",
              "<style>\n",
              "  .colab-df-quickchart {\n",
              "      --bg-color: #E8F0FE;\n",
              "      --fill-color: #1967D2;\n",
              "      --hover-bg-color: #E2EBFA;\n",
              "      --hover-fill-color: #174EA6;\n",
              "      --disabled-fill-color: #AAA;\n",
              "      --disabled-bg-color: #DDD;\n",
              "  }\n",
              "\n",
              "  [theme=dark] .colab-df-quickchart {\n",
              "      --bg-color: #3B4455;\n",
              "      --fill-color: #D2E3FC;\n",
              "      --hover-bg-color: #434B5C;\n",
              "      --hover-fill-color: #FFFFFF;\n",
              "      --disabled-bg-color: #3B4455;\n",
              "      --disabled-fill-color: #666;\n",
              "  }\n",
              "\n",
              "  .colab-df-quickchart {\n",
              "    background-color: var(--bg-color);\n",
              "    border: none;\n",
              "    border-radius: 50%;\n",
              "    cursor: pointer;\n",
              "    display: none;\n",
              "    fill: var(--fill-color);\n",
              "    height: 32px;\n",
              "    padding: 0;\n",
              "    width: 32px;\n",
              "  }\n",
              "\n",
              "  .colab-df-quickchart:hover {\n",
              "    background-color: var(--hover-bg-color);\n",
              "    box-shadow: 0 1px 2px rgba(60, 64, 67, 0.3), 0 1px 3px 1px rgba(60, 64, 67, 0.15);\n",
              "    fill: var(--button-hover-fill-color);\n",
              "  }\n",
              "\n",
              "  .colab-df-quickchart-complete:disabled,\n",
              "  .colab-df-quickchart-complete:disabled:hover {\n",
              "    background-color: var(--disabled-bg-color);\n",
              "    fill: var(--disabled-fill-color);\n",
              "    box-shadow: none;\n",
              "  }\n",
              "\n",
              "  .colab-df-spinner {\n",
              "    border: 2px solid var(--fill-color);\n",
              "    border-color: transparent;\n",
              "    border-bottom-color: var(--fill-color);\n",
              "    animation:\n",
              "      spin 1s steps(1) infinite;\n",
              "  }\n",
              "\n",
              "  @keyframes spin {\n",
              "    0% {\n",
              "      border-color: transparent;\n",
              "      border-bottom-color: var(--fill-color);\n",
              "      border-left-color: var(--fill-color);\n",
              "    }\n",
              "    20% {\n",
              "      border-color: transparent;\n",
              "      border-left-color: var(--fill-color);\n",
              "      border-top-color: var(--fill-color);\n",
              "    }\n",
              "    30% {\n",
              "      border-color: transparent;\n",
              "      border-left-color: var(--fill-color);\n",
              "      border-top-color: var(--fill-color);\n",
              "      border-right-color: var(--fill-color);\n",
              "    }\n",
              "    40% {\n",
              "      border-color: transparent;\n",
              "      border-right-color: var(--fill-color);\n",
              "      border-top-color: var(--fill-color);\n",
              "    }\n",
              "    60% {\n",
              "      border-color: transparent;\n",
              "      border-right-color: var(--fill-color);\n",
              "    }\n",
              "    80% {\n",
              "      border-color: transparent;\n",
              "      border-right-color: var(--fill-color);\n",
              "      border-bottom-color: var(--fill-color);\n",
              "    }\n",
              "    90% {\n",
              "      border-color: transparent;\n",
              "      border-bottom-color: var(--fill-color);\n",
              "    }\n",
              "  }\n",
              "</style>\n",
              "\n",
              "  <script>\n",
              "    async function quickchart(key) {\n",
              "      const quickchartButtonEl =\n",
              "        document.querySelector('#' + key + ' button');\n",
              "      quickchartButtonEl.disabled = true;  // To prevent multiple clicks.\n",
              "      quickchartButtonEl.classList.add('colab-df-spinner');\n",
              "      try {\n",
              "        const charts = await google.colab.kernel.invokeFunction(\n",
              "            'suggestCharts', [key], {});\n",
              "      } catch (error) {\n",
              "        console.error('Error during call to suggestCharts:', error);\n",
              "      }\n",
              "      quickchartButtonEl.classList.remove('colab-df-spinner');\n",
              "      quickchartButtonEl.classList.add('colab-df-quickchart-complete');\n",
              "    }\n",
              "    (() => {\n",
              "      let quickchartButtonEl =\n",
              "        document.querySelector('#df-fda3823b-5e2c-4022-8970-11f03d2c6d11 button');\n",
              "      quickchartButtonEl.style.display =\n",
              "        google.colab.kernel.accessAllowed ? 'block' : 'none';\n",
              "    })();\n",
              "  </script>\n",
              "</div>\n",
              "\n",
              "    </div>\n",
              "  </div>\n"
            ],
            "application/vnd.google.colaboratory.intrinsic+json": {
              "type": "dataframe",
              "summary": "{\n  \"name\": \"df\",\n  \"rows\": 8,\n  \"fields\": [\n    {\n      \"column\": \"HTN\",\n      \"properties\": {\n        \"dtype\": \"number\",\n        \"std\": 530.4746978680785,\n        \"min\": 0.0,\n        \"max\": 1501.0,\n        \"num_unique_values\": 5,\n        \"samples\": [\n          0.6695536309127248,\n          1.0,\n          0.4705306231144519\n        ],\n        \"semantic_type\": \"\",\n        \"description\": \"\"\n      }\n    },\n    {\n      \"column\": \"DM\",\n      \"properties\": {\n        \"dtype\": \"number\",\n        \"std\": 530.5335644552556,\n        \"min\": 0.0,\n        \"max\": 1501.0,\n        \"num_unique_values\": 5,\n        \"samples\": [\n          0.475016655562958,\n          1.0,\n          0.49954187317555326\n        ],\n        \"semantic_type\": \"\",\n        \"description\": \"\"\n      }\n    },\n    {\n      \"column\": \"SMK\",\n      \"properties\": {\n        \"dtype\": \"number\",\n        \"std\": 530.5375652511575,\n        \"min\": 0.0,\n        \"max\": 1501.0,\n        \"num_unique_values\": 5,\n        \"samples\": [\n          0.4043970686209194,\n          1.0,\n          0.490938542893169\n        ],\n        \"semantic_type\": \"\",\n        \"description\": \"\"\n      }\n    },\n    {\n      \"column\": \"DL\",\n      \"properties\": {\n        \"dtype\": \"number\",\n        \"std\": 530.6277137368329,\n        \"min\": 0.0,\n        \"max\": 1501.0,\n        \"num_unique_values\": 5,\n        \"samples\": [\n          0.009993337774816789,\n          1.0,\n          0.09949907849951091\n        ],\n        \"semantic_type\": \"\",\n        \"description\": \"\"\n      }\n    },\n    {\n      \"column\": \"FH\",\n      \"properties\": {\n        \"dtype\": \"number\",\n        \"std\": 530.5389599561667,\n        \"min\": 0.0,\n        \"max\": 1501.0,\n        \"num_unique_values\": 5,\n        \"samples\": [\n          0.3817455029980013,\n          1.0,\n          0.4859765610137628\n        ],\n        \"semantic_type\": \"\",\n        \"description\": \"\"\n      }\n    },\n    {\n      \"column\": \"AMI\",\n      \"properties\": {\n        \"dtype\": \"number\",\n        \"std\": 530.5394656303174,\n        \"min\": 0.0,\n        \"max\": 1501.0,\n        \"num_unique_values\": 5,\n        \"samples\": [\n          0.3737508327781479,\n          1.0,\n          0.4839599038566859\n        ],\n        \"semantic_type\": \"\",\n        \"description\": \"\"\n      }\n    },\n    {\n      \"column\": \"Sex\",\n      \"properties\": {\n        \"dtype\": \"number\",\n        \"std\": 530.1181166152438,\n        \"min\": 0.3186329895224159,\n        \"max\": 1501.0,\n        \"num_unique_values\": 5,\n        \"samples\": [\n          1.8854097268487675,\n          2.0,\n          0.3186329895224159\n        ],\n        \"semantic_type\": \"\",\n        \"description\": \"\"\n      }\n    },\n    {\n      \"column\": \"NSTEMI\",\n      \"properties\": {\n        \"dtype\": \"number\",\n        \"std\": 530.6060702882634,\n        \"min\": 0.0,\n        \"max\": 1501.0,\n        \"num_unique_values\": 5,\n        \"samples\": [\n          0.1658894070619587,\n          1.0,\n          0.3721053055624373\n        ],\n        \"semantic_type\": \"\",\n        \"description\": \"\"\n      }\n    },\n    {\n      \"column\": \"SA\",\n      \"properties\": {\n        \"dtype\": \"number\",\n        \"std\": 530.598807202243,\n        \"min\": 0.0,\n        \"max\": 1501.0,\n        \"num_unique_values\": 5,\n        \"samples\": [\n          0.2491672218520986,\n          1.0,\n          0.43267498119436415\n        ],\n        \"semantic_type\": \"\",\n        \"description\": \"\"\n      }\n    },\n    {\n      \"column\": \"UA\",\n      \"properties\": {\n        \"dtype\": \"number\",\n        \"std\": 530.605562787762,\n        \"min\": 0.0,\n        \"max\": 1501.0,\n        \"num_unique_values\": 5,\n        \"samples\": [\n          0.17121918720852763,\n          1.0,\n          0.3768259269984913\n        ],\n        \"semantic_type\": \"\",\n        \"description\": \"\"\n      }\n    },\n    {\n      \"column\": \"HOCABG\",\n      \"properties\": {\n        \"dtype\": \"number\",\n        \"std\": 530.622252980542,\n        \"min\": 0.0,\n        \"max\": 1501.0,\n        \"num_unique_values\": 5,\n        \"samples\": [\n          0.034643570952698204,\n          1.0,\n          0.1829362991325299\n        ],\n        \"semantic_type\": \"\",\n        \"description\": \"\"\n      }\n    },\n    {\n      \"column\": \"HOPCI\",\n      \"properties\": {\n        \"dtype\": \"number\",\n        \"std\": 530.6125742025392,\n        \"min\": 0.0,\n        \"max\": 1501.0,\n        \"num_unique_values\": 5,\n        \"samples\": [\n          0.1039307128580946,\n          1.0,\n          0.3052723470325443\n        ],\n        \"semantic_type\": \"\",\n        \"description\": \"\"\n      }\n    },\n    {\n      \"column\": \"Age_Group\",\n      \"properties\": {\n        \"dtype\": \"number\",\n        \"std\": 530.1144223389105,\n        \"min\": 0.5692630360167384,\n        \"max\": 1501.0,\n        \"num_unique_values\": 6,\n        \"samples\": [\n          1501.0,\n          1.7115256495669553,\n          3.0\n        ],\n        \"semantic_type\": \"\",\n        \"description\": \"\"\n      }\n    },\n    {\n      \"column\": \"LDL1\",\n      \"properties\": {\n        \"dtype\": \"number\",\n        \"std\": 530.2823386153058,\n        \"min\": 0.0,\n        \"max\": 1501.0,\n        \"num_unique_values\": 6,\n        \"samples\": [\n          1501.0,\n          1.3830779480346436,\n          2.0\n        ],\n        \"semantic_type\": \"\",\n        \"description\": \"\"\n      }\n    },\n    {\n      \"column\": \"HDL1\",\n      \"properties\": {\n        \"dtype\": \"number\",\n        \"std\": 530.2170065191093,\n        \"min\": 0.0,\n        \"max\": 1501.0,\n        \"num_unique_values\": 6,\n        \"samples\": [\n          1501.0,\n          1.7035309793471018,\n          2.0\n        ],\n        \"semantic_type\": \"\",\n        \"description\": \"\"\n      }\n    },\n    {\n      \"column\": \"TG1\",\n      \"properties\": {\n        \"dtype\": \"number\",\n        \"std\": 530.2274406140489,\n        \"min\": 0.0,\n        \"max\": 1501.0,\n        \"num_unique_values\": 6,\n        \"samples\": [\n          1501.0,\n          1.4610259826782146,\n          2.0\n        ],\n        \"semantic_type\": \"\",\n        \"description\": \"\"\n      }\n    },\n    {\n      \"column\": \"EF1\",\n      \"properties\": {\n        \"dtype\": \"number\",\n        \"std\": 530.2886053559998,\n        \"min\": 0.0,\n        \"max\": 1501.0,\n        \"num_unique_values\": 6,\n        \"samples\": [\n          1501.0,\n          1.2624916722185209,\n          2.0\n        ],\n        \"semantic_type\": \"\",\n        \"description\": \"\"\n      }\n    },\n    {\n      \"column\": \"Indication1\",\n      \"properties\": {\n        \"dtype\": \"number\",\n        \"std\": 529.8189000245452,\n        \"min\": 1.0,\n        \"max\": 1501.0,\n        \"num_unique_values\": 7,\n        \"samples\": [\n          1501.0,\n          2.6455696202531644,\n          4.0\n        ],\n        \"semantic_type\": \"\",\n        \"description\": \"\"\n      }\n    },\n    {\n      \"column\": \"TC1\",\n      \"properties\": {\n        \"dtype\": \"number\",\n        \"std\": 530.2826814960367,\n        \"min\": 0.0,\n        \"max\": 1501.0,\n        \"num_unique_values\": 6,\n        \"samples\": [\n          1501.0,\n          1.268487674883411,\n          3.0\n        ],\n        \"semantic_type\": \"\",\n        \"description\": \"\"\n      }\n    }\n  ]\n}"
            }
          },
          "metadata": {},
          "execution_count": 8
        }
      ],
      "source": [
        "df.describe()"
      ]
    },
    {
      "cell_type": "code",
      "execution_count": 9,
      "id": "ba2ca5be",
      "metadata": {
        "colab": {
          "base_uri": "https://localhost:8080/"
        },
        "id": "ba2ca5be",
        "outputId": "84d7a809-1108-4150-fed4-279a621bf66f"
      },
      "outputs": [
        {
          "output_type": "execute_result",
          "data": {
            "text/plain": [
              "Index(['HTN', 'DM', 'SMK', 'DL', 'FH', 'AMI', 'Sex', 'NSTEMI', 'SA', 'UA',\n",
              "       'HOCABG', 'HOPCI', 'Age_Group', 'LDL1', 'HDL1', 'TG1', 'EF1',\n",
              "       'Indication1', 'TC1'],\n",
              "      dtype='object')"
            ]
          },
          "metadata": {},
          "execution_count": 9
        }
      ],
      "source": [
        "# ii) Feature Names and Counts = 18 Dep and 1 indep features\n",
        "df.columns"
      ]
    },
    {
      "cell_type": "markdown",
      "id": "b2ec45a9",
      "metadata": {
        "id": "b2ec45a9"
      },
      "source": [
        "# iii) Handel the Missing Values and Outliers  "
      ]
    },
    {
      "cell_type": "markdown",
      "id": "e01c82bf",
      "metadata": {
        "id": "e01c82bf"
      },
      "source": [
        "Use Mice algorithms"
      ]
    },
    {
      "cell_type": "code",
      "execution_count": 10,
      "id": "b2650e97",
      "metadata": {
        "id": "b2650e97"
      },
      "outputs": [],
      "source": [
        "from sklearn.experimental import enable_iterative_imputer\n",
        "from sklearn.impute import IterativeImputer"
      ]
    },
    {
      "cell_type": "code",
      "execution_count": 11,
      "id": "aa11b1f7",
      "metadata": {
        "id": "aa11b1f7"
      },
      "outputs": [],
      "source": [
        "df_imputer = df.copy(deep= True)"
      ]
    },
    {
      "cell_type": "code",
      "execution_count": 12,
      "id": "950d2b0c",
      "metadata": {
        "id": "950d2b0c"
      },
      "outputs": [],
      "source": [
        "iterimp = IterativeImputer()\n",
        "df_imputer.iloc[:,:] = iterimp.fit_transform(df_imputer)"
      ]
    },
    {
      "cell_type": "code",
      "execution_count": 13,
      "id": "5c62f167",
      "metadata": {
        "colab": {
          "base_uri": "https://localhost:8080/"
        },
        "id": "5c62f167",
        "outputId": "dab5f082-6338-499f-8d16-98a73ac518f2"
      },
      "outputs": [
        {
          "output_type": "execute_result",
          "data": {
            "text/plain": [
              "HTN            0\n",
              "DM             0\n",
              "SMK            0\n",
              "DL             0\n",
              "FH             0\n",
              "AMI            0\n",
              "Sex            0\n",
              "NSTEMI         0\n",
              "SA             0\n",
              "UA             0\n",
              "HOCABG         0\n",
              "HOPCI          0\n",
              "Age_Group      0\n",
              "LDL1           0\n",
              "HDL1           0\n",
              "TG1            0\n",
              "EF1            0\n",
              "Indication1    0\n",
              "TC1            0\n",
              "dtype: int64"
            ]
          },
          "metadata": {},
          "execution_count": 13
        }
      ],
      "source": [
        "df_imputer.isna().sum()"
      ]
    },
    {
      "cell_type": "code",
      "execution_count": 14,
      "id": "49af2909",
      "metadata": {
        "id": "49af2909"
      },
      "outputs": [],
      "source": [
        "df=df_imputer"
      ]
    },
    {
      "cell_type": "code",
      "execution_count": 15,
      "id": "16d94515",
      "metadata": {
        "colab": {
          "base_uri": "https://localhost:8080/"
        },
        "id": "16d94515",
        "outputId": "48338863-0ed6-4b92-ea8f-ff19e029c327"
      },
      "outputs": [
        {
          "output_type": "execute_result",
          "data": {
            "text/plain": [
              "HTN            0\n",
              "DM             0\n",
              "SMK            0\n",
              "DL             0\n",
              "FH             0\n",
              "AMI            0\n",
              "Sex            0\n",
              "NSTEMI         0\n",
              "SA             0\n",
              "UA             0\n",
              "HOCABG         0\n",
              "HOPCI          0\n",
              "Age_Group      0\n",
              "LDL1           0\n",
              "HDL1           0\n",
              "TG1            0\n",
              "EF1            0\n",
              "Indication1    0\n",
              "TC1            0\n",
              "dtype: int64"
            ]
          },
          "metadata": {},
          "execution_count": 15
        }
      ],
      "source": [
        "df.isnull().sum()"
      ]
    },
    {
      "cell_type": "markdown",
      "id": "099d33ce",
      "metadata": {
        "id": "099d33ce"
      },
      "source": [
        "print(df['LDL1'].mode())\n",
        "print(df['HDL1'].mode())\n",
        "print(df['TG1'].mode())\n",
        "print(df['EF1'].mode())\n",
        "print(df['TC1'].mode())"
      ]
    },
    {
      "cell_type": "markdown",
      "id": "d81224be",
      "metadata": {
        "id": "d81224be"
      },
      "source": [
        "THE LINE IS COMMENT\n",
        "\n",
        "df['column_name']=df['column_name'].replace([v1, v2, v3], [a, b, c])\n",
        "df['column_name']=df['column_name'].replace([v1, v2, v3], [a, b, c])\n",
        "df[['LDL1', 'HDL1', 'TG1', 'EF1', 'TC1']]"
      ]
    },
    {
      "cell_type": "markdown",
      "id": "e083b7fe",
      "metadata": {
        "id": "e083b7fe"
      },
      "source": [
        "df['LDL1']=df['LDL1'].replace([0],[1])\n",
        "df['HDL1']=df['HDL1'].replace([0],[2])\n",
        "df['TG1']=df['TG1'].replace([0],[2])\n",
        "df['EF1']=df['EF1'].replace([0],[1])\n",
        "df['TC1']=df['TC1'].replace([0],[1])"
      ]
    },
    {
      "cell_type": "raw",
      "id": "d79395b6",
      "metadata": {
        "id": "d79395b6"
      },
      "source": [
        "# The line is cooment now\n",
        "#Using Mode values Handel the Missing Values\n",
        "for col in ['LDL1', 'HDL1', 'TG1', 'EF1', 'TC1']:\n",
        "    df[col].fillna(df[col].mode().iloc[0], inplace=True)"
      ]
    },
    {
      "cell_type": "code",
      "execution_count": 16,
      "id": "70508915",
      "metadata": {
        "colab": {
          "base_uri": "https://localhost:8080/"
        },
        "id": "70508915",
        "outputId": "f6efef17-de51-4f78-bc46-64a3623fb15a"
      },
      "outputs": [
        {
          "output_type": "execute_result",
          "data": {
            "text/plain": [
              "HTN            0\n",
              "DM             0\n",
              "SMK            0\n",
              "DL             0\n",
              "FH             0\n",
              "AMI            0\n",
              "Sex            0\n",
              "NSTEMI         0\n",
              "SA             0\n",
              "UA             0\n",
              "HOCABG         0\n",
              "HOPCI          0\n",
              "Age_Group      0\n",
              "LDL1           0\n",
              "HDL1           0\n",
              "TG1            0\n",
              "EF1            0\n",
              "Indication1    0\n",
              "TC1            0\n",
              "dtype: int64"
            ]
          },
          "metadata": {},
          "execution_count": 16
        }
      ],
      "source": [
        "df.isnull().sum()"
      ]
    },
    {
      "cell_type": "markdown",
      "id": "71c1287d",
      "metadata": {
        "id": "71c1287d"
      },
      "source": [
        "# iv) Check the duplicates"
      ]
    },
    {
      "cell_type": "markdown",
      "id": "d57e024d",
      "metadata": {
        "id": "d57e024d"
      },
      "source": [
        "Drop the Object Columns (Name Column Delted)"
      ]
    },
    {
      "cell_type": "code",
      "execution_count": 17,
      "id": "50f5c71d",
      "metadata": {
        "colab": {
          "base_uri": "https://localhost:8080/"
        },
        "id": "50f5c71d",
        "outputId": "98756686-2829-4eb8-854b-1f283c2781d2"
      },
      "outputs": [
        {
          "output_type": "execute_result",
          "data": {
            "text/plain": [
              "388"
            ]
          },
          "metadata": {},
          "execution_count": 17
        }
      ],
      "source": [
        "df.duplicated().sum()"
      ]
    },
    {
      "cell_type": "code",
      "execution_count": 18,
      "id": "b7a34a88",
      "metadata": {
        "id": "b7a34a88"
      },
      "outputs": [],
      "source": [
        "df.drop_duplicates(inplace=True)"
      ]
    },
    {
      "cell_type": "code",
      "execution_count": 19,
      "id": "8fc404ec",
      "metadata": {
        "colab": {
          "base_uri": "https://localhost:8080/"
        },
        "id": "8fc404ec",
        "outputId": "93afe09b-4bc7-4852-e605-8fce99424fe5"
      },
      "outputs": [
        {
          "output_type": "stream",
          "name": "stdout",
          "text": [
            "<class 'pandas.core.frame.DataFrame'>\n",
            "Int64Index: 1113 entries, 0 to 1500\n",
            "Data columns (total 19 columns):\n",
            " #   Column       Non-Null Count  Dtype\n",
            "---  ------       --------------  -----\n",
            " 0   HTN          1113 non-null   int64\n",
            " 1   DM           1113 non-null   int64\n",
            " 2   SMK          1113 non-null   int64\n",
            " 3   DL           1113 non-null   int64\n",
            " 4   FH           1113 non-null   int64\n",
            " 5   AMI          1113 non-null   int64\n",
            " 6   Sex          1113 non-null   int64\n",
            " 7   NSTEMI       1113 non-null   int64\n",
            " 8   SA           1113 non-null   int64\n",
            " 9   UA           1113 non-null   int64\n",
            " 10  HOCABG       1113 non-null   int64\n",
            " 11  HOPCI        1113 non-null   int64\n",
            " 12  Age_Group    1113 non-null   int64\n",
            " 13  LDL1         1113 non-null   int64\n",
            " 14  HDL1         1113 non-null   int64\n",
            " 15  TG1          1113 non-null   int64\n",
            " 16  EF1          1113 non-null   int64\n",
            " 17  Indication1  1113 non-null   int64\n",
            " 18  TC1          1113 non-null   int64\n",
            "dtypes: int64(19)\n",
            "memory usage: 173.9 KB\n"
          ]
        }
      ],
      "source": [
        "df.info()"
      ]
    },
    {
      "cell_type": "code",
      "execution_count": 20,
      "id": "bbb3c8c5",
      "metadata": {
        "colab": {
          "base_uri": "https://localhost:8080/"
        },
        "id": "bbb3c8c5",
        "outputId": "ffaad6e3-3732-481a-dfb6-c51677ed93a8"
      },
      "outputs": [
        {
          "output_type": "execute_result",
          "data": {
            "text/plain": [
              "0    712\n",
              "1    401\n",
              "Name: AMI, dtype: int64"
            ]
          },
          "metadata": {},
          "execution_count": 20
        }
      ],
      "source": [
        "# v) SHow the imbalanced Dataset using Graph\n",
        "df['AMI'].value_counts()"
      ]
    },
    {
      "cell_type": "code",
      "execution_count": 21,
      "id": "c26e164c",
      "metadata": {
        "colab": {
          "base_uri": "https://localhost:8080/"
        },
        "id": "c26e164c",
        "outputId": "4447a2bb-6489-4060-f1ce-eb48272079fe"
      },
      "outputs": [
        {
          "output_type": "execute_result",
          "data": {
            "text/plain": [
              "303"
            ]
          },
          "metadata": {},
          "execution_count": 21
        }
      ],
      "source": [
        "699-396\n",
        "#imbanalced Dataset Half dataset is Missing after removing the sublicated ,"
      ]
    },
    {
      "cell_type": "markdown",
      "id": "c71e506d",
      "metadata": {
        "id": "c71e506d"
      },
      "source": [
        "# 4)  Feature Selection using orginal data (without Null and duplicate)"
      ]
    },
    {
      "cell_type": "code",
      "execution_count": 22,
      "id": "d2883a0b",
      "metadata": {
        "id": "d2883a0b"
      },
      "outputs": [],
      "source": [
        "from sklearn.preprocessing import LabelEncoder\n",
        "from sklearn.model_selection import train_test_split\n",
        "from sklearn.linear_model import LogisticRegression\n",
        "from sklearn.metrics import accuracy_score\n",
        "\n",
        "# Separate features and target\n",
        "X_Feature_Selection = df.drop('AMI', axis=1)\n",
        "y_Feature_Selection = df['AMI']\n",
        "\n",
        "# Split data into training and testing sets\n",
        "X_train_Feature_Selection, X_test_Feature_Selection, y_train_Feature_Selection, y_test_Feature_Selection = train_test_split(X_Feature_Selection, y_Feature_Selection, test_size=0.2, random_state=42)"
      ]
    },
    {
      "cell_type": "code",
      "execution_count": 23,
      "id": "b8be2009",
      "metadata": {
        "colab": {
          "base_uri": "https://localhost:8080/"
        },
        "id": "b8be2009",
        "outputId": "bdf500e1-bd32-4ed4-8408-986bb2df1549"
      },
      "outputs": [
        {
          "output_type": "stream",
          "name": "stdout",
          "text": [
            "(890, 18)\n",
            "(223, 18)\n",
            "(890,)\n",
            "(223,)\n"
          ]
        }
      ],
      "source": [
        "print(X_train_Feature_Selection.shape)\n",
        "print(X_test_Feature_Selection.shape)\n",
        "print(y_train_Feature_Selection.shape)\n",
        "print(y_test_Feature_Selection.shape)"
      ]
    },
    {
      "cell_type": "markdown",
      "id": "d0348d61",
      "metadata": {
        "id": "d0348d61"
      },
      "source": [
        "# i)Checking Multicolinearity using orginal data (without Null and duplicate)"
      ]
    },
    {
      "cell_type": "code",
      "execution_count": 24,
      "id": "ae8b4251",
      "metadata": {
        "colab": {
          "base_uri": "https://localhost:8080/",
          "height": 570
        },
        "id": "ae8b4251",
        "outputId": "73e1b764-adb6-4b72-f055-2290a18a6bd9"
      },
      "outputs": [
        {
          "output_type": "execute_result",
          "data": {
            "text/plain": [
              "[(0.6509803921568628, 0.807843137254902, 0.8901960784313725),\n",
              " (0.12156862745098039, 0.47058823529411764, 0.7058823529411765),\n",
              " (0.6980392156862745, 0.8745098039215686, 0.5411764705882353),\n",
              " (0.2, 0.6274509803921569, 0.17254901960784313),\n",
              " (0.984313725490196, 0.6039215686274509, 0.6),\n",
              " (0.8901960784313725, 0.10196078431372549, 0.10980392156862745),\n",
              " (0.9921568627450981, 0.7490196078431373, 0.43529411764705883),\n",
              " (1.0, 0.4980392156862745, 0.0),\n",
              " (0.792156862745098, 0.6980392156862745, 0.8392156862745098),\n",
              " (0.41568627450980394, 0.23921568627450981, 0.6039215686274509),\n",
              " (1.0, 1.0, 0.6),\n",
              " (0.6941176470588235, 0.34901960784313724, 0.1568627450980392)]"
            ],
            "text/html": [
              "<svg  width=\"660\" height=\"55\"><rect x=\"0\" y=\"0\" width=\"55\" height=\"55\" style=\"fill:#a6cee3;stroke-width:2;stroke:rgb(255,255,255)\"/><rect x=\"55\" y=\"0\" width=\"55\" height=\"55\" style=\"fill:#1f78b4;stroke-width:2;stroke:rgb(255,255,255)\"/><rect x=\"110\" y=\"0\" width=\"55\" height=\"55\" style=\"fill:#b2df8a;stroke-width:2;stroke:rgb(255,255,255)\"/><rect x=\"165\" y=\"0\" width=\"55\" height=\"55\" style=\"fill:#33a02c;stroke-width:2;stroke:rgb(255,255,255)\"/><rect x=\"220\" y=\"0\" width=\"55\" height=\"55\" style=\"fill:#fb9a99;stroke-width:2;stroke:rgb(255,255,255)\"/><rect x=\"275\" y=\"0\" width=\"55\" height=\"55\" style=\"fill:#e31a1c;stroke-width:2;stroke:rgb(255,255,255)\"/><rect x=\"330\" y=\"0\" width=\"55\" height=\"55\" style=\"fill:#fdbf6f;stroke-width:2;stroke:rgb(255,255,255)\"/><rect x=\"385\" y=\"0\" width=\"55\" height=\"55\" style=\"fill:#ff7f00;stroke-width:2;stroke:rgb(255,255,255)\"/><rect x=\"440\" y=\"0\" width=\"55\" height=\"55\" style=\"fill:#cab2d6;stroke-width:2;stroke:rgb(255,255,255)\"/><rect x=\"495\" y=\"0\" width=\"55\" height=\"55\" style=\"fill:#6a3d9a;stroke-width:2;stroke:rgb(255,255,255)\"/><rect x=\"550\" y=\"0\" width=\"55\" height=\"55\" style=\"fill:#ffff99;stroke-width:2;stroke:rgb(255,255,255)\"/><rect x=\"605\" y=\"0\" width=\"55\" height=\"55\" style=\"fill:#b15928;stroke-width:2;stroke:rgb(255,255,255)\"/></svg>"
            ]
          },
          "metadata": {},
          "execution_count": 24
        },
        {
          "output_type": "display_data",
          "data": {
            "text/plain": [
              "<Figure size 2500x1000 with 2 Axes>"
            ],
            "image/png": "[encoded data removed]"
          },
          "metadata": {}
        }
      ],
      "source": [
        "#Multicolinearity Test\n",
        "plt.figure(figsize=(25,10))\n",
        "sns.heatmap(X_Feature_Selection.corr(),cmap=\"Blues\", annot=True)\n",
        "sns.color_palette(\"Paired\")"
      ]
    },
    {
      "cell_type": "code",
      "execution_count": 25,
      "id": "bdc89117",
      "metadata": {
        "id": "bdc89117"
      },
      "outputs": [],
      "source": [
        "from statsmodels.stats.outliers_influence import variance_inflation_factor\n",
        "\n",
        "vif = []\n",
        "\n",
        "for i in range(X_Feature_Selection.shape[1]):\n",
        "    vif.append(variance_inflation_factor(X_Feature_Selection, i))"
      ]
    },
    {
      "cell_type": "code",
      "execution_count": 26,
      "id": "bb194961",
      "metadata": {
        "colab": {
          "base_uri": "https://localhost:8080/",
          "height": 100
        },
        "id": "bb194961",
        "outputId": "9ce5db71-676f-4552-9a2e-debb2ae2cddc"
      },
      "outputs": [
        {
          "output_type": "execute_result",
          "data": {
            "text/plain": [
              "          HTN        DM       SMK        DL        FH        Sex    NSTEMI  \\\n",
              "vif  3.114958  2.101563  1.904186  1.037892  1.753135  22.363127  2.166236   \n",
              "\n",
              "           SA        UA    HOCABG     HOPCI  Age_Group       LDL1       HDL1  \\\n",
              "vif  2.013817  2.920924  1.317444  2.209942   9.207568  13.329729  13.822049   \n",
              "\n",
              "          TG1       EF1  Indication1       TC1  \n",
              "vif  10.72172  7.360443    14.246439  7.610038  "
            ],
            "text/html": [
              "\n",
              "  <div id=\"df-97b1514f-3787-41fe-bc9b-1a60e6461fee\" class=\"colab-df-container\">\n",
              "    <div>\n",
              "<style scoped>\n",
              "    .dataframe tbody tr th:only-of-type {\n",
              "        vertical-align: middle;\n",
              "    }\n",
              "\n",
              "    .dataframe tbody tr th {\n",
              "        vertical-align: top;\n",
              "    }\n",
              "\n",
              "    .dataframe thead th {\n",
              "        text-align: right;\n",
              "    }\n",
              "</style>\n",
              "<table border=\"1\" class=\"dataframe\">\n",
              "  <thead>\n",
              "    <tr style=\"text-align: right;\">\n",
              "      <th></th>\n",
              "      <th>HTN</th>\n",
              "      <th>DM</th>\n",
              "      <th>SMK</th>\n",
              "      <th>DL</th>\n",
              "      <th>FH</th>\n",
              "      <th>Sex</th>\n",
              "      <th>NSTEMI</th>\n",
              "      <th>SA</th>\n",
              "      <th>UA</th>\n",
              "      <th>HOCABG</th>\n",
              "      <th>HOPCI</th>\n",
              "      <th>Age_Group</th>\n",
              "      <th>LDL1</th>\n",
              "      <th>HDL1</th>\n",
              "      <th>TG1</th>\n",
              "      <th>EF1</th>\n",
              "      <th>Indication1</th>\n",
              "      <th>TC1</th>\n",
              "    </tr>\n",
              "  </thead>\n",
              "  <tbody>\n",
              "    <tr>\n",
              "      <th>vif</th>\n",
              "      <td>3.114958</td>\n",
              "      <td>2.101563</td>\n",
              "      <td>1.904186</td>\n",
              "      <td>1.037892</td>\n",
              "      <td>1.753135</td>\n",
              "      <td>22.363127</td>\n",
              "      <td>2.166236</td>\n",
              "      <td>2.013817</td>\n",
              "      <td>2.920924</td>\n",
              "      <td>1.317444</td>\n",
              "      <td>2.209942</td>\n",
              "      <td>9.207568</td>\n",
              "      <td>13.329729</td>\n",
              "      <td>13.822049</td>\n",
              "      <td>10.72172</td>\n",
              "      <td>7.360443</td>\n",
              "      <td>14.246439</td>\n",
              "      <td>7.610038</td>\n",
              "    </tr>\n",
              "  </tbody>\n",
              "</table>\n",
              "</div>\n",
              "    <div class=\"colab-df-buttons\">\n",
              "\n",
              "  <div class=\"colab-df-container\">\n",
              "    <button class=\"colab-df-convert\" onclick=\"convertToInteractive('df-97b1514f-3787-41fe-bc9b-1a60e6461fee')\"\n",
              "            title=\"Convert this dataframe to an interactive table.\"\n",
              "            style=\"display:none;\">\n",
              "\n",
              "  <svg xmlns=\"http://www.w3.org/2000/svg\" height=\"24px\" viewBox=\"0 -960 960 960\">\n",
              "    <path d=\"M120-120v-720h720v720H120Zm60-500h600v-160H180v160Zm220 220h160v-160H400v160Zm0 220h160v-160H400v160ZM180-400h160v-160H180v160Zm440 0h160v-160H620v160ZM180-180h160v-160H180v160Zm440 0h160v-160H620v160Z\"/>\n",
              "  </svg>\n",
              "    </button>\n",
              "\n",
              "  <style>\n",
              "    .colab-df-container {\n",
              "      display:flex;\n",
              "      gap: 12px;\n",
              "    }\n",
              "\n",
              "    .colab-df-convert {\n",
              "      background-color: #E8F0FE;\n",
              "      border: none;\n",
              "      border-radius: 50%;\n",
              "      cursor: pointer;\n",
              "      display: none;\n",
              "      fill: #1967D2;\n",
              "      height: 32px;\n",
              "      padding: 0 0 0 0;\n",
              "      width: 32px;\n",
              "    }\n",
              "\n",
              "    .colab-df-convert:hover {\n",
              "      background-color: #E2EBFA;\n",
              "      box-shadow: 0px 1px 2px rgba(60, 64, 67, 0.3), 0px 1px 3px 1px rgba(60, 64, 67, 0.15);\n",
              "      fill: #174EA6;\n",
              "    }\n",
              "\n",
              "    .colab-df-buttons div {\n",
              "      margin-bottom: 4px;\n",
              "    }\n",
              "\n",
              "    [theme=dark] .colab-df-convert {\n",
              "      background-color: #3B4455;\n",
              "      fill: #D2E3FC;\n",
              "    }\n",
              "\n",
              "    [theme=dark] .colab-df-convert:hover {\n",
              "      background-color: #434B5C;\n",
              "      box-shadow: 0px 1px 3px 1px rgba(0, 0, 0, 0.15);\n",
              "      filter: drop-shadow(0px 1px 2px rgba(0, 0, 0, 0.3));\n",
              "      fill: #FFFFFF;\n",
              "    }\n",
              "  </style>\n",
              "\n",
              "    <script>\n",
              "      const buttonEl =\n",
              "        document.querySelector('#df-97b1514f-3787-41fe-bc9b-1a60e6461fee button.colab-df-convert');\n",
              "      buttonEl.style.display =\n",
              "        google.colab.kernel.accessAllowed ? 'block' : 'none';\n",
              "\n",
              "      async function convertToInteractive(key) {\n",
              "        const element = document.querySelector('#df-97b1514f-3787-41fe-bc9b-1a60e6461fee');\n",
              "        const dataTable =\n",
              "          await google.colab.kernel.invokeFunction('convertToInteractive',\n",
              "                                                    [key], {});\n",
              "        if (!dataTable) return;\n",
              "\n",
              "        const docLinkHtml = 'Like what you see? Visit the ' +\n",
              "          '<a target=\"_blank\" href=https://colab.research.google.com/notebooks/data_table.ipynb>data table notebook</a>'\n",
              "          + ' to learn more about interactive tables.';\n",
              "        element.innerHTML = '';\n",
              "        dataTable['output_type'] = 'display_data';\n",
              "        await google.colab.output.renderOutput(dataTable, element);\n",
              "        const docLink = document.createElement('div');\n",
              "        docLink.innerHTML = docLinkHtml;\n",
              "        element.appendChild(docLink);\n",
              "      }\n",
              "    </script>\n",
              "  </div>\n",
              "\n",
              "\n",
              "    </div>\n",
              "  </div>\n"
            ],
            "application/vnd.google.colaboratory.intrinsic+json": {
              "type": "dataframe",
              "summary": "{\n  \"name\": \"pd\",\n  \"rows\": 1,\n  \"fields\": [\n    {\n      \"column\": \"HTN\",\n      \"properties\": {\n        \"dtype\": \"number\",\n        \"std\": null,\n        \"min\": 3.11495765117098,\n        \"max\": 3.11495765117098,\n        \"num_unique_values\": 1,\n        \"samples\": [\n          3.11495765117098\n        ],\n        \"semantic_type\": \"\",\n        \"description\": \"\"\n      }\n    },\n    {\n      \"column\": \"DM\",\n      \"properties\": {\n        \"dtype\": \"number\",\n        \"std\": null,\n        \"min\": 2.101562857526478,\n        \"max\": 2.101562857526478,\n        \"num_unique_values\": 1,\n        \"samples\": [\n          2.101562857526478\n        ],\n        \"semantic_type\": \"\",\n        \"description\": \"\"\n      }\n    },\n    {\n      \"column\": \"SMK\",\n      \"properties\": {\n        \"dtype\": \"number\",\n        \"std\": null,\n        \"min\": 1.9041857799652449,\n        \"max\": 1.9041857799652449,\n        \"num_unique_values\": 1,\n        \"samples\": [\n          1.9041857799652449\n        ],\n        \"semantic_type\": \"\",\n        \"description\": \"\"\n      }\n    },\n    {\n      \"column\": \"DL\",\n      \"properties\": {\n        \"dtype\": \"number\",\n        \"std\": null,\n        \"min\": 1.0378919101829402,\n        \"max\": 1.0378919101829402,\n        \"num_unique_values\": 1,\n        \"samples\": [\n          1.0378919101829402\n        ],\n        \"semantic_type\": \"\",\n        \"description\": \"\"\n      }\n    },\n    {\n      \"column\": \"FH\",\n      \"properties\": {\n        \"dtype\": \"number\",\n        \"std\": null,\n        \"min\": 1.7531354879484098,\n        \"max\": 1.7531354879484098,\n        \"num_unique_values\": 1,\n        \"samples\": [\n          1.7531354879484098\n        ],\n        \"semantic_type\": \"\",\n        \"description\": \"\"\n      }\n    },\n    {\n      \"column\": \"Sex\",\n      \"properties\": {\n        \"dtype\": \"number\",\n        \"std\": null,\n        \"min\": 22.363127357652022,\n        \"max\": 22.363127357652022,\n        \"num_unique_values\": 1,\n        \"samples\": [\n          22.363127357652022\n        ],\n        \"semantic_type\": \"\",\n        \"description\": \"\"\n      }\n    },\n    {\n      \"column\": \"NSTEMI\",\n      \"properties\": {\n        \"dtype\": \"number\",\n        \"std\": null,\n        \"min\": 2.1662361327753823,\n        \"max\": 2.1662361327753823,\n        \"num_unique_values\": 1,\n        \"samples\": [\n          2.1662361327753823\n        ],\n        \"semantic_type\": \"\",\n        \"description\": \"\"\n      }\n    },\n    {\n      \"column\": \"SA\",\n      \"properties\": {\n        \"dtype\": \"number\",\n        \"std\": null,\n        \"min\": 2.0138171984905453,\n        \"max\": 2.0138171984905453,\n        \"num_unique_values\": 1,\n        \"samples\": [\n          2.0138171984905453\n        ],\n        \"semantic_type\": \"\",\n        \"description\": \"\"\n      }\n    },\n    {\n      \"column\": \"UA\",\n      \"properties\": {\n        \"dtype\": \"number\",\n        \"std\": null,\n        \"min\": 2.9209243924955275,\n        \"max\": 2.9209243924955275,\n        \"num_unique_values\": 1,\n        \"samples\": [\n          2.9209243924955275\n        ],\n        \"semantic_type\": \"\",\n        \"description\": \"\"\n      }\n    },\n    {\n      \"column\": \"HOCABG\",\n      \"properties\": {\n        \"dtype\": \"number\",\n        \"std\": null,\n        \"min\": 1.3174444054704109,\n        \"max\": 1.3174444054704109,\n        \"num_unique_values\": 1,\n        \"samples\": [\n          1.3174444054704109\n        ],\n        \"semantic_type\": \"\",\n        \"description\": \"\"\n      }\n    },\n    {\n      \"column\": \"HOPCI\",\n      \"properties\": {\n        \"dtype\": \"number\",\n        \"std\": null,\n        \"min\": 2.2099424191615684,\n        \"max\": 2.2099424191615684,\n        \"num_unique_values\": 1,\n        \"samples\": [\n          2.2099424191615684\n        ],\n        \"semantic_type\": \"\",\n        \"description\": \"\"\n      }\n    },\n    {\n      \"column\": \"Age_Group\",\n      \"properties\": {\n        \"dtype\": \"number\",\n        \"std\": null,\n        \"min\": 9.207568294263417,\n        \"max\": 9.207568294263417,\n        \"num_unique_values\": 1,\n        \"samples\": [\n          9.207568294263417\n        ],\n        \"semantic_type\": \"\",\n        \"description\": \"\"\n      }\n    },\n    {\n      \"column\": \"LDL1\",\n      \"properties\": {\n        \"dtype\": \"number\",\n        \"std\": null,\n        \"min\": 13.329728850266953,\n        \"max\": 13.329728850266953,\n        \"num_unique_values\": 1,\n        \"samples\": [\n          13.329728850266953\n        ],\n        \"semantic_type\": \"\",\n        \"description\": \"\"\n      }\n    },\n    {\n      \"column\": \"HDL1\",\n      \"properties\": {\n        \"dtype\": \"number\",\n        \"std\": null,\n        \"min\": 13.822049200568374,\n        \"max\": 13.822049200568374,\n        \"num_unique_values\": 1,\n        \"samples\": [\n          13.822049200568374\n        ],\n        \"semantic_type\": \"\",\n        \"description\": \"\"\n      }\n    },\n    {\n      \"column\": \"TG1\",\n      \"properties\": {\n        \"dtype\": \"number\",\n        \"std\": null,\n        \"min\": 10.721720125246582,\n        \"max\": 10.721720125246582,\n        \"num_unique_values\": 1,\n        \"samples\": [\n          10.721720125246582\n        ],\n        \"semantic_type\": \"\",\n        \"description\": \"\"\n      }\n    },\n    {\n      \"column\": \"EF1\",\n      \"properties\": {\n        \"dtype\": \"number\",\n        \"std\": null,\n        \"min\": 7.360443300270639,\n        \"max\": 7.360443300270639,\n        \"num_unique_values\": 1,\n        \"samples\": [\n          7.360443300270639\n        ],\n        \"semantic_type\": \"\",\n        \"description\": \"\"\n      }\n    },\n    {\n      \"column\": \"Indication1\",\n      \"properties\": {\n        \"dtype\": \"number\",\n        \"std\": null,\n        \"min\": 14.246439498564039,\n        \"max\": 14.246439498564039,\n        \"num_unique_values\": 1,\n        \"samples\": [\n          14.246439498564039\n        ],\n        \"semantic_type\": \"\",\n        \"description\": \"\"\n      }\n    },\n    {\n      \"column\": \"TC1\",\n      \"properties\": {\n        \"dtype\": \"number\",\n        \"std\": null,\n        \"min\": 7.61003784836234,\n        \"max\": 7.61003784836234,\n        \"num_unique_values\": 1,\n        \"samples\": [\n          7.61003784836234\n        ],\n        \"semantic_type\": \"\",\n        \"description\": \"\"\n      }\n    }\n  ]\n}"
            }
          },
          "metadata": {},
          "execution_count": 26
        }
      ],
      "source": [
        "pd.DataFrame({'vif': vif}, index=X_Feature_Selection.columns[0:18]).T"
      ]
    },
    {
      "cell_type": "code",
      "execution_count": 27,
      "id": "aad7b2a9",
      "metadata": {
        "colab": {
          "base_uri": "https://localhost:8080/"
        },
        "id": "aad7b2a9",
        "outputId": "dd7472af-d661-4f53-b2ab-0996a1848519"
      },
      "outputs": [
        {
          "output_type": "stream",
          "name": "stdout",
          "text": [
            "<class 'pandas.core.frame.DataFrame'>\n",
            "Int64Index: 890 entries, 450 to 1115\n",
            "Data columns (total 18 columns):\n",
            " #   Column       Non-Null Count  Dtype\n",
            "---  ------       --------------  -----\n",
            " 0   HTN          890 non-null    int64\n",
            " 1   DM           890 non-null    int64\n",
            " 2   SMK          890 non-null    int64\n",
            " 3   DL           890 non-null    int64\n",
            " 4   FH           890 non-null    int64\n",
            " 5   Sex          890 non-null    int64\n",
            " 6   NSTEMI       890 non-null    int64\n",
            " 7   SA           890 non-null    int64\n",
            " 8   UA           890 non-null    int64\n",
            " 9   HOCABG       890 non-null    int64\n",
            " 10  HOPCI        890 non-null    int64\n",
            " 11  Age_Group    890 non-null    int64\n",
            " 12  LDL1         890 non-null    int64\n",
            " 13  HDL1         890 non-null    int64\n",
            " 14  TG1          890 non-null    int64\n",
            " 15  EF1          890 non-null    int64\n",
            " 16  Indication1  890 non-null    int64\n",
            " 17  TC1          890 non-null    int64\n",
            "dtypes: int64(18)\n",
            "memory usage: 132.1 KB\n"
          ]
        }
      ],
      "source": [
        "X_train_Feature_Selection.info()"
      ]
    },
    {
      "cell_type": "code",
      "execution_count": 28,
      "id": "444076b0",
      "metadata": {
        "id": "444076b0"
      },
      "outputs": [],
      "source": [
        "# VIF SCORES\n",
        "from statsmodels.stats.outliers_influence import variance_inflation_factor\n",
        "vif = []\n",
        "for i in range(X_train_Feature_Selection.shape[1]):\n",
        "    vif.append(variance_inflation_factor(X_train_Feature_Selection, i))"
      ]
    },
    {
      "cell_type": "code",
      "execution_count": 29,
      "id": "02f6c645",
      "metadata": {
        "colab": {
          "base_uri": "https://localhost:8080/",
          "height": 100
        },
        "id": "02f6c645",
        "outputId": "8e96c026-0ec8-4f4c-b6b4-a5574cd8663a"
      },
      "outputs": [
        {
          "output_type": "execute_result",
          "data": {
            "text/plain": [
              "          HTN        DM       SMK        DL        FH        Sex    NSTEMI  \\\n",
              "vif  3.185535  2.082549  1.935619  1.048344  1.754259  22.282034  2.246843   \n",
              "\n",
              "           SA        UA    HOCABG     HOPCI  Age_Group       LDL1       HDL1  \\\n",
              "vif  1.936174  2.955895  1.281058  2.169099   9.286418  13.616683  14.118229   \n",
              "\n",
              "           TG1       EF1  Indication1       TC1  \n",
              "vif  10.902999  7.444486    14.091573  7.840518  "
            ],
            "text/html": [
              "\n",
              "  <div id=\"df-5e2f6020-6dc9-4dfb-811e-e14ac1457043\" class=\"colab-df-container\">\n",
              "    <div>\n",
              "<style scoped>\n",
              "    .dataframe tbody tr th:only-of-type {\n",
              "        vertical-align: middle;\n",
              "    }\n",
              "\n",
              "    .dataframe tbody tr th {\n",
              "        vertical-align: top;\n",
              "    }\n",
              "\n",
              "    .dataframe thead th {\n",
              "        text-align: right;\n",
              "    }\n",
              "</style>\n",
              "<table border=\"1\" class=\"dataframe\">\n",
              "  <thead>\n",
              "    <tr style=\"text-align: right;\">\n",
              "      <th></th>\n",
              "      <th>HTN</th>\n",
              "      <th>DM</th>\n",
              "      <th>SMK</th>\n",
              "      <th>DL</th>\n",
              "      <th>FH</th>\n",
              "      <th>Sex</th>\n",
              "      <th>NSTEMI</th>\n",
              "      <th>SA</th>\n",
              "      <th>UA</th>\n",
              "      <th>HOCABG</th>\n",
              "      <th>HOPCI</th>\n",
              "      <th>Age_Group</th>\n",
              "      <th>LDL1</th>\n",
              "      <th>HDL1</th>\n",
              "      <th>TG1</th>\n",
              "      <th>EF1</th>\n",
              "      <th>Indication1</th>\n",
              "      <th>TC1</th>\n",
              "    </tr>\n",
              "  </thead>\n",
              "  <tbody>\n",
              "    <tr>\n",
              "      <th>vif</th>\n",
              "      <td>3.185535</td>\n",
              "      <td>2.082549</td>\n",
              "      <td>1.935619</td>\n",
              "      <td>1.048344</td>\n",
              "      <td>1.754259</td>\n",
              "      <td>22.282034</td>\n",
              "      <td>2.246843</td>\n",
              "      <td>1.936174</td>\n",
              "      <td>2.955895</td>\n",
              "      <td>1.281058</td>\n",
              "      <td>2.169099</td>\n",
              "      <td>9.286418</td>\n",
              "      <td>13.616683</td>\n",
              "      <td>14.118229</td>\n",
              "      <td>10.902999</td>\n",
              "      <td>7.444486</td>\n",
              "      <td>14.091573</td>\n",
              "      <td>7.840518</td>\n",
              "    </tr>\n",
              "  </tbody>\n",
              "</table>\n",
              "</div>\n",
              "    <div class=\"colab-df-buttons\">\n",
              "\n",
              "  <div class=\"colab-df-container\">\n",
              "    <button class=\"colab-df-convert\" onclick=\"convertToInteractive('df-5e2f6020-6dc9-4dfb-811e-e14ac1457043')\"\n",
              "            title=\"Convert this dataframe to an interactive table.\"\n",
              "            style=\"display:none;\">\n",
              "\n",
              "  <svg xmlns=\"http://www.w3.org/2000/svg\" height=\"24px\" viewBox=\"0 -960 960 960\">\n",
              "    <path d=\"M120-120v-720h720v720H120Zm60-500h600v-160H180v160Zm220 220h160v-160H400v160Zm0 220h160v-160H400v160ZM180-400h160v-160H180v160Zm440 0h160v-160H620v160ZM180-180h160v-160H180v160Zm440 0h160v-160H620v160Z\"/>\n",
              "  </svg>\n",
              "    </button>\n",
              "\n",
              "  <style>\n",
              "    .colab-df-container {\n",
              "      display:flex;\n",
              "      gap: 12px;\n",
              "    }\n",
              "\n",
              "    .colab-df-convert {\n",
              "      background-color: #E8F0FE;\n",
              "      border: none;\n",
              "      border-radius: 50%;\n",
              "      cursor: pointer;\n",
              "      display: none;\n",
              "      fill: #1967D2;\n",
              "      height: 32px;\n",
              "      padding: 0 0 0 0;\n",
              "      width: 32px;\n",
              "    }\n",
              "\n",
              "    .colab-df-convert:hover {\n",
              "      background-color: #E2EBFA;\n",
              "      box-shadow: 0px 1px 2px rgba(60, 64, 67, 0.3), 0px 1px 3px 1px rgba(60, 64, 67, 0.15);\n",
              "      fill: #174EA6;\n",
              "    }\n",
              "\n",
              "    .colab-df-buttons div {\n",
              "      margin-bottom: 4px;\n",
              "    }\n",
              "\n",
              "    [theme=dark] .colab-df-convert {\n",
              "      background-color: #3B4455;\n",
              "      fill: #D2E3FC;\n",
              "    }\n",
              "\n",
              "    [theme=dark] .colab-df-convert:hover {\n",
              "      background-color: #434B5C;\n",
              "      box-shadow: 0px 1px 3px 1px rgba(0, 0, 0, 0.15);\n",
              "      filter: drop-shadow(0px 1px 2px rgba(0, 0, 0, 0.3));\n",
              "      fill: #FFFFFF;\n",
              "    }\n",
              "  </style>\n",
              "\n",
              "    <script>\n",
              "      const buttonEl =\n",
              "        document.querySelector('#df-5e2f6020-6dc9-4dfb-811e-e14ac1457043 button.colab-df-convert');\n",
              "      buttonEl.style.display =\n",
              "        google.colab.kernel.accessAllowed ? 'block' : 'none';\n",
              "\n",
              "      async function convertToInteractive(key) {\n",
              "        const element = document.querySelector('#df-5e2f6020-6dc9-4dfb-811e-e14ac1457043');\n",
              "        const dataTable =\n",
              "          await google.colab.kernel.invokeFunction('convertToInteractive',\n",
              "                                                    [key], {});\n",
              "        if (!dataTable) return;\n",
              "\n",
              "        const docLinkHtml = 'Like what you see? Visit the ' +\n",
              "          '<a target=\"_blank\" href=https://colab.research.google.com/notebooks/data_table.ipynb>data table notebook</a>'\n",
              "          + ' to learn more about interactive tables.';\n",
              "        element.innerHTML = '';\n",
              "        dataTable['output_type'] = 'display_data';\n",
              "        await google.colab.output.renderOutput(dataTable, element);\n",
              "        const docLink = document.createElement('div');\n",
              "        docLink.innerHTML = docLinkHtml;\n",
              "        element.appendChild(docLink);\n",
              "      }\n",
              "    </script>\n",
              "  </div>\n",
              "\n",
              "\n",
              "    </div>\n",
              "  </div>\n"
            ],
            "application/vnd.google.colaboratory.intrinsic+json": {
              "type": "dataframe",
              "summary": "{\n  \"name\": \"pd\",\n  \"rows\": 1,\n  \"fields\": [\n    {\n      \"column\": \"HTN\",\n      \"properties\": {\n        \"dtype\": \"number\",\n        \"std\": null,\n        \"min\": 3.1855347372836977,\n        \"max\": 3.1855347372836977,\n        \"num_unique_values\": 1,\n        \"samples\": [\n          3.1855347372836977\n        ],\n        \"semantic_type\": \"\",\n        \"description\": \"\"\n      }\n    },\n    {\n      \"column\": \"DM\",\n      \"properties\": {\n        \"dtype\": \"number\",\n        \"std\": null,\n        \"min\": 2.082549175113374,\n        \"max\": 2.082549175113374,\n        \"num_unique_values\": 1,\n        \"samples\": [\n          2.082549175113374\n        ],\n        \"semantic_type\": \"\",\n        \"description\": \"\"\n      }\n    },\n    {\n      \"column\": \"SMK\",\n      \"properties\": {\n        \"dtype\": \"number\",\n        \"std\": null,\n        \"min\": 1.9356189021068708,\n        \"max\": 1.9356189021068708,\n        \"num_unique_values\": 1,\n        \"samples\": [\n          1.9356189021068708\n        ],\n        \"semantic_type\": \"\",\n        \"description\": \"\"\n      }\n    },\n    {\n      \"column\": \"DL\",\n      \"properties\": {\n        \"dtype\": \"number\",\n        \"std\": null,\n        \"min\": 1.04834401853658,\n        \"max\": 1.04834401853658,\n        \"num_unique_values\": 1,\n        \"samples\": [\n          1.04834401853658\n        ],\n        \"semantic_type\": \"\",\n        \"description\": \"\"\n      }\n    },\n    {\n      \"column\": \"FH\",\n      \"properties\": {\n        \"dtype\": \"number\",\n        \"std\": null,\n        \"min\": 1.7542587618314986,\n        \"max\": 1.7542587618314986,\n        \"num_unique_values\": 1,\n        \"samples\": [\n          1.7542587618314986\n        ],\n        \"semantic_type\": \"\",\n        \"description\": \"\"\n      }\n    },\n    {\n      \"column\": \"Sex\",\n      \"properties\": {\n        \"dtype\": \"number\",\n        \"std\": null,\n        \"min\": 22.282033722210972,\n        \"max\": 22.282033722210972,\n        \"num_unique_values\": 1,\n        \"samples\": [\n          22.282033722210972\n        ],\n        \"semantic_type\": \"\",\n        \"description\": \"\"\n      }\n    },\n    {\n      \"column\": \"NSTEMI\",\n      \"properties\": {\n        \"dtype\": \"number\",\n        \"std\": null,\n        \"min\": 2.246843261862142,\n        \"max\": 2.246843261862142,\n        \"num_unique_values\": 1,\n        \"samples\": [\n          2.246843261862142\n        ],\n        \"semantic_type\": \"\",\n        \"description\": \"\"\n      }\n    },\n    {\n      \"column\": \"SA\",\n      \"properties\": {\n        \"dtype\": \"number\",\n        \"std\": null,\n        \"min\": 1.9361741239262815,\n        \"max\": 1.9361741239262815,\n        \"num_unique_values\": 1,\n        \"samples\": [\n          1.9361741239262815\n        ],\n        \"semantic_type\": \"\",\n        \"description\": \"\"\n      }\n    },\n    {\n      \"column\": \"UA\",\n      \"properties\": {\n        \"dtype\": \"number\",\n        \"std\": null,\n        \"min\": 2.9558950975589244,\n        \"max\": 2.9558950975589244,\n        \"num_unique_values\": 1,\n        \"samples\": [\n          2.9558950975589244\n        ],\n        \"semantic_type\": \"\",\n        \"description\": \"\"\n      }\n    },\n    {\n      \"column\": \"HOCABG\",\n      \"properties\": {\n        \"dtype\": \"number\",\n        \"std\": null,\n        \"min\": 1.2810576855358142,\n        \"max\": 1.2810576855358142,\n        \"num_unique_values\": 1,\n        \"samples\": [\n          1.2810576855358142\n        ],\n        \"semantic_type\": \"\",\n        \"description\": \"\"\n      }\n    },\n    {\n      \"column\": \"HOPCI\",\n      \"properties\": {\n        \"dtype\": \"number\",\n        \"std\": null,\n        \"min\": 2.1690987160655433,\n        \"max\": 2.1690987160655433,\n        \"num_unique_values\": 1,\n        \"samples\": [\n          2.1690987160655433\n        ],\n        \"semantic_type\": \"\",\n        \"description\": \"\"\n      }\n    },\n    {\n      \"column\": \"Age_Group\",\n      \"properties\": {\n        \"dtype\": \"number\",\n        \"std\": null,\n        \"min\": 9.286417731232437,\n        \"max\": 9.286417731232437,\n        \"num_unique_values\": 1,\n        \"samples\": [\n          9.286417731232437\n        ],\n        \"semantic_type\": \"\",\n        \"description\": \"\"\n      }\n    },\n    {\n      \"column\": \"LDL1\",\n      \"properties\": {\n        \"dtype\": \"number\",\n        \"std\": null,\n        \"min\": 13.616683002732364,\n        \"max\": 13.616683002732364,\n        \"num_unique_values\": 1,\n        \"samples\": [\n          13.616683002732364\n        ],\n        \"semantic_type\": \"\",\n        \"description\": \"\"\n      }\n    },\n    {\n      \"column\": \"HDL1\",\n      \"properties\": {\n        \"dtype\": \"number\",\n        \"std\": null,\n        \"min\": 14.11822890365856,\n        \"max\": 14.11822890365856,\n        \"num_unique_values\": 1,\n        \"samples\": [\n          14.11822890365856\n        ],\n        \"semantic_type\": \"\",\n        \"description\": \"\"\n      }\n    },\n    {\n      \"column\": \"TG1\",\n      \"properties\": {\n        \"dtype\": \"number\",\n        \"std\": null,\n        \"min\": 10.902999291661292,\n        \"max\": 10.902999291661292,\n        \"num_unique_values\": 1,\n        \"samples\": [\n          10.902999291661292\n        ],\n        \"semantic_type\": \"\",\n        \"description\": \"\"\n      }\n    },\n    {\n      \"column\": \"EF1\",\n      \"properties\": {\n        \"dtype\": \"number\",\n        \"std\": null,\n        \"min\": 7.44448562207017,\n        \"max\": 7.44448562207017,\n        \"num_unique_values\": 1,\n        \"samples\": [\n          7.44448562207017\n        ],\n        \"semantic_type\": \"\",\n        \"description\": \"\"\n      }\n    },\n    {\n      \"column\": \"Indication1\",\n      \"properties\": {\n        \"dtype\": \"number\",\n        \"std\": null,\n        \"min\": 14.091572737633596,\n        \"max\": 14.091572737633596,\n        \"num_unique_values\": 1,\n        \"samples\": [\n          14.091572737633596\n        ],\n        \"semantic_type\": \"\",\n        \"description\": \"\"\n      }\n    },\n    {\n      \"column\": \"TC1\",\n      \"properties\": {\n        \"dtype\": \"number\",\n        \"std\": null,\n        \"min\": 7.8405180398168195,\n        \"max\": 7.8405180398168195,\n        \"num_unique_values\": 1,\n        \"samples\": [\n          7.8405180398168195\n        ],\n        \"semantic_type\": \"\",\n        \"description\": \"\"\n      }\n    }\n  ]\n}"
            }
          },
          "metadata": {},
          "execution_count": 29
        }
      ],
      "source": [
        "pd.DataFrame({'vif': vif}, index=X_train_Feature_Selection.columns[0:18]).T"
      ]
    },
    {
      "cell_type": "markdown",
      "id": "f8a0419d",
      "metadata": {
        "id": "f8a0419d"
      },
      "source": [
        "# ii) Lasso technique for feature selection using orginal data (without Null and duplicate)"
      ]
    },
    {
      "cell_type": "code",
      "execution_count": 30,
      "id": "fdc39545",
      "metadata": {
        "colab": {
          "base_uri": "https://localhost:8080/"
        },
        "id": "fdc39545",
        "outputId": "8a827f09-1fc2-405b-99b6-ba4e5871a6ce"
      },
      "outputs": [
        {
          "output_type": "stream",
          "name": "stdout",
          "text": [
            "Best Params {'alpha': 1e-05}\n"
          ]
        }
      ],
      "source": [
        "# parameters to be tested on GridSearchCV\n",
        "params = {\"alpha\":np.arange(0.00001, 10, 500)}\n",
        "\n",
        "# Number of Folds and adding the random state for replication\n",
        "kf=KFold(n_splits=10,shuffle=True, random_state=42)\n",
        "\n",
        "# Initializing the Model\n",
        "lasso = Lasso()\n",
        "\n",
        "# GridSearchCV with model, params and folds.\n",
        "lasso_cv=GridSearchCV(lasso, param_grid=params, cv=kf)\n",
        "lasso_cv.fit(X_Feature_Selection,y_Feature_Selection)\n",
        "print(\"Best Params {}\".format(lasso_cv.best_params_))"
      ]
    },
    {
      "cell_type": "code",
      "execution_count": 31,
      "id": "154582cc",
      "metadata": {
        "colab": {
          "base_uri": "https://localhost:8080/"
        },
        "id": "154582cc",
        "outputId": "422aafd1-e154-4b1d-88aa-9e6786027048"
      },
      "outputs": [
        {
          "output_type": "stream",
          "name": "stdout",
          "text": [
            "Column Names: ['HTN' 'DM' 'SMK' 'DL' 'FH' 'Sex' 'NSTEMI' 'SA' 'UA' 'HOCABG' 'HOPCI'\n",
            " 'Age_Group' 'LDL1' 'HDL1' 'TG1' 'EF1' 'Indication1' 'TC1']\n"
          ]
        }
      ],
      "source": [
        "names=df.drop(\"AMI\", axis=1).columns\n",
        "print(\"Column Names: {}\".format(names.values))"
      ]
    },
    {
      "cell_type": "code",
      "execution_count": 32,
      "id": "55382b5b",
      "metadata": {
        "colab": {
          "base_uri": "https://localhost:8080/"
        },
        "id": "55382b5b",
        "outputId": "df5e9b18-9bb7-49f0-bdb3-a0c35537edb7"
      },
      "outputs": [
        {
          "output_type": "stream",
          "name": "stdout",
          "text": [
            "Best Params {'alpha': 1e-05}\n"
          ]
        }
      ],
      "source": [
        "# Initializing the Model\n",
        "lasso = Lasso()\n",
        "\n",
        "# GridSearchCV with model, params and folds.\n",
        "lasso_cv=GridSearchCV(lasso, param_grid=params , cv=kf)\n",
        "lasso_cv.fit(X_Feature_Selection,y_Feature_Selection)\n",
        "print(\"Best Params {}\".format(lasso_cv.best_params_))"
      ]
    },
    {
      "cell_type": "code",
      "execution_count": 33,
      "id": "e28b28be",
      "metadata": {
        "colab": {
          "base_uri": "https://localhost:8080/",
          "height": 535
        },
        "id": "e28b28be",
        "outputId": "67dddebf-6b23-47f9-81b5-94f345802c55"
      },
      "outputs": [
        {
          "output_type": "display_data",
          "data": {
            "text/plain": [
              "<Figure size 640x480 with 1 Axes>"
            ],
            "image/png": "[encoded data removed]"
          },
          "metadata": {}
        }
      ],
      "source": [
        "lasso1 = Lasso(alpha=0.00001)\n",
        "lasso1.fit(X_train_Feature_Selection, y_train_Feature_Selection)\n",
        "\n",
        "# Using np.abs() to make coefficients positive.\n",
        "lasso1_coef = np.abs(lasso1.coef_)\n",
        "\n",
        "# plotting the Column Names and Importance of Columns.\n",
        "plt.bar(names, lasso1_coef)\n",
        "plt.xticks(rotation=90)\n",
        "plt.grid()\n",
        "plt.title(\"Feature Selection Based on Lasso\")\n",
        "plt.xlabel(\"Features\")\n",
        "plt.ylabel(\"Importance\")\n",
        "plt.ylim(0,0.15)\n",
        "plt.show()"
      ]
    },
    {
      "cell_type": "code",
      "execution_count": 34,
      "id": "d4405d4c",
      "metadata": {
        "colab": {
          "base_uri": "https://localhost:8080/"
        },
        "id": "d4405d4c",
        "outputId": "5947b665-55fe-4a8a-c704-70856ea64b83"
      },
      "outputs": [
        {
          "output_type": "execute_result",
          "data": {
            "text/plain": [
              "275"
            ]
          },
          "metadata": {},
          "execution_count": 34
        }
      ],
      "source": [
        "107+23+16+129"
      ]
    },
    {
      "cell_type": "code",
      "execution_count": 35,
      "id": "3aacedc0",
      "metadata": {
        "colab": {
          "base_uri": "https://localhost:8080/"
        },
        "id": "3aacedc0",
        "outputId": "3815ebea-d688-4ad3-8f29-3e898d2996b5"
      },
      "outputs": [
        {
          "output_type": "execute_result",
          "data": {
            "text/plain": [
              "275"
            ]
          },
          "metadata": {},
          "execution_count": 35
        }
      ],
      "source": [
        "98+19+25+133"
      ]
    },
    {
      "cell_type": "markdown",
      "id": "55af0761",
      "metadata": {
        "id": "55af0761"
      },
      "source": [
        "# Feature Engineering"
      ]
    },
    {
      "cell_type": "markdown",
      "id": "b1eb3f40",
      "metadata": {
        "id": "b1eb3f40"
      },
      "source": [
        "# PCA"
      ]
    },
    {
      "cell_type": "code",
      "execution_count": null,
      "id": "6a3e9fc0",
      "metadata": {
        "id": "6a3e9fc0"
      },
      "outputs": [],
      "source": [
        "X_train_Feature_Selection, X_test_Feature_Selection, y_train_Feature_Selection, y_test_Feature_Selection = train_test_split(X_Feature_Selection, y_Feature_Selection, test_size=0.2, random_state=42)"
      ]
    },
    {
      "cell_type": "code",
      "execution_count": null,
      "id": "3270161e",
      "metadata": {
        "id": "3270161e",
        "outputId": "184f9205-2c5a-48a8-ad18-82d953b831fb"
      },
      "outputs": [
        {
          "data": {
            "text/html": [
              "<div>\n",
              "<style scoped>\n",
              "    .dataframe tbody tr th:only-of-type {\n",
              "        vertical-align: middle;\n",
              "    }\n",
              "\n",
              "    .dataframe tbody tr th {\n",
              "        vertical-align: top;\n",
              "    }\n",
              "\n",
              "    .dataframe thead th {\n",
              "        text-align: right;\n",
              "    }\n",
              "</style>\n",
              "<table border=\"1\" class=\"dataframe\">\n",
              "  <thead>\n",
              "    <tr style=\"text-align: right;\">\n",
              "      <th></th>\n",
              "      <th>HTN</th>\n",
              "      <th>DM</th>\n",
              "      <th>SMK</th>\n",
              "      <th>DL</th>\n",
              "      <th>FH</th>\n",
              "      <th>AMI</th>\n",
              "      <th>Sex</th>\n",
              "      <th>NSTEMI</th>\n",
              "      <th>SA</th>\n",
              "      <th>UA</th>\n",
              "      <th>HOCABG</th>\n",
              "      <th>HOPCI</th>\n",
              "      <th>Age_Group</th>\n",
              "      <th>LDL1</th>\n",
              "      <th>HDL1</th>\n",
              "      <th>TG1</th>\n",
              "      <th>EF1</th>\n",
              "      <th>Indication1</th>\n",
              "      <th>TC1</th>\n",
              "    </tr>\n",
              "  </thead>\n",
              "  <tbody>\n",
              "    <tr>\n",
              "      <th>0</th>\n",
              "      <td>1</td>\n",
              "      <td>1</td>\n",
              "      <td>0</td>\n",
              "      <td>0</td>\n",
              "      <td>0</td>\n",
              "      <td>0</td>\n",
              "      <td>1</td>\n",
              "      <td>0</td>\n",
              "      <td>1</td>\n",
              "      <td>0</td>\n",
              "      <td>1</td>\n",
              "      <td>1</td>\n",
              "      <td>2</td>\n",
              "      <td>2</td>\n",
              "      <td>2</td>\n",
              "      <td>2</td>\n",
              "      <td>2</td>\n",
              "      <td>5</td>\n",
              "      <td>1</td>\n",
              "    </tr>\n",
              "    <tr>\n",
              "      <th>1</th>\n",
              "      <td>1</td>\n",
              "      <td>0</td>\n",
              "      <td>0</td>\n",
              "      <td>0</td>\n",
              "      <td>0</td>\n",
              "      <td>0</td>\n",
              "      <td>2</td>\n",
              "      <td>1</td>\n",
              "      <td>0</td>\n",
              "      <td>0</td>\n",
              "      <td>0</td>\n",
              "      <td>1</td>\n",
              "      <td>2</td>\n",
              "      <td>1</td>\n",
              "      <td>2</td>\n",
              "      <td>1</td>\n",
              "      <td>2</td>\n",
              "      <td>5</td>\n",
              "      <td>1</td>\n",
              "    </tr>\n",
              "    <tr>\n",
              "      <th>2</th>\n",
              "      <td>1</td>\n",
              "      <td>1</td>\n",
              "      <td>1</td>\n",
              "      <td>0</td>\n",
              "      <td>1</td>\n",
              "      <td>0</td>\n",
              "      <td>2</td>\n",
              "      <td>1</td>\n",
              "      <td>0</td>\n",
              "      <td>0</td>\n",
              "      <td>0</td>\n",
              "      <td>0</td>\n",
              "      <td>2</td>\n",
              "      <td>2</td>\n",
              "      <td>2</td>\n",
              "      <td>2</td>\n",
              "      <td>1</td>\n",
              "      <td>3</td>\n",
              "      <td>1</td>\n",
              "    </tr>\n",
              "    <tr>\n",
              "      <th>3</th>\n",
              "      <td>0</td>\n",
              "      <td>1</td>\n",
              "      <td>0</td>\n",
              "      <td>0</td>\n",
              "      <td>0</td>\n",
              "      <td>1</td>\n",
              "      <td>1</td>\n",
              "      <td>0</td>\n",
              "      <td>0</td>\n",
              "      <td>0</td>\n",
              "      <td>0</td>\n",
              "      <td>0</td>\n",
              "      <td>3</td>\n",
              "      <td>1</td>\n",
              "      <td>2</td>\n",
              "      <td>2</td>\n",
              "      <td>2</td>\n",
              "      <td>1</td>\n",
              "      <td>1</td>\n",
              "    </tr>\n",
              "    <tr>\n",
              "      <th>4</th>\n",
              "      <td>0</td>\n",
              "      <td>0</td>\n",
              "      <td>1</td>\n",
              "      <td>0</td>\n",
              "      <td>0</td>\n",
              "      <td>0</td>\n",
              "      <td>2</td>\n",
              "      <td>0</td>\n",
              "      <td>1</td>\n",
              "      <td>0</td>\n",
              "      <td>0</td>\n",
              "      <td>0</td>\n",
              "      <td>2</td>\n",
              "      <td>1</td>\n",
              "      <td>2</td>\n",
              "      <td>2</td>\n",
              "      <td>1</td>\n",
              "      <td>2</td>\n",
              "      <td>1</td>\n",
              "    </tr>\n",
              "  </tbody>\n",
              "</table>\n",
              "</div>"
            ],
            "text/plain": [
              "   HTN  DM  SMK  DL  FH  AMI  Sex  NSTEMI  SA  UA  HOCABG  HOPCI  Age_Group  \\\n",
              "0    1   1    0   0   0    0    1       0   1   0       1      1          2   \n",
              "1    1   0    0   0   0    0    2       1   0   0       0      1          2   \n",
              "2    1   1    1   0   1    0    2       1   0   0       0      0          2   \n",
              "3    0   1    0   0   0    1    1       0   0   0       0      0          3   \n",
              "4    0   0    1   0   0    0    2       0   1   0       0      0          2   \n",
              "\n",
              "   LDL1  HDL1  TG1  EF1  Indication1  TC1  \n",
              "0     2     2    2    2            5    1  \n",
              "1     1     2    1    2            5    1  \n",
              "2     2     2    2    1            3    1  \n",
              "3     1     2    2    2            1    1  \n",
              "4     1     2    2    1            2    1  "
            ]
          },
          "execution_count": 37,
          "metadata": {},
          "output_type": "execute_result"
        }
      ],
      "source": [
        "df.head()"
      ]
    },
    {
      "cell_type": "code",
      "execution_count": null,
      "id": "6b8a4a1b",
      "metadata": {
        "id": "6b8a4a1b"
      },
      "outputs": [],
      "source": [
        "X = df.drop('AMI',axis=1)\n",
        "y = df['AMI']"
      ]
    },
    {
      "cell_type": "code",
      "execution_count": null,
      "id": "923522b9",
      "metadata": {
        "id": "923522b9",
        "outputId": "bc260175-be2a-4fdf-ed6e-121c4816f55b"
      },
      "outputs": [
        {
          "data": {
            "text/plain": [
              "array([[ 2.29878612, -0.24182134],\n",
              "       [ 2.35603635,  0.47798302],\n",
              "       [ 0.27677524, -0.0688948 ],\n",
              "       ...,\n",
              "       [ 1.21000306, -1.64703878],\n",
              "       [-0.92131368, -1.07377501],\n",
              "       [-1.77698528,  0.27180826]])"
            ]
          },
          "execution_count": 39,
          "metadata": {},
          "output_type": "execute_result"
        }
      ],
      "source": [
        "#PCA\n",
        "from sklearn.decomposition import PCA\n",
        "pca= PCA(n_components=2)\n",
        "pca.fit(X)\n",
        "x_pca=pca.transform(X)\n",
        "x_pca"
      ]
    },
    {
      "cell_type": "code",
      "execution_count": null,
      "id": "e9c3f864",
      "metadata": {
        "id": "e9c3f864",
        "outputId": "fd81b618-7a89-48f4-854a-a91ab184038b"
      },
      "outputs": [
        {
          "data": {
            "text/plain": [
              "<matplotlib.collections.PathCollection at 0x25277340c70>"
            ]
          },
          "execution_count": 40,
          "metadata": {},
          "output_type": "execute_result"
        },
        {
          "data": {
            "image/png": "[encoded data removed]",
            "text/plain": [
              "<Figure size 640x480 with 1 Axes>"
            ]
          },
          "metadata": {},
          "output_type": "display_data"
        }
      ],
      "source": [
        "plt.scatter(x_pca[:,0],x_pca[:,1],c=y.values)"
      ]
    },
    {
      "cell_type": "code",
      "execution_count": null,
      "id": "90663aa4",
      "metadata": {
        "id": "90663aa4"
      },
      "outputs": [],
      "source": [
        "x_pca=pd.DataFrame(x_pca)"
      ]
    },
    {
      "cell_type": "code",
      "execution_count": null,
      "id": "673be367",
      "metadata": {
        "id": "673be367",
        "outputId": "3f3bdfc8-d702-4f62-bac4-5b3487cd3f5f"
      },
      "outputs": [
        {
          "data": {
            "text/html": [
              "<div>\n",
              "<style scoped>\n",
              "    .dataframe tbody tr th:only-of-type {\n",
              "        vertical-align: middle;\n",
              "    }\n",
              "\n",
              "    .dataframe tbody tr th {\n",
              "        vertical-align: top;\n",
              "    }\n",
              "\n",
              "    .dataframe thead th {\n",
              "        text-align: right;\n",
              "    }\n",
              "</style>\n",
              "<table border=\"1\" class=\"dataframe\">\n",
              "  <thead>\n",
              "    <tr style=\"text-align: right;\">\n",
              "      <th></th>\n",
              "      <th>0</th>\n",
              "      <th>1</th>\n",
              "    </tr>\n",
              "  </thead>\n",
              "  <tbody>\n",
              "    <tr>\n",
              "      <th>0</th>\n",
              "      <td>2.298786</td>\n",
              "      <td>-0.241727</td>\n",
              "    </tr>\n",
              "    <tr>\n",
              "      <th>1</th>\n",
              "      <td>2.356037</td>\n",
              "      <td>0.477939</td>\n",
              "    </tr>\n",
              "    <tr>\n",
              "      <th>2</th>\n",
              "      <td>0.276776</td>\n",
              "      <td>-0.068975</td>\n",
              "    </tr>\n",
              "    <tr>\n",
              "      <th>3</th>\n",
              "      <td>-1.638753</td>\n",
              "      <td>0.819338</td>\n",
              "    </tr>\n",
              "    <tr>\n",
              "      <th>4</th>\n",
              "      <td>-0.731220</td>\n",
              "      <td>0.361283</td>\n",
              "    </tr>\n",
              "    <tr>\n",
              "      <th>...</th>\n",
              "      <td>...</td>\n",
              "      <td>...</td>\n",
              "    </tr>\n",
              "    <tr>\n",
              "      <th>1108</th>\n",
              "      <td>1.241660</td>\n",
              "      <td>-0.261690</td>\n",
              "    </tr>\n",
              "    <tr>\n",
              "      <th>1109</th>\n",
              "      <td>-1.829779</td>\n",
              "      <td>-1.473136</td>\n",
              "    </tr>\n",
              "    <tr>\n",
              "      <th>1110</th>\n",
              "      <td>1.210003</td>\n",
              "      <td>-1.647009</td>\n",
              "    </tr>\n",
              "    <tr>\n",
              "      <th>1111</th>\n",
              "      <td>-0.921314</td>\n",
              "      <td>-1.073769</td>\n",
              "    </tr>\n",
              "    <tr>\n",
              "      <th>1112</th>\n",
              "      <td>-1.776985</td>\n",
              "      <td>0.271876</td>\n",
              "    </tr>\n",
              "  </tbody>\n",
              "</table>\n",
              "<p>1113 rows × 2 columns</p>\n",
              "</div>"
            ],
            "text/plain": [
              "             0         1\n",
              "0     2.298786 -0.241727\n",
              "1     2.356037  0.477939\n",
              "2     0.276776 -0.068975\n",
              "3    -1.638753  0.819338\n",
              "4    -0.731220  0.361283\n",
              "...        ...       ...\n",
              "1108  1.241660 -0.261690\n",
              "1109 -1.829779 -1.473136\n",
              "1110  1.210003 -1.647009\n",
              "1111 -0.921314 -1.073769\n",
              "1112 -1.776985  0.271876\n",
              "\n",
              "[1113 rows x 2 columns]"
            ]
          },
          "execution_count": 47,
          "metadata": {},
          "output_type": "execute_result"
        }
      ],
      "source": []
    },
    {
      "cell_type": "code",
      "execution_count": null,
      "id": "c0141164",
      "metadata": {
        "id": "c0141164",
        "outputId": "364a6f1c-c2cc-431d-ad70-d59625424476"
      },
      "outputs": [
        {
          "name": "stderr",
          "output_type": "stream",
          "text": [
            "C:\\Users\\USER\\AppData\\Local\\Temp\\ipykernel_27688\\2481950381.py:7: UserWarning: \n",
            "\n",
            "`distplot` is a deprecated function and will be removed in seaborn v0.14.0.\n",
            "\n",
            "Please adapt your code to use either `displot` (a figure-level function with\n",
            "similar flexibility) or `histplot` (an axes-level function for histograms).\n",
            "\n",
            "For a guide to updating your code to use the new functions, please see\n",
            "https://gist.github.com/mwaskom/de44147ed2974457ad6372750bbe5751\n",
            "\n",
            "  sns.distplot(x_pca[col])\n"
          ]
        },
        {
          "data": {
            "image/png": "[encoded data removed]",
            "text/plain": [
              "<Figure size 1400x400 with 2 Axes>"
            ]
          },
          "metadata": {},
          "output_type": "display_data"
        },
        {
          "name": "stderr",
          "output_type": "stream",
          "text": [
            "C:\\Users\\USER\\AppData\\Local\\Temp\\ipykernel_27688\\2481950381.py:7: UserWarning: \n",
            "\n",
            "`distplot` is a deprecated function and will be removed in seaborn v0.14.0.\n",
            "\n",
            "Please adapt your code to use either `displot` (a figure-level function with\n",
            "similar flexibility) or `histplot` (an axes-level function for histograms).\n",
            "\n",
            "For a guide to updating your code to use the new functions, please see\n",
            "https://gist.github.com/mwaskom/de44147ed2974457ad6372750bbe5751\n",
            "\n",
            "  sns.distplot(x_pca[col])\n"
          ]
        },
        {
          "data": {
            "image/png": "[encoded data removed]",
            "text/plain": [
              "<Figure size 1400x400 with 2 Axes>"
            ]
          },
          "metadata": {},
          "output_type": "display_data"
        }
      ],
      "source": [
        "# Plotting the distplots without any transformation\n",
        "import scipy.stats as stats\n",
        "\n",
        "for col in x_pca.columns:\n",
        "    plt.figure(figsize=(14,4))\n",
        "    plt.subplot(121)\n",
        "    sns.distplot(x_pca[col])\n",
        "    plt.title(col)\n",
        "\n",
        "    plt.subplot(122)\n",
        "    stats.probplot(x_pca[col], dist=\"norm\", plot=plt)\n",
        "    plt.title(col)\n",
        "\n",
        "    plt.show()"
      ]
    },
    {
      "cell_type": "code",
      "execution_count": null,
      "id": "a4fcab8a",
      "metadata": {
        "id": "a4fcab8a"
      },
      "outputs": [],
      "source": [
        "from sklearn.linear_model import LogisticRegression\n",
        "\n",
        "from sklearn.metrics import r2_score\n",
        "\n",
        "from sklearn.preprocessing import PowerTransformer"
      ]
    },
    {
      "cell_type": "code",
      "execution_count": null,
      "id": "957db280",
      "metadata": {
        "id": "957db280"
      },
      "outputs": [],
      "source": [
        " X_train_Feature_Selection, X_test_Feature_Selection, y_train_Feature_Selection, y_test_Feature_Selection = train_test_split(x_pca, y_Feature_Selection, test_size=0.2, random_state=42)"
      ]
    },
    {
      "cell_type": "code",
      "execution_count": null,
      "id": "6745982e",
      "metadata": {
        "id": "6745982e",
        "outputId": "0f84ea0b-9b9b-45d1-d768-a5d41bf0e184"
      },
      "outputs": [
        {
          "data": {
            "text/plain": [
              "(223,)"
            ]
          },
          "execution_count": 61,
          "metadata": {},
          "output_type": "execute_result"
        }
      ],
      "source": [
        "y_pred3.shape"
      ]
    },
    {
      "cell_type": "code",
      "execution_count": null,
      "id": "9679d731",
      "metadata": {
        "id": "9679d731",
        "outputId": "0af05b30-7145-4d73-b916-0a623f7ae7e5"
      },
      "outputs": [
        {
          "name": "stdout",
          "output_type": "stream",
          "text": [
            "-0.4083792919409359\n"
          ]
        },
        {
          "data": {
            "text/html": [
              "<div>\n",
              "<style scoped>\n",
              "    .dataframe tbody tr th:only-of-type {\n",
              "        vertical-align: middle;\n",
              "    }\n",
              "\n",
              "    .dataframe tbody tr th {\n",
              "        vertical-align: top;\n",
              "    }\n",
              "\n",
              "    .dataframe thead th {\n",
              "        text-align: right;\n",
              "    }\n",
              "</style>\n",
              "<table border=\"1\" class=\"dataframe\">\n",
              "  <thead>\n",
              "    <tr style=\"text-align: right;\">\n",
              "      <th></th>\n",
              "      <th>cols</th>\n",
              "      <th>Yeo_Johnson_lambdas</th>\n",
              "    </tr>\n",
              "  </thead>\n",
              "  <tbody>\n",
              "    <tr>\n",
              "      <th>0</th>\n",
              "      <td>0</td>\n",
              "      <td>0.797308</td>\n",
              "    </tr>\n",
              "    <tr>\n",
              "      <th>1</th>\n",
              "      <td>1</td>\n",
              "      <td>1.338165</td>\n",
              "    </tr>\n",
              "  </tbody>\n",
              "</table>\n",
              "</div>"
            ],
            "text/plain": [
              "   cols  Yeo_Johnson_lambdas\n",
              "0     0             0.797308\n",
              "1     1             1.338165"
            ]
          },
          "execution_count": 63,
          "metadata": {},
          "output_type": "execute_result"
        }
      ],
      "source": [
        "# Apply Yeo-Johnson transform\n",
        "\n",
        "pt1 = PowerTransformer()\n",
        "\n",
        "X_train_transformed2 = pt1.fit_transform(X_train_Feature_Selection)\n",
        "X_test_transformed2 = pt1.transform(X_test_Feature_Selection)\n",
        "\n",
        "lr = LogisticRegression()\n",
        "lr.fit(X_train_transformed2,y_train_Feature_Selection)\n",
        "\n",
        "y_pred3 = lr.predict(X_test_Feature_Selection)\n",
        "\n",
        "print(r2_score(y_test_Feature_Selection,y_pred3))\n",
        "\n",
        "pd.DataFrame({'cols':X_train_Feature_Selection.columns,'Yeo_Johnson_lambdas':pt1.lambdas_})\n"
      ]
    },
    {
      "cell_type": "code",
      "execution_count": null,
      "id": "629966aa",
      "metadata": {
        "id": "629966aa",
        "outputId": "0aa33e82-e392-4f88-f9da-52ffcbdb313b"
      },
      "outputs": [
        {
          "data": {
            "text/plain": [
              "0.9532622308407062"
            ]
          },
          "execution_count": 72,
          "metadata": {},
          "output_type": "execute_result"
        }
      ],
      "source": [
        "# applying cross val score\n",
        "from sklearn.model_selection import cross_val_score\n",
        "\n",
        "pt = PowerTransformer()\n",
        "X_transformed2 = pt.fit_transform(X)\n",
        "\n",
        "lr = LogisticRegression()\n",
        "np.mean(cross_val_score(lr,X_transformed2,y,scoring='accuracy'))"
      ]
    },
    {
      "cell_type": "code",
      "execution_count": null,
      "id": "a18c76a7",
      "metadata": {
        "id": "a18c76a7"
      },
      "outputs": [],
      "source": [
        "X_train_transformed2=pd.DataFrame(X_train_transformed2)\n",
        "X_test_transformed2=pd.DataFrame(X_test_transformed2)"
      ]
    },
    {
      "cell_type": "code",
      "execution_count": null,
      "id": "596ce8b8",
      "metadata": {
        "id": "596ce8b8",
        "outputId": "812d1195-c9f8-48d1-fe49-eb58cb820f8c"
      },
      "outputs": [
        {
          "name": "stderr",
          "output_type": "stream",
          "text": [
            "C:\\Users\\USER\\AppData\\Local\\Temp\\ipykernel_27688\\2730979543.py:2: FutureWarning: The frame.append method is deprecated and will be removed from pandas in a future version. Use pandas.concat instead.\n",
            "  x_yeo.append(X_test_transformed2)\n"
          ]
        },
        {
          "data": {
            "text/html": [
              "<div>\n",
              "<style scoped>\n",
              "    .dataframe tbody tr th:only-of-type {\n",
              "        vertical-align: middle;\n",
              "    }\n",
              "\n",
              "    .dataframe tbody tr th {\n",
              "        vertical-align: top;\n",
              "    }\n",
              "\n",
              "    .dataframe thead th {\n",
              "        text-align: right;\n",
              "    }\n",
              "</style>\n",
              "<table border=\"1\" class=\"dataframe\">\n",
              "  <thead>\n",
              "    <tr style=\"text-align: right;\">\n",
              "      <th></th>\n",
              "      <th>0</th>\n",
              "      <th>1</th>\n",
              "    </tr>\n",
              "  </thead>\n",
              "  <tbody>\n",
              "    <tr>\n",
              "      <th>0</th>\n",
              "      <td>-0.370038</td>\n",
              "      <td>0.972918</td>\n",
              "    </tr>\n",
              "    <tr>\n",
              "      <th>1</th>\n",
              "      <td>-0.418494</td>\n",
              "      <td>0.856947</td>\n",
              "    </tr>\n",
              "    <tr>\n",
              "      <th>2</th>\n",
              "      <td>1.353524</td>\n",
              "      <td>-0.051636</td>\n",
              "    </tr>\n",
              "    <tr>\n",
              "      <th>3</th>\n",
              "      <td>1.382678</td>\n",
              "      <td>-0.152884</td>\n",
              "    </tr>\n",
              "    <tr>\n",
              "      <th>4</th>\n",
              "      <td>-1.154275</td>\n",
              "      <td>1.158649</td>\n",
              "    </tr>\n",
              "    <tr>\n",
              "      <th>...</th>\n",
              "      <td>...</td>\n",
              "      <td>...</td>\n",
              "    </tr>\n",
              "    <tr>\n",
              "      <th>218</th>\n",
              "      <td>-1.260127</td>\n",
              "      <td>-0.779523</td>\n",
              "    </tr>\n",
              "    <tr>\n",
              "      <th>219</th>\n",
              "      <td>-1.180355</td>\n",
              "      <td>0.590055</td>\n",
              "    </tr>\n",
              "    <tr>\n",
              "      <th>220</th>\n",
              "      <td>0.913937</td>\n",
              "      <td>0.869092</td>\n",
              "    </tr>\n",
              "    <tr>\n",
              "      <th>221</th>\n",
              "      <td>-1.197019</td>\n",
              "      <td>0.327660</td>\n",
              "    </tr>\n",
              "    <tr>\n",
              "      <th>222</th>\n",
              "      <td>-1.135068</td>\n",
              "      <td>0.185390</td>\n",
              "    </tr>\n",
              "  </tbody>\n",
              "</table>\n",
              "<p>1113 rows × 2 columns</p>\n",
              "</div>"
            ],
            "text/plain": [
              "            0         1\n",
              "0   -0.370038  0.972918\n",
              "1   -0.418494  0.856947\n",
              "2    1.353524 -0.051636\n",
              "3    1.382678 -0.152884\n",
              "4   -1.154275  1.158649\n",
              "..        ...       ...\n",
              "218 -1.260127 -0.779523\n",
              "219 -1.180355  0.590055\n",
              "220  0.913937  0.869092\n",
              "221 -1.197019  0.327660\n",
              "222 -1.135068  0.185390\n",
              "\n",
              "[1113 rows x 2 columns]"
            ]
          },
          "execution_count": 69,
          "metadata": {},
          "output_type": "execute_result"
        }
      ],
      "source": [
        "x_yeo=X_train_transformed2\n",
        "x_yeo.append(X_test_transformed2)"
      ]
    },
    {
      "cell_type": "code",
      "execution_count": null,
      "id": "3b39fc0b",
      "metadata": {
        "id": "3b39fc0b",
        "outputId": "9a4096af-2357-4d25-d4f4-b539352c70ca"
      },
      "outputs": [
        {
          "name": "stderr",
          "output_type": "stream",
          "text": [
            "C:\\Users\\USER\\AppData\\Local\\Temp\\ipykernel_27688\\3169824892.py:7: UserWarning: \n",
            "\n",
            "`distplot` is a deprecated function and will be removed in seaborn v0.14.0.\n",
            "\n",
            "Please adapt your code to use either `displot` (a figure-level function with\n",
            "similar flexibility) or `histplot` (an axes-level function for histograms).\n",
            "\n",
            "For a guide to updating your code to use the new functions, please see\n",
            "https://gist.github.com/mwaskom/de44147ed2974457ad6372750bbe5751\n",
            "\n",
            "  sns.distplot(x_pca[col])\n"
          ]
        },
        {
          "data": {
            "image/png": "[encoded data removed]",
            "text/plain": [
              "<Figure size 1400x400 with 2 Axes>"
            ]
          },
          "metadata": {},
          "output_type": "display_data"
        },
        {
          "name": "stderr",
          "output_type": "stream",
          "text": [
            "C:\\Users\\USER\\AppData\\Local\\Temp\\ipykernel_27688\\3169824892.py:7: UserWarning: \n",
            "\n",
            "`distplot` is a deprecated function and will be removed in seaborn v0.14.0.\n",
            "\n",
            "Please adapt your code to use either `displot` (a figure-level function with\n",
            "similar flexibility) or `histplot` (an axes-level function for histograms).\n",
            "\n",
            "For a guide to updating your code to use the new functions, please see\n",
            "https://gist.github.com/mwaskom/de44147ed2974457ad6372750bbe5751\n",
            "\n",
            "  sns.distplot(x_pca[col])\n"
          ]
        },
        {
          "data": {
            "image/png": "[encoded data removed]",
            "text/plain": [
              "<Figure size 1400x400 with 2 Axes>"
            ]
          },
          "metadata": {},
          "output_type": "display_data"
        }
      ],
      "source": [
        "# Plotting the distplots without any transformation\n",
        "import scipy.stats as stats\n",
        "\n",
        "for col in x_yeo.columns:\n",
        "    plt.figure(figsize=(14,4))\n",
        "    plt.subplot(121)\n",
        "    sns.distplot(x_pca[col])\n",
        "    plt.title(col)\n",
        "\n",
        "    plt.subplot(122)\n",
        "    stats.probplot(x_pca[col], dist=\"norm\", plot=plt)\n",
        "    plt.title(col)\n",
        "\n",
        "    plt.show()"
      ]
    },
    {
      "cell_type": "markdown",
      "id": "c150186f",
      "metadata": {
        "id": "c150186f"
      },
      "source": [
        "# Assumptions of Linear Regression"
      ]
    },
    {
      "cell_type": "code",
      "execution_count": null,
      "id": "09eed91e",
      "metadata": {
        "id": "09eed91e",
        "outputId": "1fbf70ad-e35a-4402-f94b-846ca4c8b011"
      },
      "outputs": [
        {
          "data": {
            "text/html": [
              "<div>\n",
              "<style scoped>\n",
              "    .dataframe tbody tr th:only-of-type {\n",
              "        vertical-align: middle;\n",
              "    }\n",
              "\n",
              "    .dataframe tbody tr th {\n",
              "        vertical-align: top;\n",
              "    }\n",
              "\n",
              "    .dataframe thead th {\n",
              "        text-align: right;\n",
              "    }\n",
              "</style>\n",
              "<table border=\"1\" class=\"dataframe\">\n",
              "  <thead>\n",
              "    <tr style=\"text-align: right;\">\n",
              "      <th></th>\n",
              "      <th>HTN</th>\n",
              "      <th>DM</th>\n",
              "      <th>SMK</th>\n",
              "      <th>DL</th>\n",
              "      <th>FH</th>\n",
              "      <th>AMI</th>\n",
              "      <th>Sex</th>\n",
              "      <th>NSTEMI</th>\n",
              "      <th>SA</th>\n",
              "      <th>UA</th>\n",
              "      <th>HOCABG</th>\n",
              "      <th>HOPCI</th>\n",
              "      <th>Age_Group</th>\n",
              "      <th>LDL1</th>\n",
              "      <th>HDL1</th>\n",
              "      <th>TG1</th>\n",
              "      <th>EF1</th>\n",
              "      <th>Indication1</th>\n",
              "      <th>TC1</th>\n",
              "    </tr>\n",
              "  </thead>\n",
              "  <tbody>\n",
              "    <tr>\n",
              "      <th>0</th>\n",
              "      <td>1</td>\n",
              "      <td>1</td>\n",
              "      <td>0</td>\n",
              "      <td>0</td>\n",
              "      <td>0</td>\n",
              "      <td>0</td>\n",
              "      <td>1</td>\n",
              "      <td>0</td>\n",
              "      <td>1</td>\n",
              "      <td>0</td>\n",
              "      <td>1</td>\n",
              "      <td>1</td>\n",
              "      <td>2</td>\n",
              "      <td>2</td>\n",
              "      <td>2</td>\n",
              "      <td>2</td>\n",
              "      <td>2</td>\n",
              "      <td>5</td>\n",
              "      <td>1</td>\n",
              "    </tr>\n",
              "    <tr>\n",
              "      <th>1</th>\n",
              "      <td>1</td>\n",
              "      <td>0</td>\n",
              "      <td>0</td>\n",
              "      <td>0</td>\n",
              "      <td>0</td>\n",
              "      <td>0</td>\n",
              "      <td>2</td>\n",
              "      <td>1</td>\n",
              "      <td>0</td>\n",
              "      <td>0</td>\n",
              "      <td>0</td>\n",
              "      <td>1</td>\n",
              "      <td>2</td>\n",
              "      <td>1</td>\n",
              "      <td>2</td>\n",
              "      <td>1</td>\n",
              "      <td>2</td>\n",
              "      <td>5</td>\n",
              "      <td>1</td>\n",
              "    </tr>\n",
              "    <tr>\n",
              "      <th>2</th>\n",
              "      <td>1</td>\n",
              "      <td>1</td>\n",
              "      <td>1</td>\n",
              "      <td>0</td>\n",
              "      <td>1</td>\n",
              "      <td>0</td>\n",
              "      <td>2</td>\n",
              "      <td>1</td>\n",
              "      <td>0</td>\n",
              "      <td>0</td>\n",
              "      <td>0</td>\n",
              "      <td>0</td>\n",
              "      <td>2</td>\n",
              "      <td>2</td>\n",
              "      <td>2</td>\n",
              "      <td>2</td>\n",
              "      <td>1</td>\n",
              "      <td>3</td>\n",
              "      <td>1</td>\n",
              "    </tr>\n",
              "    <tr>\n",
              "      <th>3</th>\n",
              "      <td>0</td>\n",
              "      <td>1</td>\n",
              "      <td>0</td>\n",
              "      <td>0</td>\n",
              "      <td>0</td>\n",
              "      <td>1</td>\n",
              "      <td>1</td>\n",
              "      <td>0</td>\n",
              "      <td>0</td>\n",
              "      <td>0</td>\n",
              "      <td>0</td>\n",
              "      <td>0</td>\n",
              "      <td>3</td>\n",
              "      <td>1</td>\n",
              "      <td>2</td>\n",
              "      <td>2</td>\n",
              "      <td>2</td>\n",
              "      <td>1</td>\n",
              "      <td>1</td>\n",
              "    </tr>\n",
              "    <tr>\n",
              "      <th>4</th>\n",
              "      <td>0</td>\n",
              "      <td>0</td>\n",
              "      <td>1</td>\n",
              "      <td>0</td>\n",
              "      <td>0</td>\n",
              "      <td>0</td>\n",
              "      <td>2</td>\n",
              "      <td>0</td>\n",
              "      <td>1</td>\n",
              "      <td>0</td>\n",
              "      <td>0</td>\n",
              "      <td>0</td>\n",
              "      <td>2</td>\n",
              "      <td>1</td>\n",
              "      <td>2</td>\n",
              "      <td>2</td>\n",
              "      <td>1</td>\n",
              "      <td>2</td>\n",
              "      <td>1</td>\n",
              "    </tr>\n",
              "    <tr>\n",
              "      <th>...</th>\n",
              "      <td>...</td>\n",
              "      <td>...</td>\n",
              "      <td>...</td>\n",
              "      <td>...</td>\n",
              "      <td>...</td>\n",
              "      <td>...</td>\n",
              "      <td>...</td>\n",
              "      <td>...</td>\n",
              "      <td>...</td>\n",
              "      <td>...</td>\n",
              "      <td>...</td>\n",
              "      <td>...</td>\n",
              "      <td>...</td>\n",
              "      <td>...</td>\n",
              "      <td>...</td>\n",
              "      <td>...</td>\n",
              "      <td>...</td>\n",
              "      <td>...</td>\n",
              "      <td>...</td>\n",
              "    </tr>\n",
              "    <tr>\n",
              "      <th>1493</th>\n",
              "      <td>1</td>\n",
              "      <td>0</td>\n",
              "      <td>1</td>\n",
              "      <td>0</td>\n",
              "      <td>0</td>\n",
              "      <td>0</td>\n",
              "      <td>2</td>\n",
              "      <td>0</td>\n",
              "      <td>0</td>\n",
              "      <td>1</td>\n",
              "      <td>0</td>\n",
              "      <td>0</td>\n",
              "      <td>2</td>\n",
              "      <td>2</td>\n",
              "      <td>2</td>\n",
              "      <td>2</td>\n",
              "      <td>2</td>\n",
              "      <td>4</td>\n",
              "      <td>1</td>\n",
              "    </tr>\n",
              "    <tr>\n",
              "      <th>1495</th>\n",
              "      <td>1</td>\n",
              "      <td>0</td>\n",
              "      <td>0</td>\n",
              "      <td>0</td>\n",
              "      <td>1</td>\n",
              "      <td>1</td>\n",
              "      <td>1</td>\n",
              "      <td>0</td>\n",
              "      <td>0</td>\n",
              "      <td>0</td>\n",
              "      <td>0</td>\n",
              "      <td>0</td>\n",
              "      <td>2</td>\n",
              "      <td>2</td>\n",
              "      <td>2</td>\n",
              "      <td>2</td>\n",
              "      <td>1</td>\n",
              "      <td>1</td>\n",
              "      <td>3</td>\n",
              "    </tr>\n",
              "    <tr>\n",
              "      <th>1496</th>\n",
              "      <td>1</td>\n",
              "      <td>1</td>\n",
              "      <td>1</td>\n",
              "      <td>0</td>\n",
              "      <td>0</td>\n",
              "      <td>0</td>\n",
              "      <td>2</td>\n",
              "      <td>0</td>\n",
              "      <td>0</td>\n",
              "      <td>1</td>\n",
              "      <td>0</td>\n",
              "      <td>0</td>\n",
              "      <td>2</td>\n",
              "      <td>2</td>\n",
              "      <td>1</td>\n",
              "      <td>2</td>\n",
              "      <td>1</td>\n",
              "      <td>4</td>\n",
              "      <td>3</td>\n",
              "    </tr>\n",
              "    <tr>\n",
              "      <th>1497</th>\n",
              "      <td>0</td>\n",
              "      <td>0</td>\n",
              "      <td>1</td>\n",
              "      <td>0</td>\n",
              "      <td>0</td>\n",
              "      <td>0</td>\n",
              "      <td>2</td>\n",
              "      <td>0</td>\n",
              "      <td>1</td>\n",
              "      <td>0</td>\n",
              "      <td>0</td>\n",
              "      <td>0</td>\n",
              "      <td>1</td>\n",
              "      <td>2</td>\n",
              "      <td>2</td>\n",
              "      <td>2</td>\n",
              "      <td>1</td>\n",
              "      <td>2</td>\n",
              "      <td>2</td>\n",
              "    </tr>\n",
              "    <tr>\n",
              "      <th>1500</th>\n",
              "      <td>1</td>\n",
              "      <td>1</td>\n",
              "      <td>1</td>\n",
              "      <td>0</td>\n",
              "      <td>1</td>\n",
              "      <td>1</td>\n",
              "      <td>2</td>\n",
              "      <td>0</td>\n",
              "      <td>0</td>\n",
              "      <td>0</td>\n",
              "      <td>0</td>\n",
              "      <td>0</td>\n",
              "      <td>1</td>\n",
              "      <td>2</td>\n",
              "      <td>2</td>\n",
              "      <td>1</td>\n",
              "      <td>1</td>\n",
              "      <td>1</td>\n",
              "      <td>1</td>\n",
              "    </tr>\n",
              "  </tbody>\n",
              "</table>\n",
              "<p>1113 rows × 19 columns</p>\n",
              "</div>"
            ],
            "text/plain": [
              "      HTN  DM  SMK  DL  FH  AMI  Sex  NSTEMI  SA  UA  HOCABG  HOPCI  \\\n",
              "0       1   1    0   0   0    0    1       0   1   0       1      1   \n",
              "1       1   0    0   0   0    0    2       1   0   0       0      1   \n",
              "2       1   1    1   0   1    0    2       1   0   0       0      0   \n",
              "3       0   1    0   0   0    1    1       0   0   0       0      0   \n",
              "4       0   0    1   0   0    0    2       0   1   0       0      0   \n",
              "...   ...  ..  ...  ..  ..  ...  ...     ...  ..  ..     ...    ...   \n",
              "1493    1   0    1   0   0    0    2       0   0   1       0      0   \n",
              "1495    1   0    0   0   1    1    1       0   0   0       0      0   \n",
              "1496    1   1    1   0   0    0    2       0   0   1       0      0   \n",
              "1497    0   0    1   0   0    0    2       0   1   0       0      0   \n",
              "1500    1   1    1   0   1    1    2       0   0   0       0      0   \n",
              "\n",
              "      Age_Group  LDL1  HDL1  TG1  EF1  Indication1  TC1  \n",
              "0             2     2     2    2    2            5    1  \n",
              "1             2     1     2    1    2            5    1  \n",
              "2             2     2     2    2    1            3    1  \n",
              "3             3     1     2    2    2            1    1  \n",
              "4             2     1     2    2    1            2    1  \n",
              "...         ...   ...   ...  ...  ...          ...  ...  \n",
              "1493          2     2     2    2    2            4    1  \n",
              "1495          2     2     2    2    1            1    3  \n",
              "1496          2     2     1    2    1            4    3  \n",
              "1497          1     2     2    2    1            2    2  \n",
              "1500          1     2     2    1    1            1    1  \n",
              "\n",
              "[1113 rows x 19 columns]"
            ]
          },
          "execution_count": 77,
          "metadata": {},
          "output_type": "execute_result"
        }
      ],
      "source": [
        "df"
      ]
    },
    {
      "cell_type": "code",
      "execution_count": null,
      "id": "d6cfbe23",
      "metadata": {
        "id": "d6cfbe23"
      },
      "outputs": [],
      "source": [
        "a=X_train_transformed2[0]\n",
        "b=X_train_transformed2[1]"
      ]
    },
    {
      "cell_type": "code",
      "execution_count": null,
      "id": "06b7e486",
      "metadata": {
        "id": "06b7e486",
        "outputId": "4cc8c067-1976-48d3-937d-bbe809b241a5"
      },
      "outputs": [
        {
          "data": {
            "text/plain": [
              "0     -0.370038\n",
              "1     -0.418494\n",
              "2      1.353524\n",
              "3      1.382678\n",
              "4     -1.154275\n",
              "         ...   \n",
              "885   -0.295894\n",
              "886   -0.552711\n",
              "887   -1.202031\n",
              "888   -1.334484\n",
              "889    1.388534\n",
              "Name: 0, Length: 890, dtype: float64"
            ]
          },
          "execution_count": 84,
          "metadata": {},
          "output_type": "execute_result"
        }
      ],
      "source": [
        "a"
      ]
    },
    {
      "cell_type": "code",
      "execution_count": null,
      "id": "60f462e5",
      "metadata": {
        "id": "60f462e5",
        "outputId": "12d7b262-f84f-4a8b-aa8b-55c7a7644855"
      },
      "outputs": [
        {
          "data": {
            "text/plain": [
              "HTN            0\n",
              "DM             0\n",
              "SMK            0\n",
              "DL             0\n",
              "FH             0\n",
              "Sex            0\n",
              "NSTEMI         0\n",
              "SA             0\n",
              "UA             0\n",
              "HOCABG         0\n",
              "HOPCI          0\n",
              "Age_Group      0\n",
              "LDL1           0\n",
              "HDL1           0\n",
              "TG1            0\n",
              "EF1            0\n",
              "Indication1    0\n",
              "TC1            0\n",
              "dtype: int64"
            ]
          },
          "execution_count": 42,
          "metadata": {},
          "output_type": "execute_result"
        }
      ],
      "source": [
        "X = df.drop('AMI',axis=1)\n",
        "X.isnull().sum()"
      ]
    },
    {
      "cell_type": "markdown",
      "id": "c25c04cf",
      "metadata": {
        "id": "c25c04cf"
      },
      "source": [
        "# Oversampling ( Training dataset not the Whole dataset)"
      ]
    },
    {
      "cell_type": "raw",
      "id": "35408be8",
      "metadata": {
        "id": "35408be8"
      },
      "source": [
        "SMOTE technique always want the integer type dataset (X_train must to be int)\n",
        "Try this : X_train = X_before_oversampled_train.astype('int') [IF data is in float]"
      ]
    },
    {
      "cell_type": "code",
      "execution_count": 36,
      "id": "1331596a",
      "metadata": {
        "id": "1331596a"
      },
      "outputs": [],
      "source": [
        "from sklearn.model_selection import train_test_split\n",
        "from imblearn.over_sampling import SMOTE"
      ]
    },
    {
      "cell_type": "code",
      "execution_count": 37,
      "id": "43bddcc2",
      "metadata": {
        "id": "43bddcc2"
      },
      "outputs": [],
      "source": [
        "from sklearn.model_selection import train_test_split\n",
        "from imblearn.over_sampling import SMOTE\n",
        "X = df.drop('AMI',axis=1)\n",
        "y = df['AMI']\n",
        "X_train, X_test, y_train, y_test = train_test_split(X, y, test_size=0.3, random_state=0)"
      ]
    },
    {
      "cell_type": "code",
      "execution_count": 38,
      "id": "9460ce59",
      "metadata": {
        "colab": {
          "base_uri": "https://localhost:8080/"
        },
        "id": "9460ce59",
        "outputId": "ace5eb63-9ba3-4ce1-e5ad-b29e7f3c8c66"
      },
      "outputs": [
        {
          "output_type": "stream",
          "name": "stdout",
          "text": [
            "After OverSampling, the shape of train_X: (1012, 18)\n",
            "After OverSampling, the shape of train_y: (1012,) \n",
            "\n",
            "After OverSampling, counts of label '1': 506\n",
            "After OverSampling, counts of label '0': 506\n"
          ]
        }
      ],
      "source": [
        "# vi) DATA balanced in Smote technique\n",
        "from imblearn.over_sampling import SMOTE\n",
        "sm = SMOTE(random_state = 0)\n",
        "x_train_oversampled, y_train_oversampled = sm.fit_resample(X_train, y_train)\n",
        "\n",
        "print('After OverSampling, the shape of train_X: {}'.format(x_train_oversampled.shape))\n",
        "print('After OverSampling, the shape of train_y: {} \\n'.format(y_train_oversampled.shape))\n",
        "\n",
        "print(\"After OverSampling, counts of label '1': {}\".format(sum(y_train_oversampled == 1)))\n",
        "print(\"After OverSampling, counts of label '0': {}\".format(sum(y_train_oversampled == 0)))"
      ]
    },
    {
      "cell_type": "code",
      "execution_count": 39,
      "id": "32871f6b",
      "metadata": {
        "id": "32871f6b"
      },
      "outputs": [],
      "source": [
        "y_train_oversampled=pd.DataFrame(y_train_oversampled)\n",
        "y_test=pd.DataFrame(y_test)"
      ]
    },
    {
      "cell_type": "code",
      "execution_count": 40,
      "id": "8715c6ed",
      "metadata": {
        "id": "8715c6ed"
      },
      "outputs": [],
      "source": [
        "y_oversampled_dataframe=pd.concat([y_train_oversampled,y_test],axis=0)"
      ]
    },
    {
      "cell_type": "code",
      "execution_count": 41,
      "id": "795da973",
      "metadata": {
        "colab": {
          "base_uri": "https://localhost:8080/"
        },
        "id": "795da973",
        "outputId": "f294507c-bf51-47c6-bab9-a83116650e4a"
      },
      "outputs": [
        {
          "output_type": "stream",
          "name": "stdout",
          "text": [
            "<class 'pandas.core.frame.DataFrame'>\n",
            "Int64Index: 1346 entries, 0 to 116\n",
            "Data columns (total 1 columns):\n",
            " #   Column  Non-Null Count  Dtype\n",
            "---  ------  --------------  -----\n",
            " 0   AMI     1346 non-null   int64\n",
            "dtypes: int64(1)\n",
            "memory usage: 21.0 KB\n"
          ]
        }
      ],
      "source": [
        "y_oversampled_dataframe.info()"
      ]
    },
    {
      "cell_type": "code",
      "execution_count": 42,
      "id": "1e324406",
      "metadata": {
        "id": "1e324406"
      },
      "outputs": [],
      "source": [
        "x_train_oversampled=pd.DataFrame(x_train_oversampled)\n",
        "x_test=pd.DataFrame(X_test)"
      ]
    },
    {
      "cell_type": "code",
      "execution_count": 43,
      "id": "eacb6dd3",
      "metadata": {
        "id": "eacb6dd3"
      },
      "outputs": [],
      "source": [
        "x_oversampled_dataframe=pd.concat([x_train_oversampled,x_test],axis=0)"
      ]
    },
    {
      "cell_type": "code",
      "execution_count": 44,
      "id": "e5f02139",
      "metadata": {
        "id": "e5f02139"
      },
      "outputs": [],
      "source": [
        "# Making New DataFrame with oversampled Data\n",
        "df_oversampled=pd.concat([x_oversampled_dataframe, y_oversampled_dataframe],axis=1)"
      ]
    },
    {
      "cell_type": "code",
      "execution_count": 45,
      "id": "1aa7886d",
      "metadata": {
        "colab": {
          "base_uri": "https://localhost:8080/"
        },
        "id": "1aa7886d",
        "outputId": "1adedb42-3458-46bc-eda5-1c7d5b657d47"
      },
      "outputs": [
        {
          "output_type": "stream",
          "name": "stdout",
          "text": [
            "<class 'pandas.core.frame.DataFrame'>\n",
            "Int64Index: 1346 entries, 0 to 116\n",
            "Data columns (total 19 columns):\n",
            " #   Column       Non-Null Count  Dtype\n",
            "---  ------       --------------  -----\n",
            " 0   HTN          1346 non-null   int64\n",
            " 1   DM           1346 non-null   int64\n",
            " 2   SMK          1346 non-null   int64\n",
            " 3   DL           1346 non-null   int64\n",
            " 4   FH           1346 non-null   int64\n",
            " 5   Sex          1346 non-null   int64\n",
            " 6   NSTEMI       1346 non-null   int64\n",
            " 7   SA           1346 non-null   int64\n",
            " 8   UA           1346 non-null   int64\n",
            " 9   HOCABG       1346 non-null   int64\n",
            " 10  HOPCI        1346 non-null   int64\n",
            " 11  Age_Group    1346 non-null   int64\n",
            " 12  LDL1         1346 non-null   int64\n",
            " 13  HDL1         1346 non-null   int64\n",
            " 14  TG1          1346 non-null   int64\n",
            " 15  EF1          1346 non-null   int64\n",
            " 16  Indication1  1346 non-null   int64\n",
            " 17  TC1          1346 non-null   int64\n",
            " 18  AMI          1346 non-null   int64\n",
            "dtypes: int64(19)\n",
            "memory usage: 210.3 KB\n"
          ]
        }
      ],
      "source": [
        "df_oversampled.info()"
      ]
    },
    {
      "cell_type": "code",
      "execution_count": 46,
      "id": "d4592ac6",
      "metadata": {
        "id": "d4592ac6"
      },
      "outputs": [],
      "source": [
        "df.to_excel('dataset_excel_file_for_R.xlsx', index=False)"
      ]
    },
    {
      "cell_type": "code",
      "execution_count": 47,
      "id": "0aa897fc",
      "metadata": {
        "colab": {
          "base_uri": "https://localhost:8080/"
        },
        "id": "0aa897fc",
        "outputId": "2ff302db-b37c-4eed-a2c7-4267bd945476"
      },
      "outputs": [
        {
          "output_type": "stream",
          "name": "stdout",
          "text": [
            "AMI\n",
            "0      206\n",
            "1      128\n",
            "dtype: int64\n",
            "AMI\n",
            "0      506\n",
            "1      506\n",
            "dtype: int64\n"
          ]
        }
      ],
      "source": [
        "# SIZE OF TEST AND TRAINING DATASET\n",
        "print(y_test.value_counts())\n",
        "print(y_train_oversampled.value_counts())"
      ]
    },
    {
      "cell_type": "code",
      "execution_count": 48,
      "id": "6cd9e6d9",
      "metadata": {
        "colab": {
          "base_uri": "https://localhost:8080/"
        },
        "id": "6cd9e6d9",
        "outputId": "84e3cd86-c8f1-4ea0-f229-036b8a886b0a"
      },
      "outputs": [
        {
          "output_type": "stream",
          "name": "stdout",
          "text": [
            "training_data 1012\n",
            "test_data 334\n"
          ]
        }
      ],
      "source": [
        "print('training_data',506+506)\n",
        "print('test_data',206+128)"
      ]
    },
    {
      "cell_type": "code",
      "execution_count": 49,
      "id": "98b9722f",
      "metadata": {
        "colab": {
          "base_uri": "https://localhost:8080/"
        },
        "id": "98b9722f",
        "outputId": "55397be5-781d-4f49-a93e-1a6ce23b17c6"
      },
      "outputs": [
        {
          "output_type": "stream",
          "name": "stdout",
          "text": [
            "total_data 1346\n"
          ]
        }
      ],
      "source": [
        "total_data=(1012+334)\n",
        "print('total_data',total_data)"
      ]
    },
    {
      "cell_type": "markdown",
      "id": "6f17a3a9",
      "metadata": {
        "id": "6f17a3a9"
      },
      "source": [
        "Data amount : 1346"
      ]
    },
    {
      "cell_type": "markdown",
      "id": "0f034d12",
      "metadata": {
        "id": "0f034d12"
      },
      "source": [
        " MinMaxScaller in Oversampled Dataset"
      ]
    },
    {
      "cell_type": "markdown",
      "id": "41987ff1",
      "metadata": {
        "id": "41987ff1"
      },
      "source": [
        "'''s_scaler =MinMaxScaler()\n",
        "df_MinMaxScaller = s_scaler.fit_transform(df_oversampled)\n",
        "df_MinMaxScaller = pd.DataFrame(df_MinMaxScaller, columns=df_oversampled.columns)'''"
      ]
    },
    {
      "cell_type": "markdown",
      "id": "924b6457",
      "metadata": {
        "id": "924b6457"
      },
      "source": [
        "df_MinMaxScaller.head(20)"
      ]
    },
    {
      "cell_type": "markdown",
      "id": "25ee5439",
      "metadata": {
        "id": "25ee5439"
      },
      "source": [
        "5) Model insialization (  not using the scaler"
      ]
    },
    {
      "cell_type": "markdown",
      "id": "8bff1242",
      "metadata": {
        "id": "8bff1242"
      },
      "source": [
        "from sklearn.model_selection import train_test_split\n",
        "from imblearn.over_sampling import SMOTE\n",
        "x_MinMaxScaller = df_MinMaxScaller.drop('AMI',axis=1)\n",
        "y_MinMaxScaller = df_MinMaxScaller['AMI']\n",
        "x_train_MinMaxScaller, x_test_MinMaxScaller, y_train_MinMaxScaller, y_test_MinMaxScaller = train_test_split(x_MinMaxScaller, y_MinMaxScaller, test_size=0.3, random_state=0)"
      ]
    },
    {
      "cell_type": "code",
      "execution_count": 50,
      "id": "e6d0d838",
      "metadata": {
        "id": "e6d0d838"
      },
      "outputs": [],
      "source": [
        "# Can use K Flod"
      ]
    },
    {
      "cell_type": "markdown",
      "id": "e85eb778",
      "metadata": {
        "id": "e85eb778"
      },
      "source": [
        "# 2)\tClassification Algorithms and Classification parameters."
      ]
    },
    {
      "cell_type": "code",
      "execution_count": 51,
      "id": "51cd8381",
      "metadata": {
        "id": "51cd8381"
      },
      "outputs": [],
      "source": [
        "# 1)Used Algorithm\n",
        "# ii) Used Parameters\n",
        "#iii) Accuracy scores"
      ]
    },
    {
      "cell_type": "markdown",
      "id": "6d944c01",
      "metadata": {
        "id": "6d944c01"
      },
      "source": [
        "# Result Part"
      ]
    },
    {
      "cell_type": "code",
      "execution_count": 52,
      "id": "62718213",
      "metadata": {
        "id": "62718213"
      },
      "outputs": [],
      "source": [
        "# After Doing all things the shape of the data and columns Also the Target variables"
      ]
    },
    {
      "cell_type": "markdown",
      "id": "31752ab5",
      "metadata": {
        "id": "31752ab5"
      },
      "source": [
        "# Using Oversampling data the analysis part is happened"
      ]
    },
    {
      "cell_type": "markdown",
      "id": "52347541",
      "metadata": {
        "id": "52347541"
      },
      "source": [
        "# Divide the over Sampled Data"
      ]
    },
    {
      "cell_type": "code",
      "execution_count": 53,
      "id": "f0f29436",
      "metadata": {
        "colab": {
          "base_uri": "https://localhost:8080/"
        },
        "id": "f0f29436",
        "outputId": "f5c9fd36-6b26-444f-8e7c-cb9db3f0d87a"
      },
      "outputs": [
        {
          "output_type": "stream",
          "name": "stdout",
          "text": [
            "<class 'pandas.core.frame.DataFrame'>\n",
            "Int64Index: 1346 entries, 0 to 116\n",
            "Data columns (total 19 columns):\n",
            " #   Column       Non-Null Count  Dtype\n",
            "---  ------       --------------  -----\n",
            " 0   HTN          1346 non-null   int64\n",
            " 1   DM           1346 non-null   int64\n",
            " 2   SMK          1346 non-null   int64\n",
            " 3   DL           1346 non-null   int64\n",
            " 4   FH           1346 non-null   int64\n",
            " 5   Sex          1346 non-null   int64\n",
            " 6   NSTEMI       1346 non-null   int64\n",
            " 7   SA           1346 non-null   int64\n",
            " 8   UA           1346 non-null   int64\n",
            " 9   HOCABG       1346 non-null   int64\n",
            " 10  HOPCI        1346 non-null   int64\n",
            " 11  Age_Group    1346 non-null   int64\n",
            " 12  LDL1         1346 non-null   int64\n",
            " 13  HDL1         1346 non-null   int64\n",
            " 14  TG1          1346 non-null   int64\n",
            " 15  EF1          1346 non-null   int64\n",
            " 16  Indication1  1346 non-null   int64\n",
            " 17  TC1          1346 non-null   int64\n",
            " 18  AMI          1346 non-null   int64\n",
            "dtypes: int64(19)\n",
            "memory usage: 210.3 KB\n"
          ]
        }
      ],
      "source": [
        "df_oversampled.info()"
      ]
    },
    {
      "cell_type": "markdown",
      "id": "9a8b60bf",
      "metadata": {
        "id": "9a8b60bf"
      },
      "source": [
        "# Accuracy Matrix"
      ]
    },
    {
      "cell_type": "code",
      "execution_count": 54,
      "id": "b8b7ead4",
      "metadata": {
        "colab": {
          "base_uri": "https://localhost:8080/"
        },
        "id": "b8b7ead4",
        "outputId": "a77521a5-1d7c-4eff-90d4-4396f57a10a3"
      },
      "outputs": [
        {
          "output_type": "execute_result",
          "data": {
            "text/plain": [
              "['explained_variance',\n",
              " 'r2',\n",
              " 'max_error',\n",
              " 'matthews_corrcoef',\n",
              " 'neg_median_absolute_error',\n",
              " 'neg_mean_absolute_error',\n",
              " 'neg_mean_absolute_percentage_error',\n",
              " 'neg_mean_squared_error',\n",
              " 'neg_mean_squared_log_error',\n",
              " 'neg_root_mean_squared_error',\n",
              " 'neg_mean_poisson_deviance',\n",
              " 'neg_mean_gamma_deviance',\n",
              " 'accuracy',\n",
              " 'top_k_accuracy',\n",
              " 'roc_auc',\n",
              " 'roc_auc_ovr',\n",
              " 'roc_auc_ovo',\n",
              " 'roc_auc_ovr_weighted',\n",
              " 'roc_auc_ovo_weighted',\n",
              " 'balanced_accuracy',\n",
              " 'average_precision',\n",
              " 'neg_log_loss',\n",
              " 'neg_brier_score',\n",
              " 'positive_likelihood_ratio',\n",
              " 'neg_negative_likelihood_ratio',\n",
              " 'adjusted_rand_score',\n",
              " 'rand_score',\n",
              " 'homogeneity_score',\n",
              " 'completeness_score',\n",
              " 'v_measure_score',\n",
              " 'mutual_info_score',\n",
              " 'adjusted_mutual_info_score',\n",
              " 'normalized_mutual_info_score',\n",
              " 'fowlkes_mallows_score',\n",
              " 'precision',\n",
              " 'precision_macro',\n",
              " 'precision_micro',\n",
              " 'precision_samples',\n",
              " 'precision_weighted',\n",
              " 'recall',\n",
              " 'recall_macro',\n",
              " 'recall_micro',\n",
              " 'recall_samples',\n",
              " 'recall_weighted',\n",
              " 'f1',\n",
              " 'f1_macro',\n",
              " 'f1_micro',\n",
              " 'f1_samples',\n",
              " 'f1_weighted',\n",
              " 'jaccard',\n",
              " 'jaccard_macro',\n",
              " 'jaccard_micro',\n",
              " 'jaccard_samples',\n",
              " 'jaccard_weighted']"
            ]
          },
          "metadata": {},
          "execution_count": 54
        }
      ],
      "source": [
        "from sklearn.metrics import SCORERS\n",
        "list(SCORERS.keys())"
      ]
    },
    {
      "cell_type": "code",
      "execution_count": 54,
      "id": "539f9f6f",
      "metadata": {
        "id": "539f9f6f"
      },
      "outputs": [],
      "source": []
    },
    {
      "cell_type": "markdown",
      "id": "126624a6",
      "metadata": {
        "id": "126624a6"
      },
      "source": [
        "# KNN"
      ]
    },
    {
      "cell_type": "code",
      "execution_count": 57,
      "id": "f99d56f6",
      "metadata": {
        "colab": {
          "base_uri": "https://localhost:8080/"
        },
        "id": "f99d56f6",
        "outputId": "c4ba2843-70a6-4d00-8abf-79d33df04666"
      },
      "outputs": [
        {
          "output_type": "stream",
          "name": "stdout",
          "text": [
            "0.9483905868973851\n"
          ]
        }
      ],
      "source": [
        "from sklearn.model_selection import cross_val_score\n",
        "knn=KNeighborsClassifier(n_neighbors=5)\n",
        "scores=cross_val_score(knn,x_oversampled_dataframe, y_oversampled_dataframe['AMI'],cv=10,scoring='f1')\n",
        "print(scores.mean())"
      ]
    },
    {
      "cell_type": "code",
      "execution_count": 56,
      "id": "8e804b4d",
      "metadata": {
        "colab": {
          "base_uri": "https://localhost:8080/"
        },
        "id": "8e804b4d",
        "outputId": "d39fd6cd-6e55-4f30-9f8d-598710aa5191"
      },
      "outputs": [
        {
          "output_type": "stream",
          "name": "stdout",
          "text": [
            "Model accuracy : 0.9251497005988024\n",
            "              precision    recall  f1-score   support\n",
            "\n",
            "           0       0.97      0.91      0.94       206\n",
            "           1       0.87      0.95      0.91       128\n",
            "\n",
            "    accuracy                           0.93       334\n",
            "   macro avg       0.92      0.93      0.92       334\n",
            "weighted avg       0.93      0.93      0.93       334\n",
            "\n"
          ]
        },
        {
          "output_type": "stream",
          "name": "stderr",
          "text": [
            "/usr/local/lib/python3.10/dist-packages/sklearn/neighbors/_classification.py:215: DataConversionWarning: A column-vector y was passed when a 1d array was expected. Please change the shape of y to (n_samples,), for example using ravel().\n",
            "  return self._fit(X, y)\n"
          ]
        }
      ],
      "source": [
        "from sklearn.neighbors import KNeighborsClassifier\n",
        "kNN_MODEL = KNeighborsClassifier(n_neighbors=5)\n",
        "# Fit Model\n",
        "kNN_MODEL.fit(x_train_oversampled, y_train_oversampled)\n",
        "# Predict the test set results\n",
        "y_pred_knn = kNN_MODEL.predict(x_test)\n",
        "print('Model accuracy :',accuracy_score(y_test['AMI'],y_pred_knn))\n",
        "# Look at classification report to evaluate the model\n",
        "print(classification_report(y_test['AMI'], y_pred_knn))"
      ]
    },
    {
      "cell_type": "code",
      "execution_count": 58,
      "id": "86c68cd8",
      "metadata": {
        "colab": {
          "base_uri": "https://localhost:8080/"
        },
        "id": "86c68cd8",
        "outputId": "038f04ec-f8c1-4854-cbe8-1595ce289feb"
      },
      "outputs": [
        {
          "output_type": "execute_result",
          "data": {
            "text/plain": [
              "0.8446511627906976"
            ]
          },
          "metadata": {},
          "execution_count": 58
        }
      ],
      "source": [
        "#Cohen Kappa Score's\n",
        "from sklearn.metrics import cohen_kappa_score\n",
        "cohen_kappa_score(y_test['AMI'],y_pred_knn)"
      ]
    },
    {
      "cell_type": "code",
      "execution_count": 59,
      "id": "0a94706b",
      "metadata": {
        "colab": {
          "base_uri": "https://localhost:8080/"
        },
        "id": "0a94706b",
        "outputId": "21d77fe7-3af8-4e85-8abd-d34dc4b1248e"
      },
      "outputs": [
        {
          "output_type": "stream",
          "name": "stdout",
          "text": [
            "0.896928360347977 0.9533710408496279\n"
          ]
        },
        {
          "output_type": "stream",
          "name": "stderr",
          "text": [
            "/usr/local/lib/python3.10/dist-packages/sklearn/neighbors/_classification.py:215: DataConversionWarning: A column-vector y was passed when a 1d array was expected. Please change the shape of y to (n_samples,), for example using ravel().\n",
            "  return self._fit(X, y)\n"
          ]
        }
      ],
      "source": [
        "import numpy as np\n",
        "from scipy import stats\n",
        "\n",
        "knn.fit(x_train_oversampled, y_train_oversampled)\n",
        "\n",
        "z_value = stats.norm.ppf(1 - 0.05 / 2)\n",
        "acc_test = knn.score(x_test, y_test['AMI'])\n",
        "ci_length = z_value * np.sqrt((acc_test * (1 - acc_test)) / y_test.shape[0])\n",
        "\n",
        "ci_lower = acc_test - ci_length\n",
        "ci_upper = acc_test + ci_length\n",
        "\n",
        "print(ci_lower, ci_upper)"
      ]
    },
    {
      "cell_type": "markdown",
      "id": "bd7c7c26",
      "metadata": {
        "id": "bd7c7c26"
      },
      "source": [
        "# CART MODEL"
      ]
    },
    {
      "cell_type": "code",
      "execution_count": 60,
      "id": "00c1d7e4",
      "metadata": {
        "colab": {
          "base_uri": "https://localhost:8080/"
        },
        "id": "00c1d7e4",
        "outputId": "d3311909-6571-44fe-dae8-0d3ecd9e70e8"
      },
      "outputs": [
        {
          "output_type": "stream",
          "name": "stdout",
          "text": [
            "Normal accuracy:  0.8892215568862275\n",
            "              precision    recall  f1-score   support\n",
            "\n",
            "           0       0.94      0.88      0.91       206\n",
            "           1       0.82      0.91      0.86       128\n",
            "\n",
            "    accuracy                           0.89       334\n",
            "   macro avg       0.88      0.89      0.88       334\n",
            "weighted avg       0.89      0.89      0.89       334\n",
            "\n",
            "col_0    0    1\n",
            "AMI            \n",
            "0      181   25\n",
            "1       12  116\n",
            "--------------------------------------------------------\n",
            "\n"
          ]
        }
      ],
      "source": [
        "# Fit the model\n",
        "cart_model = tree.DecisionTreeClassifier(criterion='gini', splitter='best', max_depth=3, class_weight=None, min_samples_leaf=100, random_state=0)\n",
        "clf = cart_model.fit(x_train_oversampled, y_train_oversampled)\n",
        "# Predict class labels on a test data\n",
        "pred_y1_cart = cart_model.predict(x_test)\n",
        "score_CART= accuracy_score(y_test['AMI'], pred_y1_cart)\n",
        "print(\"Normal accuracy: \",score_CART)\n",
        "# Look at classification report to evaluate the model\n",
        "print(classification_report(y_test['AMI'], pred_y1_cart))\n",
        "print(pd.crosstab(y_test['AMI'], pred_y1_cart))\n",
        "print('--------------------------------------------------------')\n",
        "print(\"\")"
      ]
    },
    {
      "cell_type": "code",
      "execution_count": 61,
      "id": "1fc34c2b",
      "metadata": {
        "colab": {
          "base_uri": "https://localhost:8080/"
        },
        "id": "1fc34c2b",
        "outputId": "4af85d89-b616-4034-e38b-395929dd7103"
      },
      "outputs": [
        {
          "output_type": "execute_result",
          "data": {
            "text/plain": [
              "0.7700837209302325"
            ]
          },
          "metadata": {},
          "execution_count": 61
        }
      ],
      "source": [
        "#Cohen Kappa Score's\n",
        "from sklearn.metrics import cohen_kappa_score\n",
        "cohen_kappa_score(y_test['AMI'],pred_y1_cart)"
      ]
    },
    {
      "cell_type": "code",
      "execution_count": 62,
      "id": "057a84d6",
      "metadata": {
        "colab": {
          "base_uri": "https://localhost:8080/"
        },
        "id": "057a84d6",
        "outputId": "310e4c44-0a7b-4758-8b0e-c86616a63fdd"
      },
      "outputs": [
        {
          "output_type": "stream",
          "name": "stdout",
          "text": [
            "0.855562071061796 0.922881042710659\n"
          ]
        }
      ],
      "source": [
        "import numpy as np\n",
        "from scipy import stats\n",
        "\n",
        "cart_model.fit(x_train_oversampled, y_train_oversampled)\n",
        "\n",
        "z_value = stats.norm.ppf(1 - 0.05 / 2)\n",
        "acc_test = cart_model.score(x_test, y_test['AMI'])\n",
        "ci_length = z_value * np.sqrt((acc_test * (1 - acc_test)) / y_test.shape[0])\n",
        "\n",
        "ci_lower = acc_test - ci_length\n",
        "ci_upper = acc_test + ci_length\n",
        "\n",
        "print(ci_lower, ci_upper)"
      ]
    },
    {
      "cell_type": "code",
      "execution_count": 63,
      "id": "09b5bca0",
      "metadata": {
        "colab": {
          "base_uri": "https://localhost:8080/"
        },
        "id": "09b5bca0",
        "outputId": "463f267e-c9b6-4f48-f0d7-4467ceab752f"
      },
      "outputs": [
        {
          "output_type": "stream",
          "name": "stdout",
          "text": [
            "0.8995367778116126\n"
          ]
        }
      ],
      "source": [
        "#Indetify the Value of N\n",
        "#for i in range(1,21):\n",
        "scores_Carrt=cross_val_score(cart_model,x_oversampled_dataframe, y_oversampled_dataframe['AMI'],cv=10,scoring='f1')\n",
        "print(scores_Carrt.mean())"
      ]
    },
    {
      "cell_type": "markdown",
      "id": "a654306c",
      "metadata": {
        "id": "a654306c"
      },
      "source": [
        "# Random Forest"
      ]
    },
    {
      "cell_type": "code",
      "execution_count": 64,
      "id": "41f30cad",
      "metadata": {
        "colab": {
          "base_uri": "https://localhost:8080/"
        },
        "id": "41f30cad",
        "outputId": "00db07ea-7341-4466-bd4e-239a19c4d843"
      },
      "outputs": [
        {
          "output_type": "stream",
          "name": "stdout",
          "text": [
            "*************** Evaluation on Test Data ***************\n",
            "Accuracy Score:  0.9461077844311377\n",
            "              precision    recall  f1-score   support\n",
            "\n",
            "           0       0.92      1.00      0.96       206\n",
            "           1       1.00      0.86      0.92       128\n",
            "\n",
            "    accuracy                           0.95       334\n",
            "   macro avg       0.96      0.93      0.94       334\n",
            "weighted avg       0.95      0.95      0.95       334\n",
            "\n"
          ]
        },
        {
          "output_type": "stream",
          "name": "stderr",
          "text": [
            "<ipython-input-64-edd6f47e9b2b>:6: DataConversionWarning: A column-vector y was passed when a 1d array was expected. Please change the shape of y to (n_samples,), for example using ravel().\n",
            "  clf = Rm_model.fit(x_train_oversampled, y_train_oversampled)\n"
          ]
        }
      ],
      "source": [
        "from sklearn.ensemble import RandomForestClassifier\n",
        "Rm_model = RandomForestClassifier(criterion='gini',\n",
        "                              min_samples_leaf=200\n",
        "                              )\n",
        "# Fit the model\n",
        "clf = Rm_model.fit(x_train_oversampled, y_train_oversampled)\n",
        "# Predict class labels on a test data\n",
        "y_pred_rm = Rm_model.predict(x_test)\n",
        "print('*************** Evaluation on Test Data ***************')\n",
        "score_te_rm = accuracy_score(y_test['AMI'], y_pred_rm)\n",
        "print('Accuracy Score: ', score_te_rm)\n",
        "# Look at classification report to evaluate the model\n",
        "print(classification_report(y_test['AMI'], y_pred_rm))"
      ]
    },
    {
      "cell_type": "code",
      "execution_count": 65,
      "id": "d28d5781",
      "metadata": {
        "colab": {
          "base_uri": "https://localhost:8080/"
        },
        "id": "d28d5781",
        "outputId": "4c751b0b-66ad-40be-f14e-0d831c785331"
      },
      "outputs": [
        {
          "output_type": "stream",
          "name": "stdout",
          "text": [
            "col_0    0    1\n",
            "AMI            \n",
            "0      206    0\n",
            "1       18  110\n"
          ]
        }
      ],
      "source": [
        "print(pd.crosstab(y_test['AMI'], y_pred_rm))"
      ]
    },
    {
      "cell_type": "code",
      "execution_count": 66,
      "id": "b69af8d5",
      "metadata": {
        "id": "b69af8d5"
      },
      "outputs": [],
      "source": [
        "X_test_oversampled=pd.DataFrame(X_test)"
      ]
    },
    {
      "cell_type": "code",
      "execution_count": 67,
      "id": "15586666",
      "metadata": {
        "colab": {
          "base_uri": "https://localhost:8080/"
        },
        "id": "15586666",
        "outputId": "05661b6a-4f0f-4ffe-ddd9-cb9bcb6b7029"
      },
      "outputs": [
        {
          "output_type": "execute_result",
          "data": {
            "text/plain": [
              "0    224\n",
              "1    110\n",
              "dtype: int64"
            ]
          },
          "metadata": {},
          "execution_count": 67
        }
      ],
      "source": [
        "y_pred_rm=pd.DataFrame(y_pred_rm)\n",
        "y_pred_rm.value_counts()"
      ]
    },
    {
      "cell_type": "code",
      "execution_count": 68,
      "id": "db80244b",
      "metadata": {
        "colab": {
          "base_uri": "https://localhost:8080/"
        },
        "id": "db80244b",
        "outputId": "2ada1cfc-7bcc-4d9e-9772-05460b94d196"
      },
      "outputs": [
        {
          "output_type": "execute_result",
          "data": {
            "text/plain": [
              "0.8828800748071378"
            ]
          },
          "metadata": {},
          "execution_count": 68
        }
      ],
      "source": [
        "#Cohen Kappa Score's\n",
        "from sklearn.metrics import cohen_kappa_score\n",
        "cohen_kappa_score(y_test,y_pred_rm)"
      ]
    },
    {
      "cell_type": "code",
      "execution_count": 69,
      "id": "914b353b",
      "metadata": {
        "colab": {
          "base_uri": "https://localhost:8080/"
        },
        "id": "914b353b",
        "outputId": "89ed353d-0f5d-4078-ba3e-028b5ed570f8"
      },
      "outputs": [
        {
          "output_type": "stream",
          "name": "stdout",
          "text": [
            "0.903981305395596 0.9582941437062004\n"
          ]
        },
        {
          "output_type": "stream",
          "name": "stderr",
          "text": [
            "<ipython-input-69-226f02c779d8>:3: DataConversionWarning: A column-vector y was passed when a 1d array was expected. Please change the shape of y to (n_samples,), for example using ravel().\n",
            "  Rm_model.fit(x_train_oversampled, y_train_oversampled)\n"
          ]
        }
      ],
      "source": [
        "import numpy as np\n",
        "\n",
        "Rm_model.fit(x_train_oversampled, y_train_oversampled)\n",
        "\n",
        "acc_test = Rm_model.score(x_test, y_test['AMI'])\n",
        "ci_length = z_value * np.sqrt((acc_test * (1 - acc_test)) / y_test.shape[0])\n",
        "\n",
        "ci_lower = acc_test - ci_length\n",
        "ci_upper = acc_test + ci_length\n",
        "\n",
        "print(ci_lower, ci_upper)"
      ]
    },
    {
      "cell_type": "code",
      "execution_count": 70,
      "id": "8c4f662b",
      "metadata": {
        "colab": {
          "base_uri": "https://localhost:8080/"
        },
        "id": "8c4f662b",
        "outputId": "59fcdc6c-79b1-4e81-9441-f570e8e98832"
      },
      "outputs": [
        {
          "output_type": "stream",
          "name": "stdout",
          "text": [
            "0.9145936981757877\n"
          ]
        }
      ],
      "source": [
        "from sklearn.model_selection import cross_val_score\n",
        "scores=cross_val_score(Rm_model,x_oversampled_dataframe, y_oversampled_dataframe['AMI'],cv=10,scoring='accuracy')\n",
        "print(scores.mean())"
      ]
    },
    {
      "cell_type": "markdown",
      "id": "650548cb",
      "metadata": {
        "id": "650548cb"
      },
      "source": [
        "# SVM"
      ]
    },
    {
      "cell_type": "code",
      "execution_count": 71,
      "id": "71105332",
      "metadata": {
        "scrolled": true,
        "colab": {
          "base_uri": "https://localhost:8080/"
        },
        "id": "71105332",
        "outputId": "93aa8e21-0876-4025-b7f9-3b3b73a33997"
      },
      "outputs": [
        {
          "output_type": "stream",
          "name": "stdout",
          "text": [
            "Accuracy Score:  0.9491017964071856\n",
            "              precision    recall  f1-score   support\n",
            "\n",
            "           0       0.97      0.95      0.96       206\n",
            "           1       0.92      0.95      0.93       128\n",
            "\n",
            "    accuracy                           0.95       334\n",
            "   macro avg       0.94      0.95      0.95       334\n",
            "weighted avg       0.95      0.95      0.95       334\n",
            "\n",
            "col_0    0    1\n",
            "AMI            \n",
            "0      195   11\n",
            "1        6  122\n"
          ]
        },
        {
          "output_type": "stream",
          "name": "stderr",
          "text": [
            "/usr/local/lib/python3.10/dist-packages/sklearn/utils/validation.py:1143: DataConversionWarning: A column-vector y was passed when a 1d array was expected. Please change the shape of y to (n_samples, ), for example using ravel().\n",
            "  y = column_or_1d(y, warn=True)\n"
          ]
        }
      ],
      "source": [
        "from sklearn.svm import SVC\n",
        "svm_model = SVC(kernel=\"linear\", probability=True)\n",
        "clf_svm = svm_model.fit(x_train_oversampled, y_train_oversampled)\n",
        "pred_y_svm = clf_svm.predict(x_test)\n",
        "from sklearn.metrics import accuracy_score\n",
        "score_svm = accuracy_score(y_test['AMI'], pred_y_svm)\n",
        "print('Accuracy Score: ', score_svm)\n",
        "# Look at classification report to evaluate the model\n",
        "print(classification_report(y_test, pred_y_svm))\n",
        "print(pd.crosstab(y_test['AMI'], pred_y_svm))"
      ]
    },
    {
      "cell_type": "code",
      "execution_count": 72,
      "id": "091ab8db",
      "metadata": {
        "colab": {
          "base_uri": "https://localhost:8080/"
        },
        "id": "091ab8db",
        "outputId": "73dbbc4a-0c2e-4eb2-ca2b-1e6bc56908f7"
      },
      "outputs": [
        {
          "output_type": "execute_result",
          "data": {
            "text/plain": [
              "0.893122011820954"
            ]
          },
          "metadata": {},
          "execution_count": 72
        }
      ],
      "source": [
        "#Cohen Kappa Score's\n",
        "from sklearn.metrics import cohen_kappa_score\n",
        "cohen_kappa_score(y_test,pred_y_svm)"
      ]
    },
    {
      "cell_type": "code",
      "execution_count": 73,
      "id": "f83bcb87",
      "metadata": {
        "colab": {
          "base_uri": "https://localhost:8080/"
        },
        "id": "f83bcb87",
        "outputId": "bf7c9ee3-a80e-4bba-adfd-910ea7af6f94"
      },
      "outputs": [
        {
          "output_type": "stream",
          "name": "stderr",
          "text": [
            "/usr/local/lib/python3.10/dist-packages/sklearn/utils/validation.py:1143: DataConversionWarning: A column-vector y was passed when a 1d array was expected. Please change the shape of y to (n_samples, ), for example using ravel().\n",
            "  y = column_or_1d(y, warn=True)\n"
          ]
        },
        {
          "output_type": "stream",
          "name": "stdout",
          "text": [
            "0.9255305535430558 0.9726730392713154\n"
          ]
        }
      ],
      "source": [
        "import numpy as np\n",
        "\n",
        "svm_model.fit(x_train_oversampled, y_train_oversampled)\n",
        "\n",
        "acc_test = svm_model.score(x_test, y_test['AMI'])\n",
        "ci_length = z_value * np.sqrt((acc_test * (1 - acc_test)) / y_test.shape[0])\n",
        "\n",
        "ci_lower = acc_test - ci_length\n",
        "ci_upper = acc_test + ci_length\n",
        "\n",
        "print(ci_lower, ci_upper)"
      ]
    },
    {
      "cell_type": "code",
      "execution_count": 74,
      "id": "e59c54b9",
      "metadata": {
        "colab": {
          "base_uri": "https://localhost:8080/"
        },
        "id": "e59c54b9",
        "outputId": "91ecdd87-fc97-4e08-9d96-83c62b6ac834"
      },
      "outputs": [
        {
          "output_type": "stream",
          "name": "stdout",
          "text": [
            "0.9383803206191266\n"
          ]
        }
      ],
      "source": [
        "from sklearn.model_selection import cross_val_score\n",
        "scores=cross_val_score(svm_model,x_oversampled_dataframe, y_oversampled_dataframe['AMI'],cv=10,scoring='accuracy')\n",
        "print(scores.mean())"
      ]
    },
    {
      "cell_type": "markdown",
      "id": "c7b96095",
      "metadata": {
        "id": "c7b96095"
      },
      "source": [
        "# Naive Bayes"
      ]
    },
    {
      "cell_type": "code",
      "execution_count": 75,
      "id": "4b44b9c6",
      "metadata": {
        "colab": {
          "base_uri": "https://localhost:8080/"
        },
        "id": "4b44b9c6",
        "outputId": "32854fbb-ad35-468c-9a24-f068cbf5b95f"
      },
      "outputs": [
        {
          "output_type": "stream",
          "name": "stdout",
          "text": [
            "Normal accuracy:  0.9461077844311377\n",
            "              precision    recall  f1-score   support\n",
            "\n",
            "           0       0.97      0.95      0.96       206\n",
            "           1       0.92      0.95      0.93       128\n",
            "\n",
            "    accuracy                           0.95       334\n",
            "   macro avg       0.94      0.95      0.94       334\n",
            "weighted avg       0.95      0.95      0.95       334\n",
            "\n",
            "col_0    0    1\n",
            "AMI            \n",
            "0      195   11\n",
            "1        7  121\n"
          ]
        },
        {
          "output_type": "stream",
          "name": "stderr",
          "text": [
            "/usr/local/lib/python3.10/dist-packages/sklearn/utils/validation.py:1143: DataConversionWarning: A column-vector y was passed when a 1d array was expected. Please change the shape of y to (n_samples, ), for example using ravel().\n",
            "  y = column_or_1d(y, warn=True)\n"
          ]
        }
      ],
      "source": [
        "from sklearn.naive_bayes import GaussianNB, MultinomialNB ,BernoulliNB\n",
        "NB_model=BernoulliNB()\n",
        "\n",
        "NB_model.fit(x_train_oversampled, y_train_oversampled)\n",
        "\n",
        "# Multinomial CLassifier\n",
        "# Predict the test set results\n",
        "pred_y_Naive_bayes= NB_model.predict(x_test)\n",
        "print(\"Normal accuracy: \", accuracy_score(y_test, pred_y_Naive_bayes))\n",
        "print(classification_report(y_test,pred_y_Naive_bayes))\n",
        "print(pd.crosstab(y_test['AMI'], pred_y_Naive_bayes))"
      ]
    },
    {
      "cell_type": "code",
      "execution_count": 76,
      "id": "2d2636ec",
      "metadata": {
        "colab": {
          "base_uri": "https://localhost:8080/"
        },
        "id": "2d2636ec",
        "outputId": "27bdcbd3-7529-4958-c0e9-b2b87e87ae6b"
      },
      "outputs": [
        {
          "output_type": "execute_result",
          "data": {
            "text/plain": [
              "0.8866686774242196"
            ]
          },
          "metadata": {},
          "execution_count": 76
        }
      ],
      "source": [
        "#Cohen Kappa Score's\n",
        "from sklearn.metrics import cohen_kappa_score\n",
        "cohen_kappa_score(y_test,pred_y_Naive_bayes)"
      ]
    },
    {
      "cell_type": "code",
      "execution_count": 77,
      "id": "327e1007",
      "metadata": {
        "colab": {
          "base_uri": "https://localhost:8080/"
        },
        "id": "327e1007",
        "outputId": "9eb10a27-c4c7-41f1-bb36-11a90d17fee4"
      },
      "outputs": [
        {
          "output_type": "stream",
          "name": "stdout",
          "text": [
            "0.9218914623228225 0.970324106539453\n"
          ]
        },
        {
          "output_type": "stream",
          "name": "stderr",
          "text": [
            "/usr/local/lib/python3.10/dist-packages/sklearn/utils/validation.py:1143: DataConversionWarning: A column-vector y was passed when a 1d array was expected. Please change the shape of y to (n_samples, ), for example using ravel().\n",
            "  y = column_or_1d(y, warn=True)\n"
          ]
        }
      ],
      "source": [
        "import numpy as np\n",
        "\n",
        "NB_model.fit(x_train_oversampled, y_train_oversampled)\n",
        "\n",
        "acc_test = NB_model.score(x_test, y_test['AMI'])\n",
        "ci_length = z_value * np.sqrt((acc_test * (1 - acc_test)) / y_test.shape[0])\n",
        "\n",
        "ci_lower = acc_test - ci_length\n",
        "ci_upper = acc_test + ci_length\n",
        "\n",
        "print(ci_lower, ci_upper)"
      ]
    },
    {
      "cell_type": "markdown",
      "id": "25262611",
      "metadata": {
        "id": "25262611"
      },
      "source": [
        "# Roc of Naive Bayes"
      ]
    },
    {
      "cell_type": "code",
      "execution_count": 81,
      "id": "457abd2f",
      "metadata": {
        "colab": {
          "base_uri": "https://localhost:8080/",
          "height": 524
        },
        "id": "457abd2f",
        "outputId": "f4d8363c-0e0f-478d-f8aa-f2344e945d71"
      },
      "outputs": [
        {
          "output_type": "stream",
          "name": "stdout",
          "text": [
            "Precision: 0.9166666666666666\n",
            "Recall: 0.9453125\n",
            "ROC AUC Score: 0.9607099514563107\n"
          ]
        },
        {
          "output_type": "display_data",
          "data": {
            "text/plain": [
              "<Figure size 640x480 with 1 Axes>"
            ],
            "image/png": "[encoded data removed]"
          },
          "metadata": {}
        }
      ],
      "source": [
        "from sklearn.linear_model import LogisticRegression\n",
        "from sklearn.datasets import make_classification\n",
        "from sklearn.model_selection import train_test_split\n",
        "from sklearn.metrics import accuracy_score, f1_score, precision_score, recall_score, roc_curve, auc, confusion_matrix\n",
        "import numpy as np\n",
        "import statsmodels.api as sm\n",
        "from sklearn.metrics import cohen_kappa_score\n",
        "from scipy import stats\n",
        "\n",
        "# Compute precision\n",
        "precision = precision_score(y_test,pred_y_Naive_bayes)\n",
        "print(\"Precision:\", precision)\n",
        "\n",
        "# Compute recall\n",
        "recall = recall_score(y_test,pred_y_Naive_bayes)\n",
        "print(\"Recall:\", recall)\n",
        "\n",
        "\n",
        "# Make predictions on the test set\n",
        "y_pred = NB_model.predict(x_test)\n",
        "y_pred_proba_log = NB_model.predict_proba(x_test)[:, 1]\n",
        "# Compute ROC curve\n",
        "fpr, tpr, thresholds = roc_curve(y_test, y_pred_proba_log)\n",
        "roc_auc = auc(fpr, tpr)\n",
        "print(\"ROC AUC Score:\", roc_auc)\n",
        "\n",
        "# Plot ROC curve\n",
        "import matplotlib.pyplot as plt\n",
        "plt.figure()\n",
        "plt.plot(fpr, tpr, color='black', lw=2, label='ROC curve (area = %0.2f)' % roc_auc)\n",
        "plt.plot([0, 1], [0, 1], color='navy', lw=2, linestyle='--')\n",
        "plt.xlim([0.0, 1.0])\n",
        "plt.ylim([0.0, 1.05])\n",
        "plt.xlabel('False Positive Rate')\n",
        "plt.ylabel('True Positive Rate')\n",
        "plt.title('Receiver Operating Characteristic (ROC) Curve')\n",
        "plt.legend(loc=\"lower right\")\n",
        "plt.show()"
      ]
    },
    {
      "cell_type": "markdown",
      "id": "0dea354b",
      "metadata": {
        "id": "0dea354b"
      },
      "source": [
        "# ROC Curve"
      ]
    },
    {
      "cell_type": "code",
      "execution_count": 82,
      "id": "0983692b",
      "metadata": {
        "colab": {
          "base_uri": "https://localhost:8080/",
          "height": 887
        },
        "id": "0983692b",
        "outputId": "3d6d3c29-e55f-4698-f4b8-dba59b72962d"
      },
      "outputs": [
        {
          "output_type": "display_data",
          "data": {
            "text/html": [
              "<html>\n",
              "<head><meta charset=\"utf-8\" /></head>\n",
              "<body>\n",
              "    <div>            <script src=\"https://cdnjs.cloudflare.com/ajax/libs/mathjax/2.7.5/MathJax.js?config=TeX-AMS-MML_SVG\"></script><script type=\"text/javascript\">if (window.MathJax && window.MathJax.Hub && window.MathJax.Hub.Config) {window.MathJax.Hub.Config({SVG: {font: \"STIX-Web\"}});}</script>                <script type=\"text/javascript\">window.PlotlyConfig = {MathJaxConfig: 'local'};</script>\n",
              "        <script charset=\"utf-8\" src=\"https://cdn.plot.ly/plotly-2.24.1.min.js\"></script>                <div id=\"fa070592-2417-4197-951d-c1aaa56a1d18\" class=\"plotly-graph-div\" style=\"height:800px; width:800px;\"></div>            <script type=\"text/javascript\">                                    window.PLOTLYENV=window.PLOTLYENV || {};                                    if (document.getElementById(\"fa070592-2417-4197-951d-c1aaa56a1d18\")) {                    Plotly.newPlot(                        \"fa070592-2417-4197-951d-c1aaa56a1d18\",                        [{\"mode\":\"lines\",\"name\":\"Random Forest(Area = 0.95)\",\"x\":[0.0,0.0,0.0,0.0,0.0,0.0,0.0,0.0,0.0,0.0,0.0,0.0,0.0,0.0,0.0,0.0,0.0,0.0,0.0,0.0,0.0,0.0,0.0,0.0,0.0,0.0,0.0,0.0,0.0,0.0,0.0,0.0,0.0,0.0,0.0,0.0,0.0,0.0,0.0,0.0,0.0,0.0,0.0,0.0,0.0,0.009708737864077669,0.009708737864077669,0.019417475728155338,0.024271844660194174,0.03398058252427184,0.04854368932038835,0.05825242718446602,0.06310679611650485,0.07766990291262135,0.0825242718446602,0.09223300970873786,0.0970873786407767,0.10679611650485436,0.11165048543689321,0.11165048543689321,0.13106796116504854,0.13592233009708737,0.16990291262135923,0.17475728155339806,0.18446601941747573,0.21359223300970873,0.21844660194174756,0.23786407766990292,0.2669902912621359,0.27184466019417475,0.2912621359223301,0.2961165048543689,0.3106796116504854,0.32038834951456313,0.33495145631067963,0.34951456310679613,0.34951456310679613,0.3640776699029126,0.38349514563106796,0.3883495145631068,0.39805825242718446,0.39805825242718446,0.41262135922330095,0.4174757281553398,0.4174757281553398,0.4320388349514563,0.441747572815534,0.46601941747572817,0.47572815533980584,0.5,0.5145631067961165,0.5533980582524272,0.558252427184466,0.5970873786407767,0.6262135922330098,0.6359223300970874,0.6553398058252428,0.6650485436893204,0.6699029126213593,0.6893203883495146,0.6941747572815534,0.7087378640776699,0.7135922330097088,0.7427184466019418,0.7475728155339806,0.7524271844660194,0.7912621359223301,0.8203883495145631,0.8446601941747572,0.8786407766990292,0.9029126213592233,0.9660194174757282,1.0],\"y\":[0.0,0.0078125,0.0234375,0.03125,0.046875,0.0546875,0.0703125,0.078125,0.109375,0.125,0.171875,0.1953125,0.2109375,0.234375,0.2421875,0.2578125,0.296875,0.3125,0.3515625,0.3828125,0.3984375,0.4140625,0.4296875,0.4453125,0.46875,0.4765625,0.4921875,0.5,0.515625,0.5390625,0.5546875,0.5703125,0.5859375,0.6171875,0.640625,0.6640625,0.6875,0.703125,0.71875,0.765625,0.8125,0.828125,0.8359375,0.8515625,0.859375,0.859375,0.8671875,0.875,0.8828125,0.8828125,0.8828125,0.8828125,0.8828125,0.8828125,0.890625,0.890625,0.890625,0.890625,0.890625,0.8984375,0.8984375,0.8984375,0.90625,0.90625,0.9140625,0.9140625,0.921875,0.921875,0.921875,0.921875,0.921875,0.921875,0.9296875,0.9296875,0.9296875,0.9296875,0.9375,0.9375,0.9375,0.9375,0.9375,0.9453125,0.9453125,0.9453125,0.953125,0.953125,0.953125,0.953125,0.953125,0.96875,0.96875,0.9765625,0.9765625,0.9765625,0.984375,0.984375,0.984375,0.984375,0.984375,0.9921875,0.9921875,0.9921875,0.9921875,0.9921875,0.9921875,1.0,1.0,1.0,1.0,1.0,1.0,1.0,1.0],\"type\":\"scatter\"},{\"mode\":\"lines\",\"name\":\"SVM (Area = 0.97)\",\"x\":[0.0,0.0,0.0,0.0048543689320388345,0.0048543689320388345,0.009708737864077669,0.009708737864077669,0.014563106796116505,0.014563106796116505,0.019417475728155338,0.019417475728155338,0.03398058252427184,0.03398058252427184,0.07281553398058252,0.07281553398058252,0.2912621359223301,0.2912621359223301,0.4029126213592233,0.4029126213592233,0.6213592233009708,0.6213592233009708,0.6601941747572816,0.6601941747572816,0.7864077669902912,0.7864077669902912,1.0],\"y\":[0.0,0.0078125,0.1015625,0.1015625,0.4921875,0.4921875,0.5234375,0.5234375,0.765625,0.765625,0.9453125,0.9453125,0.953125,0.953125,0.9609375,0.9609375,0.96875,0.96875,0.9765625,0.9765625,0.984375,0.984375,0.9921875,0.9921875,1.0,1.0],\"type\":\"scatter\"},{\"mode\":\"lines\",\"name\":\"KNN (Area = 0.98)\",\"x\":[0.0,0.0048543689320388345,0.02912621359223301,0.09223300970873786,0.1407766990291262,0.2669902912621359,1.0],\"y\":[0.0,0.859375,0.921875,0.953125,0.984375,0.9921875,1.0],\"type\":\"scatter\"},{\"mode\":\"lines\",\"name\":\"CART (Area = 0.98)\",\"x\":[0.0,0.0,0.12135922330097088,0.24757281553398058,1.0],\"y\":[0.0,0.859375,0.90625,1.0,1.0],\"type\":\"scatter\"},{\"line\":{\"dash\":\"dash\"},\"mode\":\"lines\",\"name\":\"Random (Area = 0.5)\",\"x\":[0,1],\"y\":[0,1],\"type\":\"scatter\"}],                        {\"autosize\":false,\"height\":800,\"showlegend\":true,\"title\":{\"text\":\"Receiver Operating Characteristic\"},\"width\":800,\"xaxis\":{\"title\":{\"text\":\"False Positive Rate\"}},\"yaxis\":{\"title\":{\"text\":\"True Positive Rate\"}},\"template\":{\"data\":{\"histogram2dcontour\":[{\"type\":\"histogram2dcontour\",\"colorbar\":{\"outlinewidth\":0,\"ticks\":\"\"},\"colorscale\":[[0.0,\"#0d0887\"],[0.1111111111111111,\"#46039f\"],[0.2222222222222222,\"#7201a8\"],[0.3333333333333333,\"#9c179e\"],[0.4444444444444444,\"#bd3786\"],[0.5555555555555556,\"#d8576b\"],[0.6666666666666666,\"#ed7953\"],[0.7777777777777778,\"#fb9f3a\"],[0.8888888888888888,\"#fdca26\"],[1.0,\"#f0f921\"]]}],\"choropleth\":[{\"type\":\"choropleth\",\"colorbar\":{\"outlinewidth\":0,\"ticks\":\"\"}}],\"histogram2d\":[{\"type\":\"histogram2d\",\"colorbar\":{\"outlinewidth\":0,\"ticks\":\"\"},\"colorscale\":[[0.0,\"#0d0887\"],[0.1111111111111111,\"#46039f\"],[0.2222222222222222,\"#7201a8\"],[0.3333333333333333,\"#9c179e\"],[0.4444444444444444,\"#bd3786\"],[0.5555555555555556,\"#d8576b\"],[0.6666666666666666,\"#ed7953\"],[0.7777777777777778,\"#fb9f3a\"],[0.8888888888888888,\"#fdca26\"],[1.0,\"#f0f921\"]]}],\"heatmap\":[{\"type\":\"heatmap\",\"colorbar\":{\"outlinewidth\":0,\"ticks\":\"\"},\"colorscale\":[[0.0,\"#0d0887\"],[0.1111111111111111,\"#46039f\"],[0.2222222222222222,\"#7201a8\"],[0.3333333333333333,\"#9c179e\"],[0.4444444444444444,\"#bd3786\"],[0.5555555555555556,\"#d8576b\"],[0.6666666666666666,\"#ed7953\"],[0.7777777777777778,\"#fb9f3a\"],[0.8888888888888888,\"#fdca26\"],[1.0,\"#f0f921\"]]}],\"heatmapgl\":[{\"type\":\"heatmapgl\",\"colorbar\":{\"outlinewidth\":0,\"ticks\":\"\"},\"colorscale\":[[0.0,\"#0d0887\"],[0.1111111111111111,\"#46039f\"],[0.2222222222222222,\"#7201a8\"],[0.3333333333333333,\"#9c179e\"],[0.4444444444444444,\"#bd3786\"],[0.5555555555555556,\"#d8576b\"],[0.6666666666666666,\"#ed7953\"],[0.7777777777777778,\"#fb9f3a\"],[0.8888888888888888,\"#fdca26\"],[1.0,\"#f0f921\"]]}],\"contourcarpet\":[{\"type\":\"contourcarpet\",\"colorbar\":{\"outlinewidth\":0,\"ticks\":\"\"}}],\"contour\":[{\"type\":\"contour\",\"colorbar\":{\"outlinewidth\":0,\"ticks\":\"\"},\"colorscale\":[[0.0,\"#0d0887\"],[0.1111111111111111,\"#46039f\"],[0.2222222222222222,\"#7201a8\"],[0.3333333333333333,\"#9c179e\"],[0.4444444444444444,\"#bd3786\"],[0.5555555555555556,\"#d8576b\"],[0.6666666666666666,\"#ed7953\"],[0.7777777777777778,\"#fb9f3a\"],[0.8888888888888888,\"#fdca26\"],[1.0,\"#f0f921\"]]}],\"surface\":[{\"type\":\"surface\",\"colorbar\":{\"outlinewidth\":0,\"ticks\":\"\"},\"colorscale\":[[0.0,\"#0d0887\"],[0.1111111111111111,\"#46039f\"],[0.2222222222222222,\"#7201a8\"],[0.3333333333333333,\"#9c179e\"],[0.4444444444444444,\"#bd3786\"],[0.5555555555555556,\"#d8576b\"],[0.6666666666666666,\"#ed7953\"],[0.7777777777777778,\"#fb9f3a\"],[0.8888888888888888,\"#fdca26\"],[1.0,\"#f0f921\"]]}],\"mesh3d\":[{\"type\":\"mesh3d\",\"colorbar\":{\"outlinewidth\":0,\"ticks\":\"\"}}],\"scatter\":[{\"fillpattern\":{\"fillmode\":\"overlay\",\"size\":10,\"solidity\":0.2},\"type\":\"scatter\"}],\"parcoords\":[{\"type\":\"parcoords\",\"line\":{\"colorbar\":{\"outlinewidth\":0,\"ticks\":\"\"}}}],\"scatterpolargl\":[{\"type\":\"scatterpolargl\",\"marker\":{\"colorbar\":{\"outlinewidth\":0,\"ticks\":\"\"}}}],\"bar\":[{\"error_x\":{\"color\":\"#2a3f5f\"},\"error_y\":{\"color\":\"#2a3f5f\"},\"marker\":{\"line\":{\"color\":\"#E5ECF6\",\"width\":0.5},\"pattern\":{\"fillmode\":\"overlay\",\"size\":10,\"solidity\":0.2}},\"type\":\"bar\"}],\"scattergeo\":[{\"type\":\"scattergeo\",\"marker\":{\"colorbar\":{\"outlinewidth\":0,\"ticks\":\"\"}}}],\"scatterpolar\":[{\"type\":\"scatterpolar\",\"marker\":{\"colorbar\":{\"outlinewidth\":0,\"ticks\":\"\"}}}],\"histogram\":[{\"marker\":{\"pattern\":{\"fillmode\":\"overlay\",\"size\":10,\"solidity\":0.2}},\"type\":\"histogram\"}],\"scattergl\":[{\"type\":\"scattergl\",\"marker\":{\"colorbar\":{\"outlinewidth\":0,\"ticks\":\"\"}}}],\"scatter3d\":[{\"type\":\"scatter3d\",\"line\":{\"colorbar\":{\"outlinewidth\":0,\"ticks\":\"\"}},\"marker\":{\"colorbar\":{\"outlinewidth\":0,\"ticks\":\"\"}}}],\"scattermapbox\":[{\"type\":\"scattermapbox\",\"marker\":{\"colorbar\":{\"outlinewidth\":0,\"ticks\":\"\"}}}],\"scatterternary\":[{\"type\":\"scatterternary\",\"marker\":{\"colorbar\":{\"outlinewidth\":0,\"ticks\":\"\"}}}],\"scattercarpet\":[{\"type\":\"scattercarpet\",\"marker\":{\"colorbar\":{\"outlinewidth\":0,\"ticks\":\"\"}}}],\"carpet\":[{\"aaxis\":{\"endlinecolor\":\"#2a3f5f\",\"gridcolor\":\"white\",\"linecolor\":\"white\",\"minorgridcolor\":\"white\",\"startlinecolor\":\"#2a3f5f\"},\"baxis\":{\"endlinecolor\":\"#2a3f5f\",\"gridcolor\":\"white\",\"linecolor\":\"white\",\"minorgridcolor\":\"white\",\"startlinecolor\":\"#2a3f5f\"},\"type\":\"carpet\"}],\"table\":[{\"cells\":{\"fill\":{\"color\":\"#EBF0F8\"},\"line\":{\"color\":\"white\"}},\"header\":{\"fill\":{\"color\":\"#C8D4E3\"},\"line\":{\"color\":\"white\"}},\"type\":\"table\"}],\"barpolar\":[{\"marker\":{\"line\":{\"color\":\"#E5ECF6\",\"width\":0.5},\"pattern\":{\"fillmode\":\"overlay\",\"size\":10,\"solidity\":0.2}},\"type\":\"barpolar\"}],\"pie\":[{\"automargin\":true,\"type\":\"pie\"}]},\"layout\":{\"autotypenumbers\":\"strict\",\"colorway\":[\"#636efa\",\"#EF553B\",\"#00cc96\",\"#ab63fa\",\"#FFA15A\",\"#19d3f3\",\"#FF6692\",\"#B6E880\",\"#FF97FF\",\"#FECB52\"],\"font\":{\"color\":\"#2a3f5f\"},\"hovermode\":\"closest\",\"hoverlabel\":{\"align\":\"left\"},\"paper_bgcolor\":\"white\",\"plot_bgcolor\":\"#E5ECF6\",\"polar\":{\"bgcolor\":\"#E5ECF6\",\"angularaxis\":{\"gridcolor\":\"white\",\"linecolor\":\"white\",\"ticks\":\"\"},\"radialaxis\":{\"gridcolor\":\"white\",\"linecolor\":\"white\",\"ticks\":\"\"}},\"ternary\":{\"bgcolor\":\"#E5ECF6\",\"aaxis\":{\"gridcolor\":\"white\",\"linecolor\":\"white\",\"ticks\":\"\"},\"baxis\":{\"gridcolor\":\"white\",\"linecolor\":\"white\",\"ticks\":\"\"},\"caxis\":{\"gridcolor\":\"white\",\"linecolor\":\"white\",\"ticks\":\"\"}},\"coloraxis\":{\"colorbar\":{\"outlinewidth\":0,\"ticks\":\"\"}},\"colorscale\":{\"sequential\":[[0.0,\"#0d0887\"],[0.1111111111111111,\"#46039f\"],[0.2222222222222222,\"#7201a8\"],[0.3333333333333333,\"#9c179e\"],[0.4444444444444444,\"#bd3786\"],[0.5555555555555556,\"#d8576b\"],[0.6666666666666666,\"#ed7953\"],[0.7777777777777778,\"#fb9f3a\"],[0.8888888888888888,\"#fdca26\"],[1.0,\"#f0f921\"]],\"sequentialminus\":[[0.0,\"#0d0887\"],[0.1111111111111111,\"#46039f\"],[0.2222222222222222,\"#7201a8\"],[0.3333333333333333,\"#9c179e\"],[0.4444444444444444,\"#bd3786\"],[0.5555555555555556,\"#d8576b\"],[0.6666666666666666,\"#ed7953\"],[0.7777777777777778,\"#fb9f3a\"],[0.8888888888888888,\"#fdca26\"],[1.0,\"#f0f921\"]],\"diverging\":[[0,\"#8e0152\"],[0.1,\"#c51b7d\"],[0.2,\"#de77ae\"],[0.3,\"#f1b6da\"],[0.4,\"#fde0ef\"],[0.5,\"#f7f7f7\"],[0.6,\"#e6f5d0\"],[0.7,\"#b8e186\"],[0.8,\"#7fbc41\"],[0.9,\"#4d9221\"],[1,\"#276419\"]]},\"xaxis\":{\"gridcolor\":\"white\",\"linecolor\":\"white\",\"ticks\":\"\",\"title\":{\"standoff\":15},\"zerolinecolor\":\"white\",\"automargin\":true,\"zerolinewidth\":2},\"yaxis\":{\"gridcolor\":\"white\",\"linecolor\":\"white\",\"ticks\":\"\",\"title\":{\"standoff\":15},\"zerolinecolor\":\"white\",\"automargin\":true,\"zerolinewidth\":2},\"scene\":{\"xaxis\":{\"backgroundcolor\":\"#E5ECF6\",\"gridcolor\":\"white\",\"linecolor\":\"white\",\"showbackground\":true,\"ticks\":\"\",\"zerolinecolor\":\"white\",\"gridwidth\":2},\"yaxis\":{\"backgroundcolor\":\"#E5ECF6\",\"gridcolor\":\"white\",\"linecolor\":\"white\",\"showbackground\":true,\"ticks\":\"\",\"zerolinecolor\":\"white\",\"gridwidth\":2},\"zaxis\":{\"backgroundcolor\":\"#E5ECF6\",\"gridcolor\":\"white\",\"linecolor\":\"white\",\"showbackground\":true,\"ticks\":\"\",\"zerolinecolor\":\"white\",\"gridwidth\":2}},\"shapedefaults\":{\"line\":{\"color\":\"#2a3f5f\"}},\"annotationdefaults\":{\"arrowcolor\":\"#2a3f5f\",\"arrowhead\":0,\"arrowwidth\":1},\"geo\":{\"bgcolor\":\"white\",\"landcolor\":\"#E5ECF6\",\"subunitcolor\":\"white\",\"showland\":true,\"showlakes\":true,\"lakecolor\":\"white\"},\"title\":{\"x\":0.05},\"mapbox\":{\"style\":\"light\"}}}},                        {\"responsive\": true}                    ).then(function(){\n",
              "                            \n",
              "var gd = document.getElementById('fa070592-2417-4197-951d-c1aaa56a1d18');\n",
              "var x = new MutationObserver(function (mutations, observer) {{\n",
              "        var display = window.getComputedStyle(gd).display;\n",
              "        if (!display || display === 'none') {{\n",
              "            console.log([gd, 'removed!']);\n",
              "            Plotly.purge(gd);\n",
              "            observer.disconnect();\n",
              "        }}\n",
              "}});\n",
              "\n",
              "// Listen for the removal of the full notebook cells\n",
              "var notebookContainer = gd.closest('#notebook-container');\n",
              "if (notebookContainer) {{\n",
              "    x.observe(notebookContainer, {childList: true});\n",
              "}}\n",
              "\n",
              "// Listen for the clearing of the current output cell\n",
              "var outputEl = gd.closest('.output');\n",
              "if (outputEl) {{\n",
              "    x.observe(outputEl, {childList: true});\n",
              "}}\n",
              "\n",
              "                        })                };                            </script>        </div>\n",
              "</body>\n",
              "</html>"
            ]
          },
          "metadata": {}
        },
        {
          "output_type": "execute_result",
          "data": {
            "text/plain": [
              "'\\n# Plot ROC curve\\nimport matplotlib.pyplot as plt\\nplt.figure()\\nplt.plot(fpr, tpr, color=\\'darkorange\\', lw=2, label=\\'ROC curve (area = %0.2f)\\' % roc_auc)\\nplt.plot([0, 1], [0, 1], color=\\'navy\\', lw=2, linestyle=\\'--\\')\\nplt.xlim([0.0, 1.0])\\nplt.ylim([0.0, 1.05])\\nplt.xlabel(\\'False Positive Rate\\')\\nplt.ylabel(\\'True Positive Rate\\')\\nplt.title(\\'Receiver Operating Characteristic (ROC) Curve\\')\\nplt.legend(loc=\"lower right\")\\nplt.show()'"
            ],
            "application/vnd.google.colaboratory.intrinsic+json": {
              "type": "string"
            }
          },
          "metadata": {},
          "execution_count": 82
        }
      ],
      "source": [
        "import numpy as np\n",
        "import plotly.graph_objects as go\n",
        "from sklearn.linear_model import LogisticRegression\n",
        "from sklearn.svm import SVC\n",
        "from sklearn.metrics import roc_curve, roc_auc_score\n",
        "from sklearn.preprocessing import StandardScaler\n",
        "\n",
        "# Assuming that X_train, X_test, y_train, y_test are already defined\n",
        "\n",
        "# Random forest model\n",
        "Rm_scores = Rm_model.predict_proba(x_test)[:,1]\n",
        "\n",
        "# SVM model\n",
        "#clf_svm.predict(X_test)\n",
        "svm_scores = clf_svm.predict_proba(x_test)[:,1]\n",
        "\n",
        "# kNN_MODEL\n",
        "kNN_scores = kNN_MODEL.predict_proba(x_test)[:,1]\n",
        "\n",
        "#Cart Model\n",
        "cart_scores = cart_model.predict_proba(x_test)[:,1]\n",
        "\n",
        "#Naive Bayes ( Bernouili)\n",
        "NB_scores = NB_model.predict_proba(x_test)[:,1]\n",
        "\n",
        "\n",
        "\n",
        "# Generate ROC curve data for Random forest regression model\n",
        "rm_fpr, rm_tpr, rm_thresholds = roc_curve(y_test, Rm_scores)\n",
        "rm_auc = roc_auc_score(y_test, Rm_scores)\n",
        "\n",
        "# Generate ROC curve data for SVM model\n",
        "svm_fpr, svm_tpr, svm_thresholds = roc_curve(y_test, svm_scores)\n",
        "svm_auc = roc_auc_score(y_test, svm_scores)\n",
        "\n",
        "# Generate ROC curve data for CART model\n",
        "cart_fpr, cart_tpr, cart_thresholds = roc_curve(y_test, cart_scores)\n",
        "cart_auc = roc_auc_score(y_test, cart_scores)\n",
        "\n",
        "# Generate ROC curve data for Naive bayes model\n",
        "NB_fpr, NB_tpr, NB_thresholds = roc_curve(y_test, NB_scores)\n",
        "NB_auc = roc_auc_score(y_test, NB_scores)\n",
        "\n",
        "# Generate ROC curve data for Knn model\n",
        "Knn_fpr, Knn_tpr, Knn_thresholds = roc_curve(y_test, kNN_scores)\n",
        "Knn_auc = roc_auc_score(y_test, kNN_scores)\n",
        "\n",
        "\n",
        "# Generate a trace for the Random Forest ROC curve\n",
        "trace0 = go.Scatter(\n",
        "    x=rm_fpr,\n",
        "    y=rm_tpr,\n",
        "    mode='lines',\n",
        "    name=f'Random Forest(Area = {rm_auc:.2f})'\n",
        ")\n",
        "\n",
        "#Generate a trace for the SVM ROC curve\n",
        "trace1 = go.Scatter(\n",
        "    x=svm_fpr,\n",
        "    y=svm_tpr,\n",
        "    mode='lines',\n",
        "    name=f'SVM (Area = {svm_auc:.2f})'\n",
        "\n",
        ")\n",
        "\n",
        "\n",
        "# Generate a trace for the KNN ROC curve\n",
        "trace2 = go.Scatter(\n",
        "    x=Knn_fpr,\n",
        "    y=Knn_tpr,\n",
        "    mode='lines',\n",
        "    name=f'KNN (Area = {Knn_auc:.2f})'\n",
        ")\n",
        "\n",
        "# Generate a trace for the Cart ROC curve\n",
        "trace3 = go.Scatter(\n",
        "    x=cart_fpr,\n",
        "    y=cart_tpr,\n",
        "    mode='lines',\n",
        "    name=f'CART (Area = {cart_auc:.2f})'\n",
        ")\n",
        "\n",
        "# Generate a trace for the Naive bayes  ROC curve\n",
        "'''trace4 = go.Scatter(\n",
        "    x=NB_fpr,\n",
        "    y=NB_tpr,\n",
        "    mode='lines',\n",
        "    name=f'Naive Baiyes (Area = {NB_auc:.2f})'\n",
        ")\n",
        "'''\n",
        "\n",
        "# Diagonal line\n",
        "trace5 = go.Scatter(\n",
        "    x=[0, 1],\n",
        "    y=[0, 1],\n",
        "    mode='lines',\n",
        "    name='Random (Area = 0.5)',\n",
        "    line=dict(dash='dash')\n",
        ")\n",
        "\n",
        "data = [trace0,trace1,trace2,trace3,trace5]\n",
        "\n",
        "# Define layout with square aspect ratio\n",
        "layout = go.Layout(\n",
        "    title='Receiver Operating Characteristic',\n",
        "    xaxis=dict(title='False Positive Rate'),\n",
        "    yaxis=dict(title='True Positive Rate'),\n",
        "    autosize=False,\n",
        "    width=800,\n",
        "    height=800,\n",
        "    showlegend=True\n",
        ")\n",
        "\n",
        "# Define figure and add data\n",
        "fig = go.Figure(data=data, layout=layout)\n",
        "\n",
        "# Show figure\n",
        "fig.show()\n",
        "\n",
        "\n",
        "'''\n",
        "# Plot ROC curve\n",
        "import matplotlib.pyplot as plt\n",
        "plt.figure()\n",
        "plt.plot(fpr, tpr, color='darkorange', lw=2, label='ROC curve (area = %0.2f)' % roc_auc)\n",
        "plt.plot([0, 1], [0, 1], color='navy', lw=2, linestyle='--')\n",
        "plt.xlim([0.0, 1.0])\n",
        "plt.ylim([0.0, 1.05])\n",
        "plt.xlabel('False Positive Rate')\n",
        "plt.ylabel('True Positive Rate')\n",
        "plt.title('Receiver Operating Characteristic (ROC) Curve')\n",
        "plt.legend(loc=\"lower right\")\n",
        "plt.show()'''"
      ]
    },
    {
      "cell_type": "markdown",
      "id": "2a3d299f",
      "metadata": {
        "id": "2a3d299f"
      },
      "source": [
        "# Bayesian Statistical Model"
      ]
    },
    {
      "cell_type": "markdown",
      "id": "c4956db1",
      "metadata": {
        "id": "c4956db1"
      },
      "source": [
        "# Dataset for this type of models Use df (with balanced the dataset)"
      ]
    },
    {
      "cell_type": "code",
      "execution_count": null,
      "id": "c80b4549",
      "metadata": {
        "id": "c80b4549"
      },
      "outputs": [],
      "source": [
        "df_oversampled.info()"
      ]
    },
    {
      "cell_type": "code",
      "execution_count": null,
      "id": "13ad6890",
      "metadata": {
        "id": "13ad6890"
      },
      "outputs": [],
      "source": [
        "df.columns.values"
      ]
    },
    {
      "cell_type": "code",
      "execution_count": null,
      "id": "c4401a50",
      "metadata": {
        "id": "c4401a50"
      },
      "outputs": [],
      "source": [
        "from sklearn.svm import SVC\n",
        "svm_model = SVC(kernel=\"linear\", probability=True)\n",
        "clf_svm = svm_model.fit(x_train_oversampled, y_train_oversampled)\n",
        "pred_y_svm = clf_svm.predict(x_test)\n",
        "from sklearn.metrics import accuracy_score\n",
        "score_svm = accuracy_score(y_test['AMI'], pred_y_svm)\n",
        "print('Accuracy Score: ', score_svm)\n",
        "# Look at classification report to evaluate the model\n",
        "print(classification_report(y_test, pred_y_svm))\n",
        "print(pd.crosstab(y_test['AMI'], pred_y_svm))"
      ]
    },
    {
      "cell_type": "code",
      "execution_count": null,
      "id": "551f5d54",
      "metadata": {
        "id": "551f5d54"
      },
      "outputs": [],
      "source": [
        "import statsmodels.api as sm\n",
        "import statsmodels.formula.api as smf\n",
        "\n",
        "glm_model = smf.glm(formula = \"AMI ~ HTN + DM + SMK + DL + FH + Sex + NSTEMI + SA + UA + HOCABG + HOPCI + Age_Group + LDL1 + HDL1 + TG1 + EF1 + Indication1 + TC1 \",\n",
        "                data = df_oversampled,\n",
        "                family = sm.families.Binomial())\n",
        "\n",
        "# Fit the model\n",
        "result = glm_model.fit()\n",
        "\n",
        "# Display and interpret results\n",
        "\n",
        "print(result.summary())"
      ]
    },
    {
      "cell_type": "code",
      "execution_count": null,
      "id": "88e4af25",
      "metadata": {
        "id": "88e4af25"
      },
      "outputs": [],
      "source": [
        "# Estimated default probabilities\n",
        "predictions = result.predict()"
      ]
    },
    {
      "cell_type": "code",
      "execution_count": null,
      "id": "b6e9444e",
      "metadata": {
        "id": "b6e9444e"
      },
      "outputs": [],
      "source": [
        "glm_y_pred=pd.DataFrame(predictions)\n",
        "glm_y_pred=glm_y_pred.round()\n",
        "glm_y_pred=glm_y_pred.astype('int')"
      ]
    },
    {
      "cell_type": "code",
      "execution_count": null,
      "id": "92bd1f01",
      "metadata": {
        "id": "92bd1f01"
      },
      "outputs": [],
      "source": [
        "glm_y_pred.value_counts()"
      ]
    },
    {
      "cell_type": "code",
      "execution_count": null,
      "id": "217aa53b",
      "metadata": {
        "id": "217aa53b"
      },
      "outputs": [],
      "source": [
        "print(\"Normal accuracy: \", accuracy_score(df_oversampled['AMI'], glm_y_pred))\n",
        "print(classification_report(df_oversampled['AMI'], glm_y_pred))"
      ]
    },
    {
      "cell_type": "code",
      "execution_count": null,
      "id": "23e0fca7",
      "metadata": {
        "id": "23e0fca7"
      },
      "outputs": [],
      "source": [
        "glm_y_pred=glm_y_pred.values.flatten()\n",
        "pd.crosstab(df_oversampled['AMI'],glm_y_pred)"
      ]
    },
    {
      "cell_type": "code",
      "execution_count": null,
      "id": "eb5e7609",
      "metadata": {
        "id": "eb5e7609"
      },
      "outputs": [],
      "source": [
        "#Cohen Kappa Score's\n",
        "from sklearn.metrics import cohen_kappa_score\n",
        "cohen_kappa_score(df_oversampled['AMI'],glm_y_pred)"
      ]
    },
    {
      "cell_type": "markdown",
      "id": "af22c526",
      "metadata": {
        "id": "af22c526"
      },
      "source": [
        "# Bayesian GLM"
      ]
    },
    {
      "cell_type": "code",
      "execution_count": null,
      "id": "8ad9c697",
      "metadata": {
        "id": "8ad9c697"
      },
      "outputs": [],
      "source": [
        "# Pandas and numpy for data manipulation\n",
        "import pandas as pd\n",
        "import numpy as np\n",
        "np.random.seed(42)\n",
        "\n",
        "\n",
        "# Matplotlib and seaborn for plotting\n",
        "import matplotlib.pyplot as plt\n",
        "%matplotlib inline\n",
        "\n",
        "import matplotlib\n",
        "matplotlib.rcParams['font.size'] = 16\n",
        "matplotlib.rcParams['figure.figsize'] = (9, 9)\n",
        "\n",
        "import seaborn as sns\n",
        "\n",
        "from IPython.core.pylabtools import figsize\n",
        "\n",
        "# Scipy helper functions\n",
        "from scipy.stats import percentileofscore\n",
        "from scipy import stats"
      ]
    },
    {
      "cell_type": "code",
      "execution_count": null,
      "id": "1817c8a7",
      "metadata": {
        "id": "1817c8a7"
      },
      "outputs": [],
      "source": [
        "# Standard ML Models for comparison\n",
        "from sklearn.linear_model import LinearRegression\n",
        "from sklearn.linear_model import ElasticNet\n",
        "from sklearn.ensemble import RandomForestRegressor\n",
        "from sklearn.ensemble import ExtraTreesRegressor\n",
        "from sklearn.ensemble import GradientBoostingRegressor\n",
        "from sklearn.svm import SVR\n",
        "\n",
        "# Splitting data into training/testing\n",
        "from sklearn.model_selection import train_test_split\n",
        "from sklearn.preprocessing import MinMaxScaler\n",
        "\n",
        "# Metrics\n",
        "from sklearn.metrics import mean_squared_error, mean_absolute_error, median_absolute_error\n",
        "\n",
        "# Distributions\n",
        "import scipy"
      ]
    },
    {
      "cell_type": "code",
      "execution_count": null,
      "id": "7d61abe6",
      "metadata": {
        "id": "7d61abe6"
      },
      "outputs": [],
      "source": [
        "from sklearn.model_selection import train_test_split\n",
        "x_Bayesian= df_oversampled.drop('AMI',axis=1)\n",
        "y_Bayesian = df_oversampled['AMI']\n",
        "X_train_Bayesian, X_test_Bayesian, y_train_Bayesian, y_test_Bayesian = train_test_split(X_Bayesian, y_Bayesian, test_size=0.3, random_state=0)"
      ]
    },
    {
      "cell_type": "code",
      "execution_count": null,
      "id": "2312c64b",
      "metadata": {
        "id": "2312c64b"
      },
      "outputs": [],
      "source": [
        "# PyMC3 for Bayesian Inference\n",
        "import pymc3 as pm"
      ]
    },
    {
      "cell_type": "code",
      "execution_count": null,
      "id": "d30ec32e",
      "metadata": {
        "id": "d30ec32e"
      },
      "outputs": [],
      "source": [
        "# Formula for Bayesian Linear Regression (follows R formula syntax\n",
        "formula = df['AMI'] ~ + ' + '.join(['%s' % variable for variable in X_train_Bayesian.columns[1:]])\n",
        "formula"
      ]
    },
    {
      "cell_type": "code",
      "execution_count": null,
      "id": "b15f9340",
      "metadata": {
        "id": "b15f9340"
      },
      "outputs": [],
      "source": [
        "pip install bambi"
      ]
    },
    {
      "cell_type": "code",
      "execution_count": null,
      "id": "3ee55182",
      "metadata": {
        "id": "3ee55182"
      },
      "outputs": [],
      "source": [
        "import arviz as az\n",
        "import bambi as bmb\n",
        "import pandas as pd\n",
        "\n",
        "# Initialize the fixed effects only model\n",
        "model = bmb.Model(\"AMI ~ HTN + DM + SMK + DL + FH + Sex + NSTEMI + SA + UA + HOCABG + HOPCI + Age_Group + LDL1 + HDL1 + TG1 + EF1 + Indication1 + TC1 \",\n",
        "                data = df_oversampled)\n",
        "\n",
        "# Fit the model using 1000 on each of 4 chains\n",
        "results = model.fit(draws=1000, chains=4)\n",
        "\n",
        "# Use ArviZ to plot the results\n",
        "az.plot_trace(results)\n",
        "\n",
        "# Key summary and diagnostic info on the model parameters\n",
        "az.summary(results)"
      ]
    },
    {
      "cell_type": "code",
      "execution_count": null,
      "id": "77bfc7ac",
      "metadata": {
        "id": "77bfc7ac"
      },
      "outputs": [],
      "source": [
        "# Context for the model\n",
        "with pm.Model() as normal_model:\n",
        "\n",
        "    # The prior for the model parameters will be a normal distribution\n",
        "    family = pm.glm.families.Normal()\n",
        "\n",
        "    # Creating the model requires a formula and data (and optionally a family)\n",
        "    pm.GLM.from_formula(formula, data = X_train_Bayesian, family = family)\n",
        "\n",
        "    # Perform Markov Chain Monte Carlo sampling\n",
        "    normal_trace = pm.sample(draws=2000, chains = 2, tune = 500, njobs=-1)"
      ]
    },
    {
      "cell_type": "code",
      "execution_count": null,
      "id": "9fa470c3",
      "metadata": {
        "id": "9fa470c3"
      },
      "outputs": [],
      "source": [
        "import arviz as az\n",
        "import bambi as bmb\n",
        "import matplotlib.pyplot as plt\n",
        "import numpy as np\n",
        "import pandas as pd\n",
        "import pymc3 as pm\n",
        "\n",
        "from pymc3 import HalfCauchy, Model, Normal, glm, plot_posterior_predictive_glm, sample\n",
        "\n",
        "print(f\"Running on PyMC3 v{pm.__version__}\")"
      ]
    },
    {
      "cell_type": "code",
      "execution_count": null,
      "id": "b64d8a6f",
      "metadata": {
        "id": "b64d8a6f"
      },
      "outputs": [],
      "source": [
        "from sklearn.model_selection import train_test_split\n",
        "x_Bayesian= df_oversampled.drop('AMI',axis=1)\n",
        "y_Bayesian = df_oversampled['AMI']\n",
        "X_train_Bayesian, X_test_Bayesian, y_train_Bayesian, y_test_Bayesian = train_test_split(X_Bayesian, y_Bayesian, test_size=0.3, random_state=0)"
      ]
    },
    {
      "cell_type": "code",
      "execution_count": null,
      "id": "6b28e330",
      "metadata": {
        "id": "6b28e330"
      },
      "outputs": [],
      "source": [
        "y_Bayesian=pd.DataFrame(y_Bayesian)"
      ]
    },
    {
      "cell_type": "code",
      "execution_count": null,
      "id": "e9ddc46b",
      "metadata": {
        "id": "e9ddc46b"
      },
      "outputs": [],
      "source": [
        "with Model() as model:  # model specifications in PyMC3 are wrapped in a with-statement\n",
        "    # Define priors\n",
        "    sigma = HalfCauchy(\"sigma\", beta=10, testval=1.0)\n",
        "    intercept = Normal(\"Intercept\", 0, sigma=20)\n",
        "    x_coeff = Normal(\"x_Bayesian\", 0, sigma=20)\n",
        "\n",
        "    # Define likelihood  (1,980) (980,18)\n",
        "    likelihood = Normal(\"y_Bayesian\", mu=intercept + x_coeff * x_Bayesian, sigma=sigma, observed=y_Bayesian)\n",
        "\n",
        "    # Inference!\n",
        "    # draw 3000 posterior samples using NUTS sampling\n",
        "    trace = sample(3000, return_inferencedata=True)"
      ]
    },
    {
      "cell_type": "code",
      "execution_count": null,
      "id": "1f0101a2",
      "metadata": {
        "id": "1f0101a2"
      },
      "outputs": [],
      "source": [
        "model = bmb.Model(\"AMI ~ HTN + DM + SMK + DL + FH + Sex + NSTEMI + SA + UA + HOCABG + HOPCI + Age_Group + LDL1 + HDL1 + TG1 + EF1 + Indication1 + TC1 \",\n",
        "                data = df_oversampled)\n",
        "trace = model.fit(draws=3000)"
      ]
    },
    {
      "cell_type": "markdown",
      "id": "ebdf4627",
      "metadata": {
        "id": "ebdf4627"
      },
      "source": [
        "# Roc Curve"
      ]
    },
    {
      "cell_type": "code",
      "execution_count": null,
      "id": "d63882e5",
      "metadata": {
        "id": "d63882e5"
      },
      "outputs": [],
      "source": [
        "import numpy as np\n",
        "import plotly.graph_objects as go\n",
        "from sklearn.linear_model import LogisticRegression\n",
        "from sklearn.svm import SVC\n",
        "from sklearn.metrics import roc_curve, roc_auc_score\n",
        "from sklearn.preprocessing import StandardScaler\n",
        "\n",
        "# Assuming that X_train, X_test, y_train, y_test are already defined\n",
        "\n",
        "# Random forest model\n",
        "Rm_scores = result.predict_proba(X_test_MinMaxScaller)[:,1]\n",
        "\n",
        "# Generate ROC curve data for Random forest regression model\n",
        "rm_fpr, rm_tpr, rm_thresholds = roc_curve(y_test_MinMaxScaller, Rm_scores)\n",
        "rm_auc = roc_auc_score(X_test_MinMaxScaller, Rm_scores)\n",
        "\n",
        "\n",
        "# Generate a trace for the Naive bayes  ROC curve\n",
        "trace4 = go.Scatter(\n",
        "    x=NB_fpr,\n",
        "    y=NB_tpr,\n",
        "    mode='lines',\n",
        "    name=f'Naive Baiyes (Area = {NB_auc:.2f})'\n",
        ")\n",
        "\n",
        "\n",
        "# Diagonal line\n",
        "trace5 = go.Scatter(\n",
        "    x=[0, 1],\n",
        "    y=[0, 1],\n",
        "    mode='lines',\n",
        "    name='Random (Area = 0.5)',\n",
        "    line=dict(dash='dash')\n",
        ")\n",
        "\n",
        "data = [trace0]\n",
        "\n",
        "# Define layout with square aspect ratio\n",
        "layout = go.Layout(\n",
        "    title='Receiver Operating Characteristic',\n",
        "    xaxis=dict(title='False Positive Rate'),\n",
        "    yaxis=dict(title='True Positive Rate'),\n",
        "    autosize=False,\n",
        "    width=800,\n",
        "    height=800,\n",
        "    showlegend=True\n",
        ")\n",
        "\n",
        "# Define figure and add data\n",
        "fig = go.Figure(data=data, layout=layout)\n",
        "\n",
        "# Show figure\n",
        "fig.show()"
      ]
    },
    {
      "cell_type": "code",
      "execution_count": null,
      "id": "cbf21d80",
      "metadata": {
        "id": "cbf21d80"
      },
      "outputs": [],
      "source": [
        "glm.fit <- glm(Severity_Binary ~ Side + State + Timezone + Temperature.F. + Wind_Chill.F. + Humidity... + Pressure.in. + Visibility.mi. + Wind_Direction + Wind_Speed.mph. + Precipitation.in. + Amenity + Bump + Crossing + Give_Way + Junction + No_Exit + Railway + Station + Stop + Traffic_Calming + Traffic_Signal + Sunrise_Sunset' , data = train_data, family = binomial)\n",
        "\n",
        "glm.probs <- predict(glm.fit,type = \"response\")\n",
        "\n",
        "glm.probs = predict(glm.fit, newdata = test_data, type = \"response\")\n",
        "glm.pred = ifelse(glm.probs > 0.5, \"1\", \"0\")"
      ]
    },
    {
      "cell_type": "markdown",
      "id": "08b55b32",
      "metadata": {
        "id": "08b55b32"
      },
      "source": [
        "https://www.pymc.io/projects/docs/en/v3.11.4/pymc-examples/examples/generalized_linear_models/GLM-linear.html"
      ]
    },
    {
      "cell_type": "code",
      "execution_count": null,
      "id": "e49d1247",
      "metadata": {
        "id": "e49d1247"
      },
      "outputs": [],
      "source": []
    },
    {
      "cell_type": "code",
      "execution_count": null,
      "id": "14366c11",
      "metadata": {
        "id": "14366c11"
      },
      "outputs": [],
      "source": []
    },
    {
      "cell_type": "code",
      "execution_count": null,
      "id": "7bc21d0a",
      "metadata": {
        "id": "7bc21d0a"
      },
      "outputs": [],
      "source": []
    },
    {
      "cell_type": "code",
      "execution_count": null,
      "id": "611ee0c4",
      "metadata": {
        "id": "611ee0c4"
      },
      "outputs": [],
      "source": []
    },
    {
      "cell_type": "code",
      "execution_count": null,
      "id": "3d432707",
      "metadata": {
        "id": "3d432707"
      },
      "outputs": [],
      "source": []
    },
    {
      "cell_type": "code",
      "execution_count": null,
      "id": "8148d52c",
      "metadata": {
        "id": "8148d52c"
      },
      "outputs": [],
      "source": []
    },
    {
      "cell_type": "code",
      "execution_count": null,
      "id": "cfbd15e6",
      "metadata": {
        "id": "cfbd15e6"
      },
      "outputs": [],
      "source": []
    },
    {
      "cell_type": "code",
      "execution_count": null,
      "id": "787051fc",
      "metadata": {
        "id": "787051fc"
      },
      "outputs": [],
      "source": []
    },
    {
      "cell_type": "code",
      "execution_count": null,
      "id": "a18ddb3b",
      "metadata": {
        "id": "a18ddb3b"
      },
      "outputs": [],
      "source": []
    },
    {
      "cell_type": "code",
      "execution_count": null,
      "id": "e9cf9141",
      "metadata": {
        "id": "e9cf9141"
      },
      "outputs": [],
      "source": []
    },
    {
      "cell_type": "code",
      "execution_count": null,
      "id": "d5bae593",
      "metadata": {
        "id": "d5bae593"
      },
      "outputs": [],
      "source": []
    },
    {
      "cell_type": "code",
      "execution_count": null,
      "id": "b11bd743",
      "metadata": {
        "id": "b11bd743"
      },
      "outputs": [],
      "source": []
    },
    {
      "cell_type": "code",
      "execution_count": null,
      "id": "6e304a58",
      "metadata": {
        "id": "6e304a58"
      },
      "outputs": [],
      "source": []
    },
    {
      "cell_type": "code",
      "execution_count": null,
      "id": "b54b4e4b",
      "metadata": {
        "id": "b54b4e4b"
      },
      "outputs": [],
      "source": []
    },
    {
      "cell_type": "code",
      "execution_count": null,
      "id": "626ab945",
      "metadata": {
        "id": "626ab945"
      },
      "outputs": [],
      "source": []
    },
    {
      "cell_type": "code",
      "execution_count": null,
      "id": "7f4699e7",
      "metadata": {
        "id": "7f4699e7"
      },
      "outputs": [],
      "source": []
    },
    {
      "cell_type": "code",
      "execution_count": null,
      "id": "e4ec9fea",
      "metadata": {
        "id": "e4ec9fea"
      },
      "outputs": [],
      "source": []
    },
    {
      "cell_type": "code",
      "execution_count": null,
      "id": "f6e147e5",
      "metadata": {
        "id": "f6e147e5"
      },
      "outputs": [],
      "source": []
    },
    {
      "cell_type": "code",
      "execution_count": null,
      "id": "7eb986ff",
      "metadata": {
        "id": "7eb986ff"
      },
      "outputs": [],
      "source": []
    },
    {
      "cell_type": "code",
      "execution_count": null,
      "id": "6c16a4b1",
      "metadata": {
        "id": "6c16a4b1"
      },
      "outputs": [],
      "source": []
    },
    {
      "cell_type": "code",
      "execution_count": null,
      "id": "2231ee8a",
      "metadata": {
        "id": "2231ee8a"
      },
      "outputs": [],
      "source": []
    },
    {
      "cell_type": "code",
      "execution_count": null,
      "id": "4a35c8e0",
      "metadata": {
        "id": "4a35c8e0"
      },
      "outputs": [],
      "source": []
    },
    {
      "cell_type": "code",
      "execution_count": null,
      "id": "12f17cc2",
      "metadata": {
        "id": "12f17cc2"
      },
      "outputs": [],
      "source": []
    },
    {
      "cell_type": "code",
      "execution_count": null,
      "id": "f7328642",
      "metadata": {
        "id": "f7328642"
      },
      "outputs": [],
      "source": []
    },
    {
      "cell_type": "code",
      "execution_count": null,
      "id": "3a9fd8a8",
      "metadata": {
        "id": "3a9fd8a8"
      },
      "outputs": [],
      "source": []
    },
    {
      "cell_type": "code",
      "execution_count": null,
      "id": "f6f2a4ee",
      "metadata": {
        "id": "f6f2a4ee"
      },
      "outputs": [],
      "source": []
    },
    {
      "cell_type": "code",
      "execution_count": null,
      "id": "5fc5000d",
      "metadata": {
        "id": "5fc5000d"
      },
      "outputs": [],
      "source": []
    },
    {
      "cell_type": "code",
      "execution_count": null,
      "id": "b7f70cb7",
      "metadata": {
        "id": "b7f70cb7"
      },
      "outputs": [],
      "source": []
    },
    {
      "cell_type": "code",
      "execution_count": null,
      "id": "5cf12482",
      "metadata": {
        "id": "5cf12482"
      },
      "outputs": [],
      "source": []
    },
    {
      "cell_type": "code",
      "execution_count": null,
      "id": "25e28dec",
      "metadata": {
        "id": "25e28dec"
      },
      "outputs": [],
      "source": []
    },
    {
      "cell_type": "code",
      "execution_count": null,
      "id": "c288748e",
      "metadata": {
        "id": "c288748e"
      },
      "outputs": [],
      "source": []
    },
    {
      "cell_type": "code",
      "execution_count": null,
      "id": "34cd532f",
      "metadata": {
        "id": "34cd532f"
      },
      "outputs": [],
      "source": []
    },
    {
      "cell_type": "code",
      "execution_count": null,
      "id": "60f0936a",
      "metadata": {
        "id": "60f0936a"
      },
      "outputs": [],
      "source": []
    },
    {
      "cell_type": "code",
      "execution_count": null,
      "id": "afc354b8",
      "metadata": {
        "id": "afc354b8"
      },
      "outputs": [],
      "source": []
    },
    {
      "cell_type": "code",
      "execution_count": null,
      "id": "ef632d31",
      "metadata": {
        "id": "ef632d31"
      },
      "outputs": [],
      "source": []
    },
    {
      "cell_type": "code",
      "execution_count": null,
      "id": "0de28f37",
      "metadata": {
        "id": "0de28f37"
      },
      "outputs": [],
      "source": []
    },
    {
      "cell_type": "code",
      "execution_count": null,
      "id": "fbe1a643",
      "metadata": {
        "id": "fbe1a643"
      },
      "outputs": [],
      "source": []
    },
    {
      "cell_type": "code",
      "execution_count": null,
      "id": "a29a66d7",
      "metadata": {
        "id": "a29a66d7"
      },
      "outputs": [],
      "source": []
    },
    {
      "cell_type": "code",
      "execution_count": null,
      "id": "8face118",
      "metadata": {
        "id": "8face118"
      },
      "outputs": [],
      "source": []
    },
    {
      "cell_type": "code",
      "execution_count": null,
      "id": "9132cb69",
      "metadata": {
        "id": "9132cb69"
      },
      "outputs": [],
      "source": []
    },
    {
      "cell_type": "code",
      "execution_count": null,
      "id": "2a497beb",
      "metadata": {
        "id": "2a497beb"
      },
      "outputs": [],
      "source": []
    },
    {
      "cell_type": "code",
      "execution_count": null,
      "id": "029458cc",
      "metadata": {
        "id": "029458cc"
      },
      "outputs": [],
      "source": []
    },
    {
      "cell_type": "code",
      "execution_count": null,
      "id": "bd76e50d",
      "metadata": {
        "id": "bd76e50d"
      },
      "outputs": [],
      "source": []
    },
    {
      "cell_type": "code",
      "execution_count": null,
      "id": "d629e104",
      "metadata": {
        "id": "d629e104"
      },
      "outputs": [],
      "source": []
    },
    {
      "cell_type": "code",
      "execution_count": null,
      "id": "e4cab268",
      "metadata": {
        "id": "e4cab268"
      },
      "outputs": [],
      "source": []
    },
    {
      "cell_type": "code",
      "execution_count": null,
      "id": "976af545",
      "metadata": {
        "id": "976af545"
      },
      "outputs": [],
      "source": []
    },
    {
      "cell_type": "code",
      "execution_count": null,
      "id": "cfd5985c",
      "metadata": {
        "id": "cfd5985c"
      },
      "outputs": [],
      "source": []
    },
    {
      "cell_type": "code",
      "execution_count": null,
      "id": "60026d35",
      "metadata": {
        "id": "60026d35"
      },
      "outputs": [],
      "source": []
    },
    {
      "cell_type": "code",
      "execution_count": null,
      "id": "7c287f29",
      "metadata": {
        "id": "7c287f29"
      },
      "outputs": [],
      "source": []
    },
    {
      "cell_type": "code",
      "execution_count": null,
      "id": "04b48128",
      "metadata": {
        "id": "04b48128"
      },
      "outputs": [],
      "source": []
    },
    {
      "cell_type": "code",
      "execution_count": null,
      "id": "e886dde2",
      "metadata": {
        "id": "e886dde2"
      },
      "outputs": [],
      "source": []
    },
    {
      "cell_type": "code",
      "execution_count": null,
      "id": "f77da958",
      "metadata": {
        "id": "f77da958"
      },
      "outputs": [],
      "source": []
    },
    {
      "cell_type": "code",
      "execution_count": null,
      "id": "f9f8eb0f",
      "metadata": {
        "id": "f9f8eb0f"
      },
      "outputs": [],
      "source": []
    },
    {
      "cell_type": "code",
      "execution_count": null,
      "id": "657dfe62",
      "metadata": {
        "id": "657dfe62"
      },
      "outputs": [],
      "source": []
    },
    {
      "cell_type": "code",
      "execution_count": null,
      "id": "8c679311",
      "metadata": {
        "id": "8c679311"
      },
      "outputs": [],
      "source": []
    },
    {
      "cell_type": "code",
      "execution_count": null,
      "id": "ea460392",
      "metadata": {
        "id": "ea460392"
      },
      "outputs": [],
      "source": []
    },
    {
      "cell_type": "code",
      "execution_count": null,
      "id": "ba991254",
      "metadata": {
        "id": "ba991254"
      },
      "outputs": [],
      "source": []
    },
    {
      "cell_type": "code",
      "execution_count": null,
      "id": "c3243db7",
      "metadata": {
        "id": "c3243db7"
      },
      "outputs": [],
      "source": []
    },
    {
      "cell_type": "code",
      "execution_count": null,
      "id": "9ac50aeb",
      "metadata": {
        "id": "9ac50aeb"
      },
      "outputs": [],
      "source": []
    },
    {
      "cell_type": "code",
      "execution_count": null,
      "id": "55817a95",
      "metadata": {
        "id": "55817a95"
      },
      "outputs": [],
      "source": []
    },
    {
      "cell_type": "code",
      "execution_count": null,
      "id": "2e74af89",
      "metadata": {
        "id": "2e74af89"
      },
      "outputs": [],
      "source": []
    },
    {
      "cell_type": "code",
      "execution_count": null,
      "id": "18fdb562",
      "metadata": {
        "id": "18fdb562"
      },
      "outputs": [],
      "source": []
    },
    {
      "cell_type": "code",
      "execution_count": null,
      "id": "647c5953",
      "metadata": {
        "id": "647c5953"
      },
      "outputs": [],
      "source": []
    },
    {
      "cell_type": "code",
      "execution_count": null,
      "id": "582d036b",
      "metadata": {
        "id": "582d036b"
      },
      "outputs": [],
      "source": []
    },
    {
      "cell_type": "code",
      "execution_count": null,
      "id": "5cbecac6",
      "metadata": {
        "id": "5cbecac6"
      },
      "outputs": [],
      "source": []
    }
  ],
  "metadata": {
    "kernelspec": {
      "display_name": "Python 3",
      "name": "python3"
    },
    "language_info": {
      "codemirror_mode": {
        "name": "ipython",
        "version": 3
      },
      "file_extension": ".py",
      "mimetype": "text/x-python",
      "name": "python",
      "nbconvert_exporter": "python",
      "pygments_lexer": "ipython3",
      "version": "3.10.9"
    },
    "colab": {
      "provenance": [],
      "gpuType": "T4"
    },
    "accelerator": "GPU"
  },
  "nbformat": 4,
  "nbformat_minor": 5
}